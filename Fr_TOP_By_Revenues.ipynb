{
 "cells": [
  {
   "cell_type": "code",
   "execution_count": 1,
   "metadata": {},
   "outputs": [],
   "source": [
    "import pandas as pd\n",
    "import matplotlib.pyplot"
   ]
  },
  {
   "cell_type": "code",
   "execution_count": 2,
   "metadata": {},
   "outputs": [
    {
     "name": "stdout",
     "output_type": "stream",
     "text": [
      "                            Name  Revenues ($M)  Year\n",
      "0                  Elf Aquitaine        39459.1  1995\n",
      "1  Union Des Assurances de Paris        34597.0  1995\n",
      "2                        Renault        32188.0  1995\n",
      "3                Alcatel Alsthom        30223.9  1995\n",
      "4                        Peugeot        30112.3  1995\n"
     ]
    }
   ],
   "source": [
    "# Load the dataset\n",
    "file_path = 'France_TOP10_Companies_1995_2023.csv'\n",
    "df = pd.read_csv(file_path)\n",
    "\n",
    "# Clean the revenues column to remove spaces and convert to float\n",
    "df['Revenues ($M)'] = df['Revenues ($M)'].apply(lambda x: float(str(x).replace(' ', '').replace('$', '').replace(',', '')))\n",
    "\n",
    "# Ensure the Year column is integer\n",
    "df['Year'] = df['Year'].astype(int)\n",
    "\n",
    "# Print the first few rows to check the data\n",
    "print(df.head())"
   ]
  },
  {
   "cell_type": "code",
   "execution_count": 3,
   "metadata": {},
   "outputs": [
    {
     "name": "stdout",
     "output_type": "stream",
     "text": [
      "                       Nom de l'entreprise  Nombre d'occurrences\n",
      "0                                Carrefour                    27\n",
      "1                                      AXA                    27\n",
      "2                              BNP Paribas                    24\n",
      "3                            TotalEnergies                    24\n",
      "4                                  Renault                    20\n",
      "5                    Electricite de France                    19\n",
      "6                                  Peugeot                    14\n",
      "7                                    Engie                    12\n",
      "8                         Societe Generale                    11\n",
      "9                          Credit Agricole                    11\n",
      "10               Compagnie de Saint-Gobain                     9\n",
      "11                                    Suez                     8\n",
      "12                           Groupe Auchan                     7\n",
      "13                             Groupe BPCE                     6\n",
      "14                           Elf Aquitaine                     6\n",
      "15                          CNP Assurances                     5\n",
      "16                   Credit Agricole Group                     5\n",
      "17                  Vivendi Universal S.A.                     5\n",
      "18     Credit Nationale de Credit Agricole                     5\n",
      "19                       France Telecom SA                     4\n",
      "20                          Christian Dior                     4\n",
      "21                         Alcatel Alsthom                     4\n",
      "22                             GDF Suez SA                     3\n",
      "23                    Veolia Environnement                     3\n",
      "24                     Total Fina Elf S.A.                     3\n",
      "25                       France TeIecom SA                     3\n",
      "26           Union Des Assurances de Paris                     3\n",
      "27                 Suez Lyonnaise des Eaux                     3\n",
      "28             Compagnie Generale des Eaux                     3\n",
      "29                                   Vinci                     3\n",
      "30                                  Orange                     2\n",
      "31                                     Gan                     2\n",
      "32                               ELO Group                     2\n",
      "33                PSA Peugeot Citroen S.A.                     1\n",
      "34  Les Caisses d'epargne et de Prevoyance                     1\n",
      "35                          Credit Lyonais                     1\n"
     ]
    }
   ],
   "source": [
    "import pandas as pd\n",
    "\n",
    "# Count the number of occurrences of each distinct name\n",
    "name_counts = df['Name'].value_counts()\n",
    "\n",
    "# Create a DataFrame to store the results\n",
    "result_df = pd.DataFrame({\n",
    "    'Nom de l\\'entreprise': name_counts.index,      # Company names\n",
    "    'Nombre d\\'occurrences': name_counts.values  # Number of occurrences\n",
    "})\n",
    "# Print the DataFrame\n",
    "print(result_df)"
   ]
  },
  {
   "cell_type": "code",
   "execution_count": 4,
   "metadata": {},
   "outputs": [
    {
     "data": {
      "application/vnd.plotly.v1+json": {
       "config": {
        "plotlyServerURL": "https://plot.ly"
       },
       "data": [
        {
         "alignmentgroup": "True",
         "hovertemplate": "Year=1995<br>Revenues in $M=%{x}<br>Company=%{y}<extra></extra>",
         "ids": [
          "TotalEnergies",
          "France Telecom SA",
          "Credit Lyonais",
          "Credit Agricole",
          "Compagnie Generale des Eaux",
          "Peugeot",
          "Alcatel Alsthom",
          "Renault",
          "Union Des Assurances de Paris",
          "Elf Aquitaine"
         ],
         "legendgroup": "",
         "marker": {
          "color": "#636efa",
          "pattern": {
           "shape": ""
          }
         },
         "name": "",
         "offsetgroup": "",
         "orientation": "h",
         "showlegend": false,
         "textposition": "auto",
         "type": "bar",
         "x": [
          24653,
          25706.3,
          26388.1,
          27753.1,
          28153.1,
          30112.3,
          30223.9,
          32188,
          34597,
          39459.1
         ],
         "xaxis": "x",
         "y": [
          "TotalEnergies",
          "France Telecom SA",
          "Credit Lyonais",
          "Credit Agricole",
          "Compagnie Generale des Eaux",
          "Peugeot",
          "Alcatel Alsthom",
          "Renault",
          "Union Des Assurances de Paris",
          "Elf Aquitaine"
         ],
         "yaxis": "y"
        }
       ],
       "frames": [
        {
         "data": [
          {
           "alignmentgroup": "True",
           "hovertemplate": "Year=1995<br>Revenues in $M=%{x}<br>Company=%{y}<extra></extra>",
           "ids": [
            "TotalEnergies",
            "France Telecom SA",
            "Credit Lyonais",
            "Credit Agricole",
            "Compagnie Generale des Eaux",
            "Peugeot",
            "Alcatel Alsthom",
            "Renault",
            "Union Des Assurances de Paris",
            "Elf Aquitaine"
           ],
           "legendgroup": "",
           "marker": {
            "color": "#636efa",
            "pattern": {
             "shape": ""
            }
           },
           "name": "",
           "offsetgroup": "",
           "orientation": "h",
           "showlegend": false,
           "textposition": "auto",
           "type": "bar",
           "x": [
            24653,
            25706.3,
            26388.1,
            27753.1,
            28153.1,
            30112.3,
            30223.9,
            32188,
            34597,
            39459.1
           ],
           "xaxis": "x",
           "y": [
            "TotalEnergies",
            "France Telecom SA",
            "Credit Lyonais",
            "Credit Agricole",
            "Compagnie Generale des Eaux",
            "Peugeot",
            "Alcatel Alsthom",
            "Renault",
            "Union Des Assurances de Paris",
            "Elf Aquitaine"
           ],
           "yaxis": "y"
          }
         ],
         "name": "1995"
        },
        {
         "data": [
          {
           "alignmentgroup": "True",
           "hovertemplate": "Year=1996<br>Revenues in $M=%{x}<br>Company=%{y}<extra></extra>",
           "ids": [
            "Carrefour",
            "France Telecom SA",
            "Gan",
            "Alcatel Alsthom",
            "Credit Agricole Group",
            "Compagnie Generale des Eaux",
            "Peugeot",
            "Renault",
            "Union Des Assurances de Paris",
            "Elf Aquitaine"
           ],
           "legendgroup": "",
           "marker": {
            "color": "#636efa",
            "pattern": {
             "shape": ""
            }
           },
           "name": "",
           "offsetgroup": "",
           "orientation": "h",
           "showlegend": false,
           "textposition": "auto",
           "type": "bar",
           "x": [
            28986.6,
            30060.2,
            31224.6,
            32154.4,
            32343.2,
            32664.6,
            33074.3,
            36894.7,
            42004.2,
            43618.4
           ],
           "xaxis": "x",
           "y": [
            "Carrefour",
            "France Telecom SA",
            "Gan",
            "Alcatel Alsthom",
            "Credit Agricole Group",
            "Compagnie Generale des Eaux",
            "Peugeot",
            "Renault",
            "Union Des Assurances de Paris",
            "Elf Aquitaine"
           ],
           "yaxis": "y"
          }
         ],
         "name": "1996"
        },
        {
         "data": [
          {
           "alignmentgroup": "True",
           "hovertemplate": "Year=1997<br>Revenues in $M=%{x}<br>Company=%{y}<extra></extra>",
           "ids": [
            "Alcatel Alsthom",
            "Gan",
            "Compagnie Generale des Eaux",
            "AXA",
            "Peugeot",
            "TotalEnergies",
            "Credit Agricole Group",
            "Renault",
            "Union Des Assurances de Paris",
            "Elf Aquitaine"
           ],
           "legendgroup": "",
           "marker": {
            "color": "#636efa",
            "pattern": {
             "shape": ""
            }
           },
           "name": "",
           "offsetgroup": "",
           "orientation": "h",
           "showlegend": false,
           "textposition": "auto",
           "type": "bar",
           "x": [
            31683.8,
            32259.5,
            32428.8,
            32681.4,
            33914.7,
            34513,
            34619.6,
            35979.1,
            40736.7,
            46818
           ],
           "xaxis": "x",
           "y": [
            "Alcatel Alsthom",
            "Gan",
            "Compagnie Generale des Eaux",
            "AXA",
            "Peugeot",
            "TotalEnergies",
            "Credit Agricole Group",
            "Renault",
            "Union Des Assurances de Paris",
            "Elf Aquitaine"
           ],
           "yaxis": "y"
          }
         ],
         "name": "1997"
        },
        {
         "data": [
          {
           "alignmentgroup": "True",
           "hovertemplate": "Year=1998<br>Revenues in $M=%{x}<br>Company=%{y}<extra></extra>",
           "ids": [
            "Carrefour",
            "Alcatel Alsthom",
            "Peugeot",
            "Suez Lyonnaise des Eaux",
            "TotalEnergies",
            "Credit Agricole Group",
            "Renault",
            "Electricite de France",
            "Elf Aquitaine",
            "AXA"
           ],
           "legendgroup": "",
           "marker": {
            "color": "#636efa",
            "pattern": {
             "shape": ""
            }
           },
           "name": "",
           "offsetgroup": "",
           "orientation": "h",
           "showlegend": false,
           "textposition": "auto",
           "type": "bar",
           "x": [
            29002.7,
            31846.8,
            32003.9,
            32626.7,
            32740.6,
            34014.9,
            35623.8,
            36672.9,
            43572,
            76874.4
           ],
           "xaxis": "x",
           "y": [
            "Carrefour",
            "Alcatel Alsthom",
            "Peugeot",
            "Suez Lyonnaise des Eaux",
            "TotalEnergies",
            "Credit Agricole Group",
            "Renault",
            "Electricite de France",
            "Elf Aquitaine",
            "AXA"
           ],
           "yaxis": "y"
          }
         ],
         "name": "1998"
        },
        {
         "data": [
          {
           "alignmentgroup": "True",
           "hovertemplate": "Year=1999<br>Revenues in $M=%{x}<br>Company=%{y}<extra></extra>",
           "ids": [
            "Societe Generale",
            "Carrefour",
            "Credit Agricole Group",
            "Suez Lyonnaise des Eaux",
            "Vivendi Universal S.A.",
            "Elf Aquitaine",
            "Electricite de France",
            "Peugeot",
            "Renault",
            "AXA"
           ],
           "legendgroup": "",
           "marker": {
            "color": "#636efa",
            "pattern": {
             "shape": ""
            }
           },
           "name": "",
           "offsetgroup": "",
           "orientation": "h",
           "showlegend": false,
           "textposition": "auto",
           "type": "bar",
           "x": [
            29762.1,
            30479,
            33022.4,
            34873.5,
            35292.3,
            35864,
            36672.9,
            37539.8,
            41353.3,
            78729.3
           ],
           "xaxis": "x",
           "y": [
            "Societe Generale",
            "Carrefour",
            "Credit Agricole Group",
            "Suez Lyonnaise des Eaux",
            "Vivendi Universal S.A.",
            "Elf Aquitaine",
            "Electricite de France",
            "Peugeot",
            "Renault",
            "AXA"
           ],
           "yaxis": "y"
          }
         ],
         "name": "1999"
        },
        {
         "data": [
          {
           "alignmentgroup": "True",
           "hovertemplate": "Year=2000<br>Revenues in $M=%{x}<br>Company=%{y}<extra></extra>",
           "ids": [
            "Suez Lyonnaise des Eaux",
            "Electricite de France",
            "Elf Aquitaine",
            "Carrefour",
            "BNP Paribas",
            "Renault",
            "Peugeot",
            "Vivendi Universal S.A.",
            "Total Fina Elf S.A.",
            "AXA"
           ],
           "legendgroup": "",
           "marker": {
            "color": "#636efa",
            "pattern": {
             "shape": ""
            }
           },
           "name": "",
           "offsetgroup": "",
           "orientation": "h",
           "showlegend": false,
           "textposition": "auto",
           "type": "bar",
           "x": [
            33559.7,
            34146.6,
            37918.3,
            39855.7,
            40098.6,
            40098.6,
            40327.9,
            44397.8,
            44990.3,
            87645.7
           ],
           "xaxis": "x",
           "y": [
            "Suez Lyonnaise des Eaux",
            "Electricite de France",
            "Elf Aquitaine",
            "Carrefour",
            "BNP Paribas",
            "Renault",
            "Peugeot",
            "Vivendi Universal S.A.",
            "Total Fina Elf S.A.",
            "AXA"
           ],
           "yaxis": "y"
          }
         ],
         "name": "2000"
        },
        {
         "data": [
          {
           "alignmentgroup": "True",
           "hovertemplate": "Year=2001<br>Revenues in $M=%{x}<br>Company=%{y}<extra></extra>",
           "ids": [
            "France Telecom SA",
            "Electricite de France",
            "Suez",
            "Credit Agricole Group",
            "Renault",
            "Vivendi Universal S.A.",
            "BNP Paribas",
            "Carrefour",
            "AXA",
            "Total Fina Elf S.A."
           ],
           "legendgroup": "",
           "marker": {
            "color": "#636efa",
            "pattern": {
             "shape": ""
            }
           },
           "name": "",
           "offsetgroup": "",
           "orientation": "h",
           "showlegend": false,
           "textposition": "auto",
           "type": "bar",
           "x": [
            31122.2,
            31791.3,
            31991.8,
            34684.7,
            37128.4,
            38628.3,
            57611.6,
            59887.8,
            92781.6,
            105869.6
           ],
           "xaxis": "x",
           "y": [
            "France Telecom SA",
            "Electricite de France",
            "Suez",
            "Credit Agricole Group",
            "Renault",
            "Vivendi Universal S.A.",
            "BNP Paribas",
            "Carrefour",
            "AXA",
            "Total Fina Elf S.A."
           ],
           "yaxis": "y"
          }
         ],
         "name": "2001"
        },
        {
         "data": [
          {
           "alignmentgroup": "True",
           "hovertemplate": "Year=2002<br>Revenues in $M=%{x}<br>Company=%{y}<extra></extra>",
           "ids": [
            "Renault",
            "Credit Nationale de Credit Agricole",
            "Electricite de France",
            "Suez",
            "France Telecom SA",
            "Vivendi Universal S.A.",
            "BNP Paribas",
            "Carrefour",
            "AXA",
            "Total Fina Elf S.A."
           ],
           "legendgroup": "",
           "marker": {
            "color": "#636efa",
            "pattern": {
             "shape": ""
            }
           },
           "name": "",
           "offsetgroup": "",
           "orientation": "h",
           "showlegend": false,
           "textposition": "auto",
           "type": "bar",
           "x": [
            32552.2,
            35668.5,
            36461,
            37932.5,
            38529.6,
            51365.7,
            55044.4,
            62224.6,
            65579.9,
            94311.9
           ],
           "xaxis": "x",
           "y": [
            "Renault",
            "Credit Nationale de Credit Agricole",
            "Electricite de France",
            "Suez",
            "France Telecom SA",
            "Vivendi Universal S.A.",
            "BNP Paribas",
            "Carrefour",
            "AXA",
            "Total Fina Elf S.A."
           ],
           "yaxis": "y"
          }
         ],
         "name": "2002"
        },
        {
         "data": [
          {
           "alignmentgroup": "True",
           "hovertemplate": "Year=2003<br>Revenues in $M=%{x}<br>Company=%{y}<extra></extra>",
           "ids": [
            "Renault",
            "Credit Nationale de Credit Agricole",
            "Suez",
            "France TeIecom SA",
            "Electricite de France",
            "BNP Paribas",
            "Vivendi Universal S.A.",
            "AXA",
            "Carrefour",
            "TotalEnergies"
           ],
           "legendgroup": "",
           "marker": {
            "color": "#636efa",
            "pattern": {
             "shape": ""
            }
           },
           "name": "",
           "offsetgroup": "",
           "orientation": "h",
           "showlegend": false,
           "textposition": "auto",
           "type": "bar",
           "x": [
            34353.3,
            36745.3,
            43574.9,
            44085.7,
            45720.3,
            51127.3,
            54977.1,
            62050.8,
            64978.6,
            96944.9
           ],
           "xaxis": "x",
           "y": [
            "Renault",
            "Credit Nationale de Credit Agricole",
            "Suez",
            "France TeIecom SA",
            "Electricite de France",
            "BNP Paribas",
            "Vivendi Universal S.A.",
            "AXA",
            "Carrefour",
            "TotalEnergies"
           ],
           "yaxis": "y"
          }
         ],
         "name": "2003"
        },
        {
         "data": [
          {
           "alignmentgroup": "True",
           "hovertemplate": "Year=2004<br>Revenues in $M=%{x}<br>Company=%{y}<extra></extra>",
           "ids": [
            "Compagnie de Saint-Gobain",
            "Renault",
            "Suez",
            "Credit Nationale de Credit Agricole",
            "Electricite de France",
            "France TeIecom SA",
            "BNP Paribas",
            "Carrefour",
            "AXA",
            "TotalEnergies"
           ],
           "legendgroup": "",
           "marker": {
            "color": "#636efa",
            "pattern": {
             "shape": ""
            }
           },
           "name": "",
           "offsetgroup": "",
           "orientation": "h",
           "showlegend": false,
           "textposition": "auto",
           "type": "bar",
           "x": [
            33488.9,
            42469.5,
            44842.5,
            45928.1,
            50837.7,
            52198.1,
            57271.8,
            79773.8,
            111912.2,
            118441.4
           ],
           "xaxis": "x",
           "y": [
            "Compagnie de Saint-Gobain",
            "Renault",
            "Suez",
            "Credit Nationale de Credit Agricole",
            "Electricite de France",
            "France TeIecom SA",
            "BNP Paribas",
            "Carrefour",
            "AXA",
            "TotalEnergies"
           ],
           "yaxis": "y"
          }
         ],
         "name": "2004"
        },
        {
         "data": [
          {
           "alignmentgroup": "True",
           "hovertemplate": "Year=2005<br>Revenues in $M=%{x}<br>Company=%{y}<extra></extra>",
           "ids": [
            "Compagnie de Saint-Gobain",
            "Renault",
            "Suez",
            "Electricite de France",
            "France TeIecom SA",
            "Credit Nationale de Credit Agricole",
            "BNP Paribas",
            "Carrefour",
            "AXA",
            "TotalEnergies"
           ],
           "legendgroup": "",
           "marker": {
            "color": "#636efa",
            "pattern": {
             "shape": ""
            }
           },
           "name": "",
           "offsetgroup": "",
           "orientation": "h",
           "showlegend": false,
           "textposition": "auto",
           "type": "bar",
           "x": [
            39831.5,
            50639.7,
            50670.1,
            58367.2,
            58652.1,
            59053.8,
            68654.4,
            90381.7,
            121606.3,
            152609.5
           ],
           "xaxis": "x",
           "y": [
            "Compagnie de Saint-Gobain",
            "Renault",
            "Suez",
            "Electricite de France",
            "France TeIecom SA",
            "Credit Nationale de Credit Agricole",
            "BNP Paribas",
            "Carrefour",
            "AXA",
            "TotalEnergies"
           ],
           "yaxis": "y"
          }
         ],
         "name": "2005"
        },
        {
         "data": [
          {
           "alignmentgroup": "True",
           "hovertemplate": "Year=2006<br>Revenues in $M=%{x}<br>Company=%{y}<extra></extra>",
           "ids": [
            "Groupe Auchan",
            "Compagnie de Saint-Gobain",
            "CNP Assurances",
            "Renault",
            "Suez",
            "Orange",
            "BNP Paribas",
            "Carrefour",
            "AXA",
            "TotalEnergies"
           ],
           "legendgroup": "",
           "marker": {
            "color": "#636efa",
            "pattern": {
             "shape": ""
            }
           },
           "name": "",
           "offsetgroup": "",
           "orientation": "h",
           "showlegend": false,
           "textposition": "auto",
           "type": "bar",
           "x": [
            42073.2,
            43626.4,
            48474.9,
            51365.1,
            52742.9,
            60932.9,
            85687.2,
            94454.5,
            129839.2,
            152360.7
           ],
           "xaxis": "x",
           "y": [
            "Groupe Auchan",
            "Compagnie de Saint-Gobain",
            "CNP Assurances",
            "Renault",
            "Suez",
            "Orange",
            "BNP Paribas",
            "Carrefour",
            "AXA",
            "TotalEnergies"
           ],
           "yaxis": "y"
          }
         ],
         "name": "2006"
        },
        {
         "data": [
          {
           "alignmentgroup": "True",
           "hovertemplate": "Year=2007<br>Revenues in $M=%{x}<br>Company=%{y}<extra></extra>",
           "ids": [
            "Veolia Environnement",
            "Groupe Auchan",
            "Renault",
            "CNP Assurances",
            "Compagnie de Saint-Gobain",
            "Suez",
            "Carrefour",
            "BNP Paribas",
            "AXA",
            "TotalEnergies"
           ],
           "legendgroup": "",
           "marker": {
            "color": "#636efa",
            "pattern": {
             "shape": ""
            }
           },
           "name": "",
           "offsetgroup": "",
           "orientation": "h",
           "showlegend": false,
           "textposition": "auto",
           "type": "bar",
           "x": [
            44749.9,
            50464.9,
            55684,
            59071.4,
            59433,
            64982.5,
            115584.7,
            140726.5,
            162762.3,
            187279.5
           ],
           "xaxis": "x",
           "y": [
            "Veolia Environnement",
            "Groupe Auchan",
            "Renault",
            "CNP Assurances",
            "Compagnie de Saint-Gobain",
            "Suez",
            "Carrefour",
            "BNP Paribas",
            "AXA",
            "TotalEnergies"
           ],
           "yaxis": "y"
          }
         ],
         "name": "2007"
        },
        {
         "data": [
          {
           "alignmentgroup": "True",
           "hovertemplate": "Year=2008<br>Revenues in $M=%{x}<br>Company=%{y}<extra></extra>",
           "ids": [
            "Les Caisses d'epargne et de Prevoyance",
            "Renault",
            "CNP Assurances",
            "Compagnie de Saint-Gobain",
            "Suez",
            "PSA Peugeot Citroen S.A.",
            "Carrefour",
            "BNP Paribas",
            "AXA",
            "TotalEnergies"
           ],
           "legendgroup": "",
           "marker": {
            "color": "#636efa",
            "pattern": {
             "shape": ""
            }
           },
           "name": "",
           "offsetgroup": "",
           "orientation": "h",
           "showlegend": false,
           "textposition": "auto",
           "type": "bar",
           "x": [
            53992.2,
            55684,
            59071.4,
            59433,
            64982.5,
            82964.8,
            115584.7,
            140726.5,
            162762.3,
            187279.5
           ],
           "xaxis": "x",
           "y": [
            "Les Caisses d'epargne et de Prevoyance",
            "Renault",
            "CNP Assurances",
            "Compagnie de Saint-Gobain",
            "Suez",
            "PSA Peugeot Citroen S.A.",
            "Carrefour",
            "BNP Paribas",
            "AXA",
            "TotalEnergies"
           ],
           "yaxis": "y"
          }
         ],
         "name": "2008"
        },
        {
         "data": [
          {
           "alignmentgroup": "True",
           "hovertemplate": "Year=2009<br>Revenues in $M=%{x}<br>Company=%{y}<extra></extra>",
           "ids": [
            "Veolia Environnement",
            "Renault",
            "Groupe Auchan",
            "Compagnie de Saint-Gobain",
            "Orange",
            "AXA",
            "Engie",
            "Carrefour",
            "BNP Paribas",
            "TotalEnergies"
           ],
           "legendgroup": "",
           "marker": {
            "color": "#636efa",
            "pattern": {
             "shape": ""
            }
           },
           "name": "",
           "offsetgroup": "",
           "orientation": "h",
           "showlegend": false,
           "textposition": "auto",
           "type": "bar",
           "x": [
            53901.1,
            55314.1,
            57792.1,
            64109.4,
            78289.6,
            80256.8,
            99419.1,
            129133.9,
            136096.4,
            234674.1
           ],
           "xaxis": "x",
           "y": [
            "Veolia Environnement",
            "Renault",
            "Groupe Auchan",
            "Compagnie de Saint-Gobain",
            "Orange",
            "AXA",
            "Engie",
            "Carrefour",
            "BNP Paribas",
            "TotalEnergies"
           ],
           "yaxis": "y"
          }
         ],
         "name": "2009"
        },
        {
         "data": [
          {
           "alignmentgroup": "True",
           "hovertemplate": "Year=2010<br>Revenues in $M=%{x}<br>Company=%{y}<extra></extra>",
           "ids": [
            "Veolia Environnement",
            "Compagnie de Saint-Gobain",
            "Groupe Auchan",
            "CNP Assurances",
            "Groupe BPCE",
            "Engie",
            "Carrefour",
            "BNP Paribas",
            "TotalEnergies",
            "AXA"
           ],
           "legendgroup": "",
           "marker": {
            "color": "#636efa",
            "pattern": {
             "shape": ""
            }
           },
           "name": "",
           "offsetgroup": "",
           "orientation": "h",
           "showlegend": false,
           "textposition": "auto",
           "type": "bar",
           "x": [
            49142,
            52520.7,
            55140.7,
            66555.7,
            76463.9,
            111068.6,
            121452.5,
            130708.1,
            155887.1,
            175257.4
           ],
           "xaxis": "x",
           "y": [
            "Veolia Environnement",
            "Compagnie de Saint-Gobain",
            "Groupe Auchan",
            "CNP Assurances",
            "Groupe BPCE",
            "Engie",
            "Carrefour",
            "BNP Paribas",
            "TotalEnergies",
            "AXA"
           ],
           "yaxis": "y"
          }
         ],
         "name": "2010"
        },
        {
         "data": [
          {
           "alignmentgroup": "True",
           "hovertemplate": "Year=2011<br>Revenues in $M=%{x}<br>Company=%{y}<extra></extra>",
           "ids": [
            "Renault",
            "Compagnie de Saint-Gobain",
            "Groupe Auchan",
            "CNP Assurances",
            "Groupe BPCE",
            "GDF Suez SA",
            "Carrefour",
            "BNP Paribas",
            "AXA",
            "TotalEnergies"
           ],
           "legendgroup": "",
           "marker": {
            "color": "#636efa",
            "pattern": {
             "shape": ""
            }
           },
           "name": "",
           "offsetgroup": "",
           "orientation": "h",
           "showlegend": false,
           "textposition": "auto",
           "type": "bar",
           "x": [
            51615.6,
            53136,
            56279,
            59319.7,
            69297.1,
            111887.8,
            120296.8,
            128725.7,
            162235.9,
            186055
           ],
           "xaxis": "x",
           "y": [
            "Renault",
            "Compagnie de Saint-Gobain",
            "Groupe Auchan",
            "CNP Assurances",
            "Groupe BPCE",
            "GDF Suez SA",
            "Carrefour",
            "BNP Paribas",
            "AXA",
            "TotalEnergies"
           ],
           "yaxis": "y"
          }
         ],
         "name": "2011"
        },
        {
         "data": [
          {
           "alignmentgroup": "True",
           "hovertemplate": "Year=2012<br>Revenues in $M=%{x}<br>Company=%{y}<extra></extra>",
           "ids": [
            "Compagnie de Saint-Gobain",
            "Renault",
            "Groupe Auchan",
            "Groupe BPCE",
            "Societe Generale",
            "Carrefour",
            "GDF Suez SA",
            "BNP Paribas",
            "AXA",
            "TotalEnergies"
           ],
           "legendgroup": "",
           "marker": {
            "color": "#636efa",
            "pattern": {
             "shape": ""
            }
           },
           "name": "",
           "offsetgroup": "",
           "orientation": "h",
           "showlegend": false,
           "textposition": "auto",
           "type": "bar",
           "x": [
            58560.3,
            59272.2,
            61698.5,
            75081.6,
            98463.5,
            121734.1,
            126076.5,
            127460,
            142711.8,
            231579.8
           ],
           "xaxis": "x",
           "y": [
            "Compagnie de Saint-Gobain",
            "Renault",
            "Groupe Auchan",
            "Groupe BPCE",
            "Societe Generale",
            "Carrefour",
            "GDF Suez SA",
            "BNP Paribas",
            "AXA",
            "TotalEnergies"
           ],
           "yaxis": "y"
          }
         ],
         "name": "2012"
        },
        {
         "data": [
          {
           "alignmentgroup": "True",
           "hovertemplate": "Year=2013<br>Revenues in $M=%{x}<br>Company=%{y}<extra></extra>",
           "ids": [
            "Groupe BPCE",
            "Peugeot",
            "Electricite de France",
            "Credit Nationale de Credit Agricole",
            "Societe Generale",
            "Carrefour",
            "BNP Paribas",
            "GDF Suez SA",
            "AXA",
            "TotalEnergies"
           ],
           "legendgroup": "",
           "marker": {
            "color": "#636efa",
            "pattern": {
             "shape": ""
            }
           },
           "name": "",
           "offsetgroup": "",
           "orientation": "h",
           "showlegend": false,
           "textposition": "auto",
           "type": "bar",
           "x": [
            66973.2,
            71255.2,
            93466.1,
            95181.7,
            105064.4,
            105996.1,
            123029.2,
            124706.2,
            154571.3,
            234277.5
           ],
           "xaxis": "x",
           "y": [
            "Groupe BPCE",
            "Peugeot",
            "Electricite de France",
            "Credit Nationale de Credit Agricole",
            "Societe Generale",
            "Carrefour",
            "BNP Paribas",
            "GDF Suez SA",
            "AXA",
            "TotalEnergies"
           ],
           "yaxis": "y"
          }
         ],
         "name": "2013"
        },
        {
         "data": [
          {
           "alignmentgroup": "True",
           "hovertemplate": "Year=2014<br>Revenues in $M=%{x}<br>Company=%{y}<extra></extra>",
           "ids": [
            "Groupe BPCE",
            "Peugeot",
            "Credit Agricole",
            "Electricite de France",
            "Carrefour",
            "Engie",
            "BNP Paribas",
            "Societe Generale",
            "AXA",
            "TotalEnergies"
           ],
           "legendgroup": "",
           "marker": {
            "color": "#636efa",
            "pattern": {
             "shape": ""
            }
           },
           "name": "",
           "offsetgroup": "",
           "orientation": "h",
           "showlegend": false,
           "textposition": "auto",
           "type": "bar",
           "x": [
            66428,
            71807,
            93618,
            100355,
            101790,
            118551,
            121939,
            132711,
            165893,
            227882
           ],
           "xaxis": "x",
           "y": [
            "Groupe BPCE",
            "Peugeot",
            "Credit Agricole",
            "Electricite de France",
            "Carrefour",
            "Engie",
            "BNP Paribas",
            "Societe Generale",
            "AXA",
            "TotalEnergies"
           ],
           "yaxis": "y"
          }
         ],
         "name": "2014"
        },
        {
         "data": [
          {
           "alignmentgroup": "True",
           "hovertemplate": "Year=2015<br>Revenues in $M=%{x}<br>Company=%{y}<extra></extra>",
           "ids": [
            "Groupe Auchan",
            "Peugeot",
            "Electricite de France",
            "Engie",
            "Carrefour",
            "Credit Agricole",
            "Societe Generale",
            "BNP Paribas",
            "AXA",
            "TotalEnergies"
           ],
           "legendgroup": "",
           "marker": {
            "color": "#636efa",
            "pattern": {
             "shape": ""
            }
           },
           "name": "",
           "offsetgroup": "",
           "orientation": "h",
           "showlegend": false,
           "textposition": "auto",
           "type": "bar",
           "x": [
            70908.3,
            71111.3,
            96669.5,
            99073.2,
            101238.1,
            106198,
            118232.3,
            124333,
            161173.4,
            212018
           ],
           "xaxis": "x",
           "y": [
            "Groupe Auchan",
            "Peugeot",
            "Electricite de France",
            "Engie",
            "Carrefour",
            "Credit Agricole",
            "Societe Generale",
            "BNP Paribas",
            "AXA",
            "TotalEnergies"
           ],
           "yaxis": "y"
          }
         ],
         "name": "2015"
        },
        {
         "data": [
          {
           "alignmentgroup": "True",
           "hovertemplate": "Year=2016<br>Revenues in $M=%{x}<br>Company=%{y}<extra></extra>",
           "ids": [
            "ELO Group",
            "Peugeot",
            "Engie",
            "Electricite de France",
            "Credit Agricole",
            "Carrefour",
            "Societe Generale",
            "BNP Paribas",
            "AXA",
            "TotalEnergies"
           ],
           "legendgroup": "",
           "marker": {
            "color": "#636efa",
            "pattern": {
             "shape": ""
            }
           },
           "name": "",
           "offsetgroup": "",
           "orientation": "h",
           "showlegend": false,
           "textposition": "auto",
           "type": "bar",
           "x": [
            60158,
            60651,
            77520,
            83202,
            84099,
            87474,
            107736,
            111531,
            129250,
            143421
           ],
           "xaxis": "x",
           "y": [
            "ELO Group",
            "Peugeot",
            "Engie",
            "Electricite de France",
            "Credit Agricole",
            "Carrefour",
            "Societe Generale",
            "BNP Paribas",
            "AXA",
            "TotalEnergies"
           ],
           "yaxis": "y"
          }
         ],
         "name": "2016"
        },
        {
         "data": [
          {
           "alignmentgroup": "True",
           "hovertemplate": "Year=2017<br>Revenues in $M=%{x}<br>Company=%{y}<extra></extra>",
           "ids": [
            "Peugeot",
            "Societe Generale",
            "Groupe BPCE",
            "Engie",
            "Electricite de France",
            "Credit Agricole",
            "Carrefour",
            "BNP Paribas",
            "TotalEnergies",
            "AXA"
           ],
           "legendgroup": "",
           "marker": {
            "color": "#636efa",
            "pattern": {
             "shape": ""
            }
           },
           "name": "",
           "offsetgroup": "",
           "orientation": "h",
           "showlegend": false,
           "textposition": "auto",
           "type": "bar",
           "x": [
            59749,
            69335,
            70517,
            73692,
            78740,
            80258,
            87112,
            109026,
            127925,
            143722
           ],
           "xaxis": "x",
           "y": [
            "Peugeot",
            "Societe Generale",
            "Groupe BPCE",
            "Engie",
            "Electricite de France",
            "Credit Agricole",
            "Carrefour",
            "BNP Paribas",
            "TotalEnergies",
            "AXA"
           ],
           "yaxis": "y"
          }
         ],
         "name": "2017"
        },
        {
         "data": [
          {
           "alignmentgroup": "True",
           "hovertemplate": "Year=2018<br>Revenues in $M=%{x}<br>Company=%{y}<extra></extra>",
           "ids": [
            "Renault",
            "Societe Generale",
            "Peugeot",
            "Engie",
            "Electricite de France",
            "Credit Agricole",
            "Carrefour",
            "BNP Paribas",
            "TotalEnergies",
            "AXA"
           ],
           "legendgroup": "",
           "marker": {
            "color": "#636efa",
            "pattern": {
             "shape": ""
            }
           },
           "name": "",
           "offsetgroup": "",
           "orientation": "h",
           "showlegend": false,
           "textposition": "auto",
           "type": "bar",
           "x": [
            66247,
            69948,
            73506,
            75279,
            78490,
            84222,
            91276,
            117375,
            149099,
            149461
           ],
           "xaxis": "x",
           "y": [
            "Renault",
            "Societe Generale",
            "Peugeot",
            "Engie",
            "Electricite de France",
            "Credit Agricole",
            "Carrefour",
            "BNP Paribas",
            "TotalEnergies",
            "AXA"
           ],
           "yaxis": "y"
          }
         ],
         "name": "2018"
        },
        {
         "data": [
          {
           "alignmentgroup": "True",
           "hovertemplate": "Year=2019<br>Revenues in $M=%{x}<br>Company=%{y}<extra></extra>",
           "ids": [
            "ELO Group",
            "Renault",
            "Engie",
            "Electricite de France",
            "BNP Paribas",
            "Peugeot",
            "Credit Agricole",
            "Carrefour",
            "AXA",
            "TotalEnergies"
           ],
           "legendgroup": "",
           "marker": {
            "color": "#636efa",
            "pattern": {
             "shape": ""
            }
           },
           "name": "",
           "offsetgroup": "",
           "orientation": "h",
           "showlegend": false,
           "textposition": "auto",
           "type": "bar",
           "x": [
            60749.2,
            67764.1,
            74144.1,
            81403.3,
            83973.7,
            87364.3,
            88325,
            91955.2,
            125578.2,
            184106
           ],
           "xaxis": "x",
           "y": [
            "ELO Group",
            "Renault",
            "Engie",
            "Electricite de France",
            "BNP Paribas",
            "Peugeot",
            "Credit Agricole",
            "Carrefour",
            "AXA",
            "TotalEnergies"
           ],
           "yaxis": "y"
          }
         ],
         "name": "2019"
        },
        {
         "data": [
          {
           "alignmentgroup": "True",
           "hovertemplate": "Year=2020<br>Revenues in $M=%{x}<br>Company=%{y}<extra></extra>",
           "ids": [
            "Christian Dior",
            "Renault",
            "Engie",
            "Electricite de France",
            "Peugeot",
            "BNP Paribas",
            "Carrefour",
            "Credit Agricole",
            "AXA",
            "TotalEnergies"
           ],
           "legendgroup": "",
           "marker": {
            "color": "#636efa",
            "pattern": {
             "shape": ""
            }
           },
           "name": "",
           "offsetgroup": "",
           "orientation": "h",
           "showlegend": false,
           "textposition": "auto",
           "type": "bar",
           "x": [
            60071,
            62160,
            67220,
            80278,
            83643,
            85058,
            85905,
            104972,
            148984,
            176249
           ],
           "xaxis": "x",
           "y": [
            "Christian Dior",
            "Renault",
            "Engie",
            "Electricite de France",
            "Peugeot",
            "BNP Paribas",
            "Carrefour",
            "Credit Agricole",
            "AXA",
            "TotalEnergies"
           ],
           "yaxis": "y"
          }
         ],
         "name": "2020"
        },
        {
         "data": [
          {
           "alignmentgroup": "True",
           "hovertemplate": "Year=2021<br>Revenues in $M=%{x}<br>Company=%{y}<extra></extra>",
           "ids": [
            "Vinci",
            "Christian Dior",
            "Societe Generale",
            "Engie",
            "Electricite de France",
            "BNP Paribas",
            "Carrefour",
            "Credit Agricole",
            "TotalEnergies",
            "AXA"
           ],
           "legendgroup": "",
           "marker": {
            "color": "#636efa",
            "pattern": {
             "shape": ""
            }
           },
           "name": "",
           "offsetgroup": "",
           "orientation": "h",
           "showlegend": false,
           "textposition": "auto",
           "type": "bar",
           "x": [
            50270.2,
            50877.6,
            52068.3,
            63525.4,
            78903.5,
            81632.4,
            82211.3,
            82958.8,
            119704,
            128011.4
           ],
           "xaxis": "x",
           "y": [
            "Vinci",
            "Christian Dior",
            "Societe Generale",
            "Engie",
            "Electricite de France",
            "BNP Paribas",
            "Carrefour",
            "Credit Agricole",
            "TotalEnergies",
            "AXA"
           ],
           "yaxis": "y"
          }
         ],
         "name": "2021"
        },
        {
         "data": [
          {
           "alignmentgroup": "True",
           "hovertemplate": "Year=2022<br>Revenues in $M=%{x}<br>Company=%{y}<extra></extra>",
           "ids": [
            "Societe Generale",
            "Vinci",
            "Christian Dior",
            "Engie",
            "BNP Paribas",
            "Carrefour",
            "Electricite de France",
            "Credit Agricole",
            "AXA",
            "TotalEnergies"
           ],
           "legendgroup": "",
           "marker": {
            "color": "#636efa",
            "pattern": {
             "shape": ""
            }
           },
           "name": "",
           "offsetgroup": "",
           "orientation": "h",
           "showlegend": false,
           "textposition": "auto",
           "type": "bar",
           "x": [
            59057.5,
            59388.6,
            75923.5,
            83621.7,
            85300.6,
            87830.8,
            99861,
            107695.2,
            144446.8,
            184634
           ],
           "xaxis": "x",
           "y": [
            "Societe Generale",
            "Vinci",
            "Christian Dior",
            "Engie",
            "BNP Paribas",
            "Carrefour",
            "Electricite de France",
            "Credit Agricole",
            "AXA",
            "TotalEnergies"
           ],
           "yaxis": "y"
          }
         ],
         "name": "2022"
        },
        {
         "data": [
          {
           "alignmentgroup": "True",
           "hovertemplate": "Year=2023<br>Revenues in $M=%{x}<br>Company=%{y}<extra></extra>",
           "ids": [
            "Societe Generale",
            "Vinci",
            "Christian Dior",
            "Credit Agricole",
            "BNP Paribas",
            "Carrefour",
            "AXA",
            "Engie",
            "Electricite de France",
            "TotalEnergies"
           ],
           "legendgroup": "",
           "marker": {
            "color": "#636efa",
            "pattern": {
             "shape": ""
            }
           },
           "name": "",
           "offsetgroup": "",
           "orientation": "h",
           "showlegend": false,
           "textposition": "auto",
           "type": "bar",
           "x": [
            63416.8,
            65749.6,
            83282.5,
            86471.4,
            89563.6,
            90062.1,
            109067.4,
            109174.7,
            150902.1,
            263310
           ],
           "xaxis": "x",
           "y": [
            "Societe Generale",
            "Vinci",
            "Christian Dior",
            "Credit Agricole",
            "BNP Paribas",
            "Carrefour",
            "AXA",
            "Engie",
            "Electricite de France",
            "TotalEnergies"
           ],
           "yaxis": "y"
          }
         ],
         "name": "2023"
        }
       ],
       "layout": {
        "barmode": "relative",
        "height": 600,
        "legend": {
         "tracegroupgap": 0
        },
        "sliders": [
         {
          "active": 0,
          "currentvalue": {
           "prefix": "Year="
          },
          "len": 0.9,
          "pad": {
           "b": 10,
           "t": 60
          },
          "steps": [
           {
            "args": [
             [
              "1995"
             ],
             {
              "frame": {
               "duration": 0,
               "redraw": true
              },
              "fromcurrent": true,
              "mode": "immediate",
              "transition": {
               "duration": 0,
               "easing": "linear"
              }
             }
            ],
            "label": "1995",
            "method": "animate"
           },
           {
            "args": [
             [
              "1996"
             ],
             {
              "frame": {
               "duration": 0,
               "redraw": true
              },
              "fromcurrent": true,
              "mode": "immediate",
              "transition": {
               "duration": 0,
               "easing": "linear"
              }
             }
            ],
            "label": "1996",
            "method": "animate"
           },
           {
            "args": [
             [
              "1997"
             ],
             {
              "frame": {
               "duration": 0,
               "redraw": true
              },
              "fromcurrent": true,
              "mode": "immediate",
              "transition": {
               "duration": 0,
               "easing": "linear"
              }
             }
            ],
            "label": "1997",
            "method": "animate"
           },
           {
            "args": [
             [
              "1998"
             ],
             {
              "frame": {
               "duration": 0,
               "redraw": true
              },
              "fromcurrent": true,
              "mode": "immediate",
              "transition": {
               "duration": 0,
               "easing": "linear"
              }
             }
            ],
            "label": "1998",
            "method": "animate"
           },
           {
            "args": [
             [
              "1999"
             ],
             {
              "frame": {
               "duration": 0,
               "redraw": true
              },
              "fromcurrent": true,
              "mode": "immediate",
              "transition": {
               "duration": 0,
               "easing": "linear"
              }
             }
            ],
            "label": "1999",
            "method": "animate"
           },
           {
            "args": [
             [
              "2000"
             ],
             {
              "frame": {
               "duration": 0,
               "redraw": true
              },
              "fromcurrent": true,
              "mode": "immediate",
              "transition": {
               "duration": 0,
               "easing": "linear"
              }
             }
            ],
            "label": "2000",
            "method": "animate"
           },
           {
            "args": [
             [
              "2001"
             ],
             {
              "frame": {
               "duration": 0,
               "redraw": true
              },
              "fromcurrent": true,
              "mode": "immediate",
              "transition": {
               "duration": 0,
               "easing": "linear"
              }
             }
            ],
            "label": "2001",
            "method": "animate"
           },
           {
            "args": [
             [
              "2002"
             ],
             {
              "frame": {
               "duration": 0,
               "redraw": true
              },
              "fromcurrent": true,
              "mode": "immediate",
              "transition": {
               "duration": 0,
               "easing": "linear"
              }
             }
            ],
            "label": "2002",
            "method": "animate"
           },
           {
            "args": [
             [
              "2003"
             ],
             {
              "frame": {
               "duration": 0,
               "redraw": true
              },
              "fromcurrent": true,
              "mode": "immediate",
              "transition": {
               "duration": 0,
               "easing": "linear"
              }
             }
            ],
            "label": "2003",
            "method": "animate"
           },
           {
            "args": [
             [
              "2004"
             ],
             {
              "frame": {
               "duration": 0,
               "redraw": true
              },
              "fromcurrent": true,
              "mode": "immediate",
              "transition": {
               "duration": 0,
               "easing": "linear"
              }
             }
            ],
            "label": "2004",
            "method": "animate"
           },
           {
            "args": [
             [
              "2005"
             ],
             {
              "frame": {
               "duration": 0,
               "redraw": true
              },
              "fromcurrent": true,
              "mode": "immediate",
              "transition": {
               "duration": 0,
               "easing": "linear"
              }
             }
            ],
            "label": "2005",
            "method": "animate"
           },
           {
            "args": [
             [
              "2006"
             ],
             {
              "frame": {
               "duration": 0,
               "redraw": true
              },
              "fromcurrent": true,
              "mode": "immediate",
              "transition": {
               "duration": 0,
               "easing": "linear"
              }
             }
            ],
            "label": "2006",
            "method": "animate"
           },
           {
            "args": [
             [
              "2007"
             ],
             {
              "frame": {
               "duration": 0,
               "redraw": true
              },
              "fromcurrent": true,
              "mode": "immediate",
              "transition": {
               "duration": 0,
               "easing": "linear"
              }
             }
            ],
            "label": "2007",
            "method": "animate"
           },
           {
            "args": [
             [
              "2008"
             ],
             {
              "frame": {
               "duration": 0,
               "redraw": true
              },
              "fromcurrent": true,
              "mode": "immediate",
              "transition": {
               "duration": 0,
               "easing": "linear"
              }
             }
            ],
            "label": "2008",
            "method": "animate"
           },
           {
            "args": [
             [
              "2009"
             ],
             {
              "frame": {
               "duration": 0,
               "redraw": true
              },
              "fromcurrent": true,
              "mode": "immediate",
              "transition": {
               "duration": 0,
               "easing": "linear"
              }
             }
            ],
            "label": "2009",
            "method": "animate"
           },
           {
            "args": [
             [
              "2010"
             ],
             {
              "frame": {
               "duration": 0,
               "redraw": true
              },
              "fromcurrent": true,
              "mode": "immediate",
              "transition": {
               "duration": 0,
               "easing": "linear"
              }
             }
            ],
            "label": "2010",
            "method": "animate"
           },
           {
            "args": [
             [
              "2011"
             ],
             {
              "frame": {
               "duration": 0,
               "redraw": true
              },
              "fromcurrent": true,
              "mode": "immediate",
              "transition": {
               "duration": 0,
               "easing": "linear"
              }
             }
            ],
            "label": "2011",
            "method": "animate"
           },
           {
            "args": [
             [
              "2012"
             ],
             {
              "frame": {
               "duration": 0,
               "redraw": true
              },
              "fromcurrent": true,
              "mode": "immediate",
              "transition": {
               "duration": 0,
               "easing": "linear"
              }
             }
            ],
            "label": "2012",
            "method": "animate"
           },
           {
            "args": [
             [
              "2013"
             ],
             {
              "frame": {
               "duration": 0,
               "redraw": true
              },
              "fromcurrent": true,
              "mode": "immediate",
              "transition": {
               "duration": 0,
               "easing": "linear"
              }
             }
            ],
            "label": "2013",
            "method": "animate"
           },
           {
            "args": [
             [
              "2014"
             ],
             {
              "frame": {
               "duration": 0,
               "redraw": true
              },
              "fromcurrent": true,
              "mode": "immediate",
              "transition": {
               "duration": 0,
               "easing": "linear"
              }
             }
            ],
            "label": "2014",
            "method": "animate"
           },
           {
            "args": [
             [
              "2015"
             ],
             {
              "frame": {
               "duration": 0,
               "redraw": true
              },
              "fromcurrent": true,
              "mode": "immediate",
              "transition": {
               "duration": 0,
               "easing": "linear"
              }
             }
            ],
            "label": "2015",
            "method": "animate"
           },
           {
            "args": [
             [
              "2016"
             ],
             {
              "frame": {
               "duration": 0,
               "redraw": true
              },
              "fromcurrent": true,
              "mode": "immediate",
              "transition": {
               "duration": 0,
               "easing": "linear"
              }
             }
            ],
            "label": "2016",
            "method": "animate"
           },
           {
            "args": [
             [
              "2017"
             ],
             {
              "frame": {
               "duration": 0,
               "redraw": true
              },
              "fromcurrent": true,
              "mode": "immediate",
              "transition": {
               "duration": 0,
               "easing": "linear"
              }
             }
            ],
            "label": "2017",
            "method": "animate"
           },
           {
            "args": [
             [
              "2018"
             ],
             {
              "frame": {
               "duration": 0,
               "redraw": true
              },
              "fromcurrent": true,
              "mode": "immediate",
              "transition": {
               "duration": 0,
               "easing": "linear"
              }
             }
            ],
            "label": "2018",
            "method": "animate"
           },
           {
            "args": [
             [
              "2019"
             ],
             {
              "frame": {
               "duration": 0,
               "redraw": true
              },
              "fromcurrent": true,
              "mode": "immediate",
              "transition": {
               "duration": 0,
               "easing": "linear"
              }
             }
            ],
            "label": "2019",
            "method": "animate"
           },
           {
            "args": [
             [
              "2020"
             ],
             {
              "frame": {
               "duration": 0,
               "redraw": true
              },
              "fromcurrent": true,
              "mode": "immediate",
              "transition": {
               "duration": 0,
               "easing": "linear"
              }
             }
            ],
            "label": "2020",
            "method": "animate"
           },
           {
            "args": [
             [
              "2021"
             ],
             {
              "frame": {
               "duration": 0,
               "redraw": true
              },
              "fromcurrent": true,
              "mode": "immediate",
              "transition": {
               "duration": 0,
               "easing": "linear"
              }
             }
            ],
            "label": "2021",
            "method": "animate"
           },
           {
            "args": [
             [
              "2022"
             ],
             {
              "frame": {
               "duration": 0,
               "redraw": true
              },
              "fromcurrent": true,
              "mode": "immediate",
              "transition": {
               "duration": 0,
               "easing": "linear"
              }
             }
            ],
            "label": "2022",
            "method": "animate"
           },
           {
            "args": [
             [
              "2023"
             ],
             {
              "frame": {
               "duration": 0,
               "redraw": true
              },
              "fromcurrent": true,
              "mode": "immediate",
              "transition": {
               "duration": 0,
               "easing": "linear"
              }
             }
            ],
            "label": "2023",
            "method": "animate"
           }
          ],
          "x": 0.1,
          "xanchor": "left",
          "y": 0,
          "yanchor": "top"
         }
        ],
        "template": {
         "data": {
          "bar": [
           {
            "error_x": {
             "color": "#2a3f5f"
            },
            "error_y": {
             "color": "#2a3f5f"
            },
            "marker": {
             "line": {
              "color": "white",
              "width": 0.5
             },
             "pattern": {
              "fillmode": "overlay",
              "size": 10,
              "solidity": 0.2
             }
            },
            "type": "bar"
           }
          ],
          "barpolar": [
           {
            "marker": {
             "line": {
              "color": "white",
              "width": 0.5
             },
             "pattern": {
              "fillmode": "overlay",
              "size": 10,
              "solidity": 0.2
             }
            },
            "type": "barpolar"
           }
          ],
          "carpet": [
           {
            "aaxis": {
             "endlinecolor": "#2a3f5f",
             "gridcolor": "#C8D4E3",
             "linecolor": "#C8D4E3",
             "minorgridcolor": "#C8D4E3",
             "startlinecolor": "#2a3f5f"
            },
            "baxis": {
             "endlinecolor": "#2a3f5f",
             "gridcolor": "#C8D4E3",
             "linecolor": "#C8D4E3",
             "minorgridcolor": "#C8D4E3",
             "startlinecolor": "#2a3f5f"
            },
            "type": "carpet"
           }
          ],
          "choropleth": [
           {
            "colorbar": {
             "outlinewidth": 0,
             "ticks": ""
            },
            "type": "choropleth"
           }
          ],
          "contour": [
           {
            "colorbar": {
             "outlinewidth": 0,
             "ticks": ""
            },
            "colorscale": [
             [
              0,
              "#0d0887"
             ],
             [
              0.1111111111111111,
              "#46039f"
             ],
             [
              0.2222222222222222,
              "#7201a8"
             ],
             [
              0.3333333333333333,
              "#9c179e"
             ],
             [
              0.4444444444444444,
              "#bd3786"
             ],
             [
              0.5555555555555556,
              "#d8576b"
             ],
             [
              0.6666666666666666,
              "#ed7953"
             ],
             [
              0.7777777777777778,
              "#fb9f3a"
             ],
             [
              0.8888888888888888,
              "#fdca26"
             ],
             [
              1,
              "#f0f921"
             ]
            ],
            "type": "contour"
           }
          ],
          "contourcarpet": [
           {
            "colorbar": {
             "outlinewidth": 0,
             "ticks": ""
            },
            "type": "contourcarpet"
           }
          ],
          "heatmap": [
           {
            "colorbar": {
             "outlinewidth": 0,
             "ticks": ""
            },
            "colorscale": [
             [
              0,
              "#0d0887"
             ],
             [
              0.1111111111111111,
              "#46039f"
             ],
             [
              0.2222222222222222,
              "#7201a8"
             ],
             [
              0.3333333333333333,
              "#9c179e"
             ],
             [
              0.4444444444444444,
              "#bd3786"
             ],
             [
              0.5555555555555556,
              "#d8576b"
             ],
             [
              0.6666666666666666,
              "#ed7953"
             ],
             [
              0.7777777777777778,
              "#fb9f3a"
             ],
             [
              0.8888888888888888,
              "#fdca26"
             ],
             [
              1,
              "#f0f921"
             ]
            ],
            "type": "heatmap"
           }
          ],
          "heatmapgl": [
           {
            "colorbar": {
             "outlinewidth": 0,
             "ticks": ""
            },
            "colorscale": [
             [
              0,
              "#0d0887"
             ],
             [
              0.1111111111111111,
              "#46039f"
             ],
             [
              0.2222222222222222,
              "#7201a8"
             ],
             [
              0.3333333333333333,
              "#9c179e"
             ],
             [
              0.4444444444444444,
              "#bd3786"
             ],
             [
              0.5555555555555556,
              "#d8576b"
             ],
             [
              0.6666666666666666,
              "#ed7953"
             ],
             [
              0.7777777777777778,
              "#fb9f3a"
             ],
             [
              0.8888888888888888,
              "#fdca26"
             ],
             [
              1,
              "#f0f921"
             ]
            ],
            "type": "heatmapgl"
           }
          ],
          "histogram": [
           {
            "marker": {
             "pattern": {
              "fillmode": "overlay",
              "size": 10,
              "solidity": 0.2
             }
            },
            "type": "histogram"
           }
          ],
          "histogram2d": [
           {
            "colorbar": {
             "outlinewidth": 0,
             "ticks": ""
            },
            "colorscale": [
             [
              0,
              "#0d0887"
             ],
             [
              0.1111111111111111,
              "#46039f"
             ],
             [
              0.2222222222222222,
              "#7201a8"
             ],
             [
              0.3333333333333333,
              "#9c179e"
             ],
             [
              0.4444444444444444,
              "#bd3786"
             ],
             [
              0.5555555555555556,
              "#d8576b"
             ],
             [
              0.6666666666666666,
              "#ed7953"
             ],
             [
              0.7777777777777778,
              "#fb9f3a"
             ],
             [
              0.8888888888888888,
              "#fdca26"
             ],
             [
              1,
              "#f0f921"
             ]
            ],
            "type": "histogram2d"
           }
          ],
          "histogram2dcontour": [
           {
            "colorbar": {
             "outlinewidth": 0,
             "ticks": ""
            },
            "colorscale": [
             [
              0,
              "#0d0887"
             ],
             [
              0.1111111111111111,
              "#46039f"
             ],
             [
              0.2222222222222222,
              "#7201a8"
             ],
             [
              0.3333333333333333,
              "#9c179e"
             ],
             [
              0.4444444444444444,
              "#bd3786"
             ],
             [
              0.5555555555555556,
              "#d8576b"
             ],
             [
              0.6666666666666666,
              "#ed7953"
             ],
             [
              0.7777777777777778,
              "#fb9f3a"
             ],
             [
              0.8888888888888888,
              "#fdca26"
             ],
             [
              1,
              "#f0f921"
             ]
            ],
            "type": "histogram2dcontour"
           }
          ],
          "mesh3d": [
           {
            "colorbar": {
             "outlinewidth": 0,
             "ticks": ""
            },
            "type": "mesh3d"
           }
          ],
          "parcoords": [
           {
            "line": {
             "colorbar": {
              "outlinewidth": 0,
              "ticks": ""
             }
            },
            "type": "parcoords"
           }
          ],
          "pie": [
           {
            "automargin": true,
            "type": "pie"
           }
          ],
          "scatter": [
           {
            "fillpattern": {
             "fillmode": "overlay",
             "size": 10,
             "solidity": 0.2
            },
            "type": "scatter"
           }
          ],
          "scatter3d": [
           {
            "line": {
             "colorbar": {
              "outlinewidth": 0,
              "ticks": ""
             }
            },
            "marker": {
             "colorbar": {
              "outlinewidth": 0,
              "ticks": ""
             }
            },
            "type": "scatter3d"
           }
          ],
          "scattercarpet": [
           {
            "marker": {
             "colorbar": {
              "outlinewidth": 0,
              "ticks": ""
             }
            },
            "type": "scattercarpet"
           }
          ],
          "scattergeo": [
           {
            "marker": {
             "colorbar": {
              "outlinewidth": 0,
              "ticks": ""
             }
            },
            "type": "scattergeo"
           }
          ],
          "scattergl": [
           {
            "marker": {
             "colorbar": {
              "outlinewidth": 0,
              "ticks": ""
             }
            },
            "type": "scattergl"
           }
          ],
          "scattermapbox": [
           {
            "marker": {
             "colorbar": {
              "outlinewidth": 0,
              "ticks": ""
             }
            },
            "type": "scattermapbox"
           }
          ],
          "scatterpolar": [
           {
            "marker": {
             "colorbar": {
              "outlinewidth": 0,
              "ticks": ""
             }
            },
            "type": "scatterpolar"
           }
          ],
          "scatterpolargl": [
           {
            "marker": {
             "colorbar": {
              "outlinewidth": 0,
              "ticks": ""
             }
            },
            "type": "scatterpolargl"
           }
          ],
          "scatterternary": [
           {
            "marker": {
             "colorbar": {
              "outlinewidth": 0,
              "ticks": ""
             }
            },
            "type": "scatterternary"
           }
          ],
          "surface": [
           {
            "colorbar": {
             "outlinewidth": 0,
             "ticks": ""
            },
            "colorscale": [
             [
              0,
              "#0d0887"
             ],
             [
              0.1111111111111111,
              "#46039f"
             ],
             [
              0.2222222222222222,
              "#7201a8"
             ],
             [
              0.3333333333333333,
              "#9c179e"
             ],
             [
              0.4444444444444444,
              "#bd3786"
             ],
             [
              0.5555555555555556,
              "#d8576b"
             ],
             [
              0.6666666666666666,
              "#ed7953"
             ],
             [
              0.7777777777777778,
              "#fb9f3a"
             ],
             [
              0.8888888888888888,
              "#fdca26"
             ],
             [
              1,
              "#f0f921"
             ]
            ],
            "type": "surface"
           }
          ],
          "table": [
           {
            "cells": {
             "fill": {
              "color": "#EBF0F8"
             },
             "line": {
              "color": "white"
             }
            },
            "header": {
             "fill": {
              "color": "#C8D4E3"
             },
             "line": {
              "color": "white"
             }
            },
            "type": "table"
           }
          ]
         },
         "layout": {
          "annotationdefaults": {
           "arrowcolor": "#2a3f5f",
           "arrowhead": 0,
           "arrowwidth": 1
          },
          "autotypenumbers": "strict",
          "coloraxis": {
           "colorbar": {
            "outlinewidth": 0,
            "ticks": ""
           }
          },
          "colorscale": {
           "diverging": [
            [
             0,
             "#8e0152"
            ],
            [
             0.1,
             "#c51b7d"
            ],
            [
             0.2,
             "#de77ae"
            ],
            [
             0.3,
             "#f1b6da"
            ],
            [
             0.4,
             "#fde0ef"
            ],
            [
             0.5,
             "#f7f7f7"
            ],
            [
             0.6,
             "#e6f5d0"
            ],
            [
             0.7,
             "#b8e186"
            ],
            [
             0.8,
             "#7fbc41"
            ],
            [
             0.9,
             "#4d9221"
            ],
            [
             1,
             "#276419"
            ]
           ],
           "sequential": [
            [
             0,
             "#0d0887"
            ],
            [
             0.1111111111111111,
             "#46039f"
            ],
            [
             0.2222222222222222,
             "#7201a8"
            ],
            [
             0.3333333333333333,
             "#9c179e"
            ],
            [
             0.4444444444444444,
             "#bd3786"
            ],
            [
             0.5555555555555556,
             "#d8576b"
            ],
            [
             0.6666666666666666,
             "#ed7953"
            ],
            [
             0.7777777777777778,
             "#fb9f3a"
            ],
            [
             0.8888888888888888,
             "#fdca26"
            ],
            [
             1,
             "#f0f921"
            ]
           ],
           "sequentialminus": [
            [
             0,
             "#0d0887"
            ],
            [
             0.1111111111111111,
             "#46039f"
            ],
            [
             0.2222222222222222,
             "#7201a8"
            ],
            [
             0.3333333333333333,
             "#9c179e"
            ],
            [
             0.4444444444444444,
             "#bd3786"
            ],
            [
             0.5555555555555556,
             "#d8576b"
            ],
            [
             0.6666666666666666,
             "#ed7953"
            ],
            [
             0.7777777777777778,
             "#fb9f3a"
            ],
            [
             0.8888888888888888,
             "#fdca26"
            ],
            [
             1,
             "#f0f921"
            ]
           ]
          },
          "colorway": [
           "#636efa",
           "#EF553B",
           "#00cc96",
           "#ab63fa",
           "#FFA15A",
           "#19d3f3",
           "#FF6692",
           "#B6E880",
           "#FF97FF",
           "#FECB52"
          ],
          "font": {
           "color": "#2a3f5f"
          },
          "geo": {
           "bgcolor": "white",
           "lakecolor": "white",
           "landcolor": "white",
           "showlakes": true,
           "showland": true,
           "subunitcolor": "#C8D4E3"
          },
          "hoverlabel": {
           "align": "left"
          },
          "hovermode": "closest",
          "mapbox": {
           "style": "light"
          },
          "paper_bgcolor": "white",
          "plot_bgcolor": "white",
          "polar": {
           "angularaxis": {
            "gridcolor": "#EBF0F8",
            "linecolor": "#EBF0F8",
            "ticks": ""
           },
           "bgcolor": "white",
           "radialaxis": {
            "gridcolor": "#EBF0F8",
            "linecolor": "#EBF0F8",
            "ticks": ""
           }
          },
          "scene": {
           "xaxis": {
            "backgroundcolor": "white",
            "gridcolor": "#DFE8F3",
            "gridwidth": 2,
            "linecolor": "#EBF0F8",
            "showbackground": true,
            "ticks": "",
            "zerolinecolor": "#EBF0F8"
           },
           "yaxis": {
            "backgroundcolor": "white",
            "gridcolor": "#DFE8F3",
            "gridwidth": 2,
            "linecolor": "#EBF0F8",
            "showbackground": true,
            "ticks": "",
            "zerolinecolor": "#EBF0F8"
           },
           "zaxis": {
            "backgroundcolor": "white",
            "gridcolor": "#DFE8F3",
            "gridwidth": 2,
            "linecolor": "#EBF0F8",
            "showbackground": true,
            "ticks": "",
            "zerolinecolor": "#EBF0F8"
           }
          },
          "shapedefaults": {
           "line": {
            "color": "#2a3f5f"
           }
          },
          "ternary": {
           "aaxis": {
            "gridcolor": "#DFE8F3",
            "linecolor": "#A2B1C6",
            "ticks": ""
           },
           "baxis": {
            "gridcolor": "#DFE8F3",
            "linecolor": "#A2B1C6",
            "ticks": ""
           },
           "bgcolor": "white",
           "caxis": {
            "gridcolor": "#DFE8F3",
            "linecolor": "#A2B1C6",
            "ticks": ""
           }
          },
          "title": {
           "x": 0.05
          },
          "xaxis": {
           "automargin": true,
           "gridcolor": "#EBF0F8",
           "linecolor": "#EBF0F8",
           "ticks": "",
           "title": {
            "standoff": 15
           },
           "zerolinecolor": "#EBF0F8",
           "zerolinewidth": 2
          },
          "yaxis": {
           "automargin": true,
           "gridcolor": "#EBF0F8",
           "linecolor": "#EBF0F8",
           "ticks": "",
           "title": {
            "standoff": 15
           },
           "zerolinecolor": "#EBF0F8",
           "zerolinewidth": 2
          }
         }
        },
        "title": {
         "text": "Top 10 Companies by Revenue in France (1995-2023)"
        },
        "updatemenus": [
         {
          "buttons": [
           {
            "args": [
             null,
             {
              "frame": {
               "duration": 500,
               "redraw": true
              },
              "fromcurrent": true,
              "mode": "immediate",
              "transition": {
               "duration": 500,
               "easing": "linear"
              }
             }
            ],
            "label": "&#9654;",
            "method": "animate"
           },
           {
            "args": [
             [
              null
             ],
             {
              "frame": {
               "duration": 0,
               "redraw": true
              },
              "fromcurrent": true,
              "mode": "immediate",
              "transition": {
               "duration": 0,
               "easing": "linear"
              }
             }
            ],
            "label": "&#9724;",
            "method": "animate"
           }
          ],
          "direction": "left",
          "pad": {
           "r": 10,
           "t": 70
          },
          "showactive": false,
          "type": "buttons",
          "x": 0.1,
          "xanchor": "right",
          "y": 0,
          "yanchor": "top"
         }
        ],
        "width": 1800,
        "xaxis": {
         "anchor": "y",
         "categoryorder": "total ascending",
         "domain": [
          0,
          1
         ],
         "range": [
          0,
          289641
         ],
         "title": {
          "text": "Revenues in $M"
         }
        },
        "yaxis": {
         "anchor": "x",
         "domain": [
          0,
          1
         ],
         "title": {
          "text": "Company"
         }
        }
       }
      }
     },
     "metadata": {},
     "output_type": "display_data"
    }
   ],
   "source": [
    "import plotly.express as px\n",
    "\n",
    "# Filter top 10 companies for each year\n",
    "df['Rank'] = df.groupby('Year')['Revenues ($M)'].rank(method='first', ascending=False)\n",
    "top10_df = df[df['Rank'] <= 10].sort_values(by=['Year', 'Rank'], ascending=[True, False])  # Sort in reverse order\n",
    "\n",
    "# Create the race chart using Plotly\n",
    "fig = px.bar(top10_df, \n",
    "             x='Revenues ($M)', \n",
    "             y='Name', \n",
    "             animation_frame='Year', \n",
    "             animation_group='Name', \n",
    "             range_x=[0, top10_df['Revenues ($M)'].max() * 1.1],\n",
    "             orientation='h',\n",
    "             labels={'Revenues ($M)': 'Revenues in $M', 'Name': 'Company'},\n",
    "             title='Top 10 Companies by Revenue in France (1995-2023)',\n",
    "             template='plotly_white')\n",
    "\n",
    "fig.update_layout(xaxis={'categoryorder':'total ascending'},\n",
    "                  height=600,  # Adjust the height of the figure\n",
    "                  width=1800)   # Adjust the width of the figure\n",
    "\n",
    "fig.show()"
   ]
  },
  {
   "cell_type": "code",
   "execution_count": 6,
   "metadata": {},
   "outputs": [
    {
     "data": {
      "application/vnd.plotly.v1+json": {
       "config": {
        "plotlyServerURL": "https://plot.ly"
       },
       "data": [
        {
         "alignmentgroup": "True",
         "hovertemplate": "Year=1995<br>Revenues in $M=%{x}<br>Company=%{y}<extra></extra>",
         "ids": [
          "TotalEnergies",
          "France Telecom SA",
          "Credit Lyonais",
          "Credit Agricole",
          "Compagnie Generale des Eaux",
          "Peugeot",
          "Alcatel Alsthom",
          "Renault",
          "Union Des Assurances de Paris",
          "Elf Aquitaine"
         ],
         "legendgroup": "",
         "marker": {
          "color": "#636efa",
          "pattern": {
           "shape": ""
          }
         },
         "name": "",
         "offsetgroup": "",
         "orientation": "h",
         "showlegend": false,
         "textposition": "auto",
         "type": "bar",
         "x": [
          24653,
          25706.3,
          26388.1,
          27753.1,
          28153.1,
          30112.3,
          30223.9,
          32188,
          34597,
          39459.1
         ],
         "xaxis": "x",
         "y": [
          "TotalEnergies",
          "France Telecom SA",
          "Credit Lyonais",
          "Credit Agricole",
          "Compagnie Generale des Eaux",
          "Peugeot",
          "Alcatel Alsthom",
          "Renault",
          "Union Des Assurances de Paris",
          "Elf Aquitaine"
         ],
         "yaxis": "y"
        }
       ],
       "frames": [
        {
         "data": [
          {
           "alignmentgroup": "True",
           "hovertemplate": "Year=1995<br>Revenues in $M=%{x}<br>Company=%{y}<extra></extra>",
           "ids": [
            "TotalEnergies",
            "France Telecom SA",
            "Credit Lyonais",
            "Credit Agricole",
            "Compagnie Generale des Eaux",
            "Peugeot",
            "Alcatel Alsthom",
            "Renault",
            "Union Des Assurances de Paris",
            "Elf Aquitaine"
           ],
           "legendgroup": "",
           "marker": {
            "color": "#636efa",
            "pattern": {
             "shape": ""
            }
           },
           "name": "",
           "offsetgroup": "",
           "orientation": "h",
           "showlegend": false,
           "textposition": "auto",
           "type": "bar",
           "x": [
            24653,
            25706.3,
            26388.1,
            27753.1,
            28153.1,
            30112.3,
            30223.9,
            32188,
            34597,
            39459.1
           ],
           "xaxis": "x",
           "y": [
            "TotalEnergies",
            "France Telecom SA",
            "Credit Lyonais",
            "Credit Agricole",
            "Compagnie Generale des Eaux",
            "Peugeot",
            "Alcatel Alsthom",
            "Renault",
            "Union Des Assurances de Paris",
            "Elf Aquitaine"
           ],
           "yaxis": "y"
          }
         ],
         "name": "1995"
        },
        {
         "data": [
          {
           "alignmentgroup": "True",
           "hovertemplate": "Year=1996<br>Revenues in $M=%{x}<br>Company=%{y}<extra></extra>",
           "ids": [
            "Carrefour",
            "France Telecom SA",
            "Gan",
            "Alcatel Alsthom",
            "Credit Agricole Group",
            "Compagnie Generale des Eaux",
            "Peugeot",
            "Renault",
            "Union Des Assurances de Paris",
            "Elf Aquitaine"
           ],
           "legendgroup": "",
           "marker": {
            "color": "#636efa",
            "pattern": {
             "shape": ""
            }
           },
           "name": "",
           "offsetgroup": "",
           "orientation": "h",
           "showlegend": false,
           "textposition": "auto",
           "type": "bar",
           "x": [
            28986.6,
            30060.2,
            31224.6,
            32154.4,
            32343.2,
            32664.6,
            33074.3,
            36894.7,
            42004.2,
            43618.4
           ],
           "xaxis": "x",
           "y": [
            "Carrefour",
            "France Telecom SA",
            "Gan",
            "Alcatel Alsthom",
            "Credit Agricole Group",
            "Compagnie Generale des Eaux",
            "Peugeot",
            "Renault",
            "Union Des Assurances de Paris",
            "Elf Aquitaine"
           ],
           "yaxis": "y"
          }
         ],
         "name": "1996"
        },
        {
         "data": [
          {
           "alignmentgroup": "True",
           "hovertemplate": "Year=1997<br>Revenues in $M=%{x}<br>Company=%{y}<extra></extra>",
           "ids": [
            "Alcatel Alsthom",
            "Gan",
            "Compagnie Generale des Eaux",
            "AXA",
            "Peugeot",
            "TotalEnergies",
            "Credit Agricole Group",
            "Renault",
            "Union Des Assurances de Paris",
            "Elf Aquitaine"
           ],
           "legendgroup": "",
           "marker": {
            "color": "#636efa",
            "pattern": {
             "shape": ""
            }
           },
           "name": "",
           "offsetgroup": "",
           "orientation": "h",
           "showlegend": false,
           "textposition": "auto",
           "type": "bar",
           "x": [
            31683.8,
            32259.5,
            32428.8,
            32681.4,
            33914.7,
            34513,
            34619.6,
            35979.1,
            40736.7,
            46818
           ],
           "xaxis": "x",
           "y": [
            "Alcatel Alsthom",
            "Gan",
            "Compagnie Generale des Eaux",
            "AXA",
            "Peugeot",
            "TotalEnergies",
            "Credit Agricole Group",
            "Renault",
            "Union Des Assurances de Paris",
            "Elf Aquitaine"
           ],
           "yaxis": "y"
          }
         ],
         "name": "1997"
        },
        {
         "data": [
          {
           "alignmentgroup": "True",
           "hovertemplate": "Year=1998<br>Revenues in $M=%{x}<br>Company=%{y}<extra></extra>",
           "ids": [
            "Carrefour",
            "Alcatel Alsthom",
            "Peugeot",
            "Suez Lyonnaise des Eaux",
            "TotalEnergies",
            "Credit Agricole Group",
            "Renault",
            "Electricite de France",
            "Elf Aquitaine",
            "AXA"
           ],
           "legendgroup": "",
           "marker": {
            "color": "#636efa",
            "pattern": {
             "shape": ""
            }
           },
           "name": "",
           "offsetgroup": "",
           "orientation": "h",
           "showlegend": false,
           "textposition": "auto",
           "type": "bar",
           "x": [
            29002.7,
            31846.8,
            32003.9,
            32626.7,
            32740.6,
            34014.9,
            35623.8,
            36672.9,
            43572,
            76874.4
           ],
           "xaxis": "x",
           "y": [
            "Carrefour",
            "Alcatel Alsthom",
            "Peugeot",
            "Suez Lyonnaise des Eaux",
            "TotalEnergies",
            "Credit Agricole Group",
            "Renault",
            "Electricite de France",
            "Elf Aquitaine",
            "AXA"
           ],
           "yaxis": "y"
          }
         ],
         "name": "1998"
        },
        {
         "data": [
          {
           "alignmentgroup": "True",
           "hovertemplate": "Year=1999<br>Revenues in $M=%{x}<br>Company=%{y}<extra></extra>",
           "ids": [
            "Societe Generale",
            "Carrefour",
            "Credit Agricole Group",
            "Suez Lyonnaise des Eaux",
            "Vivendi Universal S.A.",
            "Elf Aquitaine",
            "Electricite de France",
            "Peugeot",
            "Renault",
            "AXA"
           ],
           "legendgroup": "",
           "marker": {
            "color": "#636efa",
            "pattern": {
             "shape": ""
            }
           },
           "name": "",
           "offsetgroup": "",
           "orientation": "h",
           "showlegend": false,
           "textposition": "auto",
           "type": "bar",
           "x": [
            29762.1,
            30479,
            33022.4,
            34873.5,
            35292.3,
            35864,
            36672.9,
            37539.8,
            41353.3,
            78729.3
           ],
           "xaxis": "x",
           "y": [
            "Societe Generale",
            "Carrefour",
            "Credit Agricole Group",
            "Suez Lyonnaise des Eaux",
            "Vivendi Universal S.A.",
            "Elf Aquitaine",
            "Electricite de France",
            "Peugeot",
            "Renault",
            "AXA"
           ],
           "yaxis": "y"
          }
         ],
         "name": "1999"
        },
        {
         "data": [
          {
           "alignmentgroup": "True",
           "hovertemplate": "Year=2000<br>Revenues in $M=%{x}<br>Company=%{y}<extra></extra>",
           "ids": [
            "Suez Lyonnaise des Eaux",
            "Electricite de France",
            "Elf Aquitaine",
            "Carrefour",
            "BNP Paribas",
            "Renault",
            "Peugeot",
            "Vivendi Universal S.A.",
            "Total Fina Elf S.A.",
            "AXA"
           ],
           "legendgroup": "",
           "marker": {
            "color": "#636efa",
            "pattern": {
             "shape": ""
            }
           },
           "name": "",
           "offsetgroup": "",
           "orientation": "h",
           "showlegend": false,
           "textposition": "auto",
           "type": "bar",
           "x": [
            33559.7,
            34146.6,
            37918.3,
            39855.7,
            40098.6,
            40098.6,
            40327.9,
            44397.8,
            44990.3,
            87645.7
           ],
           "xaxis": "x",
           "y": [
            "Suez Lyonnaise des Eaux",
            "Electricite de France",
            "Elf Aquitaine",
            "Carrefour",
            "BNP Paribas",
            "Renault",
            "Peugeot",
            "Vivendi Universal S.A.",
            "Total Fina Elf S.A.",
            "AXA"
           ],
           "yaxis": "y"
          }
         ],
         "name": "2000"
        },
        {
         "data": [
          {
           "alignmentgroup": "True",
           "hovertemplate": "Year=2001<br>Revenues in $M=%{x}<br>Company=%{y}<extra></extra>",
           "ids": [
            "France Telecom SA",
            "Electricite de France",
            "Suez",
            "Credit Agricole Group",
            "Renault",
            "Vivendi Universal S.A.",
            "BNP Paribas",
            "Carrefour",
            "AXA",
            "Total Fina Elf S.A."
           ],
           "legendgroup": "",
           "marker": {
            "color": "#636efa",
            "pattern": {
             "shape": ""
            }
           },
           "name": "",
           "offsetgroup": "",
           "orientation": "h",
           "showlegend": false,
           "textposition": "auto",
           "type": "bar",
           "x": [
            31122.2,
            31791.3,
            31991.8,
            34684.7,
            37128.4,
            38628.3,
            57611.6,
            59887.8,
            92781.6,
            105869.6
           ],
           "xaxis": "x",
           "y": [
            "France Telecom SA",
            "Electricite de France",
            "Suez",
            "Credit Agricole Group",
            "Renault",
            "Vivendi Universal S.A.",
            "BNP Paribas",
            "Carrefour",
            "AXA",
            "Total Fina Elf S.A."
           ],
           "yaxis": "y"
          }
         ],
         "name": "2001"
        },
        {
         "data": [
          {
           "alignmentgroup": "True",
           "hovertemplate": "Year=2002<br>Revenues in $M=%{x}<br>Company=%{y}<extra></extra>",
           "ids": [
            "Renault",
            "Credit Nationale de Credit Agricole",
            "Electricite de France",
            "Suez",
            "France Telecom SA",
            "Vivendi Universal S.A.",
            "BNP Paribas",
            "Carrefour",
            "AXA",
            "Total Fina Elf S.A."
           ],
           "legendgroup": "",
           "marker": {
            "color": "#636efa",
            "pattern": {
             "shape": ""
            }
           },
           "name": "",
           "offsetgroup": "",
           "orientation": "h",
           "showlegend": false,
           "textposition": "auto",
           "type": "bar",
           "x": [
            32552.2,
            35668.5,
            36461,
            37932.5,
            38529.6,
            51365.7,
            55044.4,
            62224.6,
            65579.9,
            94311.9
           ],
           "xaxis": "x",
           "y": [
            "Renault",
            "Credit Nationale de Credit Agricole",
            "Electricite de France",
            "Suez",
            "France Telecom SA",
            "Vivendi Universal S.A.",
            "BNP Paribas",
            "Carrefour",
            "AXA",
            "Total Fina Elf S.A."
           ],
           "yaxis": "y"
          }
         ],
         "name": "2002"
        },
        {
         "data": [
          {
           "alignmentgroup": "True",
           "hovertemplate": "Year=2003<br>Revenues in $M=%{x}<br>Company=%{y}<extra></extra>",
           "ids": [
            "Renault",
            "Credit Nationale de Credit Agricole",
            "Suez",
            "France TeIecom SA",
            "Electricite de France",
            "BNP Paribas",
            "Vivendi Universal S.A.",
            "AXA",
            "Carrefour",
            "TotalEnergies"
           ],
           "legendgroup": "",
           "marker": {
            "color": "#636efa",
            "pattern": {
             "shape": ""
            }
           },
           "name": "",
           "offsetgroup": "",
           "orientation": "h",
           "showlegend": false,
           "textposition": "auto",
           "type": "bar",
           "x": [
            34353.3,
            36745.3,
            43574.9,
            44085.7,
            45720.3,
            51127.3,
            54977.1,
            62050.8,
            64978.6,
            96944.9
           ],
           "xaxis": "x",
           "y": [
            "Renault",
            "Credit Nationale de Credit Agricole",
            "Suez",
            "France TeIecom SA",
            "Electricite de France",
            "BNP Paribas",
            "Vivendi Universal S.A.",
            "AXA",
            "Carrefour",
            "TotalEnergies"
           ],
           "yaxis": "y"
          }
         ],
         "name": "2003"
        },
        {
         "data": [
          {
           "alignmentgroup": "True",
           "hovertemplate": "Year=2004<br>Revenues in $M=%{x}<br>Company=%{y}<extra></extra>",
           "ids": [
            "Compagnie de Saint-Gobain",
            "Renault",
            "Suez",
            "Credit Nationale de Credit Agricole",
            "Electricite de France",
            "France TeIecom SA",
            "BNP Paribas",
            "Carrefour",
            "AXA",
            "TotalEnergies"
           ],
           "legendgroup": "",
           "marker": {
            "color": "#636efa",
            "pattern": {
             "shape": ""
            }
           },
           "name": "",
           "offsetgroup": "",
           "orientation": "h",
           "showlegend": false,
           "textposition": "auto",
           "type": "bar",
           "x": [
            33488.9,
            42469.5,
            44842.5,
            45928.1,
            50837.7,
            52198.1,
            57271.8,
            79773.8,
            111912.2,
            118441.4
           ],
           "xaxis": "x",
           "y": [
            "Compagnie de Saint-Gobain",
            "Renault",
            "Suez",
            "Credit Nationale de Credit Agricole",
            "Electricite de France",
            "France TeIecom SA",
            "BNP Paribas",
            "Carrefour",
            "AXA",
            "TotalEnergies"
           ],
           "yaxis": "y"
          }
         ],
         "name": "2004"
        },
        {
         "data": [
          {
           "alignmentgroup": "True",
           "hovertemplate": "Year=2005<br>Revenues in $M=%{x}<br>Company=%{y}<extra></extra>",
           "ids": [
            "Compagnie de Saint-Gobain",
            "Renault",
            "Suez",
            "Electricite de France",
            "France TeIecom SA",
            "Credit Nationale de Credit Agricole",
            "BNP Paribas",
            "Carrefour",
            "AXA",
            "TotalEnergies"
           ],
           "legendgroup": "",
           "marker": {
            "color": "#636efa",
            "pattern": {
             "shape": ""
            }
           },
           "name": "",
           "offsetgroup": "",
           "orientation": "h",
           "showlegend": false,
           "textposition": "auto",
           "type": "bar",
           "x": [
            39831.5,
            50639.7,
            50670.1,
            58367.2,
            58652.1,
            59053.8,
            68654.4,
            90381.7,
            121606.3,
            152609.5
           ],
           "xaxis": "x",
           "y": [
            "Compagnie de Saint-Gobain",
            "Renault",
            "Suez",
            "Electricite de France",
            "France TeIecom SA",
            "Credit Nationale de Credit Agricole",
            "BNP Paribas",
            "Carrefour",
            "AXA",
            "TotalEnergies"
           ],
           "yaxis": "y"
          }
         ],
         "name": "2005"
        },
        {
         "data": [
          {
           "alignmentgroup": "True",
           "hovertemplate": "Year=2006<br>Revenues in $M=%{x}<br>Company=%{y}<extra></extra>",
           "ids": [
            "Groupe Auchan",
            "Compagnie de Saint-Gobain",
            "CNP Assurances",
            "Renault",
            "Suez",
            "Orange",
            "BNP Paribas",
            "Carrefour",
            "AXA",
            "TotalEnergies"
           ],
           "legendgroup": "",
           "marker": {
            "color": "#636efa",
            "pattern": {
             "shape": ""
            }
           },
           "name": "",
           "offsetgroup": "",
           "orientation": "h",
           "showlegend": false,
           "textposition": "auto",
           "type": "bar",
           "x": [
            42073.2,
            43626.4,
            48474.9,
            51365.1,
            52742.9,
            60932.9,
            85687.2,
            94454.5,
            129839.2,
            152360.7
           ],
           "xaxis": "x",
           "y": [
            "Groupe Auchan",
            "Compagnie de Saint-Gobain",
            "CNP Assurances",
            "Renault",
            "Suez",
            "Orange",
            "BNP Paribas",
            "Carrefour",
            "AXA",
            "TotalEnergies"
           ],
           "yaxis": "y"
          }
         ],
         "name": "2006"
        },
        {
         "data": [
          {
           "alignmentgroup": "True",
           "hovertemplate": "Year=2007<br>Revenues in $M=%{x}<br>Company=%{y}<extra></extra>",
           "ids": [
            "Veolia Environnement",
            "Groupe Auchan",
            "Renault",
            "CNP Assurances",
            "Compagnie de Saint-Gobain",
            "Suez",
            "Carrefour",
            "BNP Paribas",
            "AXA",
            "TotalEnergies"
           ],
           "legendgroup": "",
           "marker": {
            "color": "#636efa",
            "pattern": {
             "shape": ""
            }
           },
           "name": "",
           "offsetgroup": "",
           "orientation": "h",
           "showlegend": false,
           "textposition": "auto",
           "type": "bar",
           "x": [
            44749.9,
            50464.9,
            55684,
            59071.4,
            59433,
            64982.5,
            115584.7,
            140726.5,
            162762.3,
            187279.5
           ],
           "xaxis": "x",
           "y": [
            "Veolia Environnement",
            "Groupe Auchan",
            "Renault",
            "CNP Assurances",
            "Compagnie de Saint-Gobain",
            "Suez",
            "Carrefour",
            "BNP Paribas",
            "AXA",
            "TotalEnergies"
           ],
           "yaxis": "y"
          }
         ],
         "name": "2007"
        },
        {
         "data": [
          {
           "alignmentgroup": "True",
           "hovertemplate": "Year=2008<br>Revenues in $M=%{x}<br>Company=%{y}<extra></extra>",
           "ids": [
            "Les Caisses d'epargne et de Prevoyance",
            "Renault",
            "CNP Assurances",
            "Compagnie de Saint-Gobain",
            "Suez",
            "PSA Peugeot Citroen S.A.",
            "Carrefour",
            "BNP Paribas",
            "AXA",
            "TotalEnergies"
           ],
           "legendgroup": "",
           "marker": {
            "color": "#636efa",
            "pattern": {
             "shape": ""
            }
           },
           "name": "",
           "offsetgroup": "",
           "orientation": "h",
           "showlegend": false,
           "textposition": "auto",
           "type": "bar",
           "x": [
            53992.2,
            55684,
            59071.4,
            59433,
            64982.5,
            82964.8,
            115584.7,
            140726.5,
            162762.3,
            187279.5
           ],
           "xaxis": "x",
           "y": [
            "Les Caisses d'epargne et de Prevoyance",
            "Renault",
            "CNP Assurances",
            "Compagnie de Saint-Gobain",
            "Suez",
            "PSA Peugeot Citroen S.A.",
            "Carrefour",
            "BNP Paribas",
            "AXA",
            "TotalEnergies"
           ],
           "yaxis": "y"
          }
         ],
         "name": "2008"
        },
        {
         "data": [
          {
           "alignmentgroup": "True",
           "hovertemplate": "Year=2009<br>Revenues in $M=%{x}<br>Company=%{y}<extra></extra>",
           "ids": [
            "Veolia Environnement",
            "Renault",
            "Groupe Auchan",
            "Compagnie de Saint-Gobain",
            "Orange",
            "AXA",
            "Engie",
            "Carrefour",
            "BNP Paribas",
            "TotalEnergies"
           ],
           "legendgroup": "",
           "marker": {
            "color": "#636efa",
            "pattern": {
             "shape": ""
            }
           },
           "name": "",
           "offsetgroup": "",
           "orientation": "h",
           "showlegend": false,
           "textposition": "auto",
           "type": "bar",
           "x": [
            53901.1,
            55314.1,
            57792.1,
            64109.4,
            78289.6,
            80256.8,
            99419.1,
            129133.9,
            136096.4,
            234674.1
           ],
           "xaxis": "x",
           "y": [
            "Veolia Environnement",
            "Renault",
            "Groupe Auchan",
            "Compagnie de Saint-Gobain",
            "Orange",
            "AXA",
            "Engie",
            "Carrefour",
            "BNP Paribas",
            "TotalEnergies"
           ],
           "yaxis": "y"
          }
         ],
         "name": "2009"
        },
        {
         "data": [
          {
           "alignmentgroup": "True",
           "hovertemplate": "Year=2010<br>Revenues in $M=%{x}<br>Company=%{y}<extra></extra>",
           "ids": [
            "Veolia Environnement",
            "Compagnie de Saint-Gobain",
            "Groupe Auchan",
            "CNP Assurances",
            "Groupe BPCE",
            "Engie",
            "Carrefour",
            "BNP Paribas",
            "TotalEnergies",
            "AXA"
           ],
           "legendgroup": "",
           "marker": {
            "color": "#636efa",
            "pattern": {
             "shape": ""
            }
           },
           "name": "",
           "offsetgroup": "",
           "orientation": "h",
           "showlegend": false,
           "textposition": "auto",
           "type": "bar",
           "x": [
            49142,
            52520.7,
            55140.7,
            66555.7,
            76463.9,
            111068.6,
            121452.5,
            130708.1,
            155887.1,
            175257.4
           ],
           "xaxis": "x",
           "y": [
            "Veolia Environnement",
            "Compagnie de Saint-Gobain",
            "Groupe Auchan",
            "CNP Assurances",
            "Groupe BPCE",
            "Engie",
            "Carrefour",
            "BNP Paribas",
            "TotalEnergies",
            "AXA"
           ],
           "yaxis": "y"
          }
         ],
         "name": "2010"
        },
        {
         "data": [
          {
           "alignmentgroup": "True",
           "hovertemplate": "Year=2011<br>Revenues in $M=%{x}<br>Company=%{y}<extra></extra>",
           "ids": [
            "Renault",
            "Compagnie de Saint-Gobain",
            "Groupe Auchan",
            "CNP Assurances",
            "Groupe BPCE",
            "GDF Suez SA",
            "Carrefour",
            "BNP Paribas",
            "AXA",
            "TotalEnergies"
           ],
           "legendgroup": "",
           "marker": {
            "color": "#636efa",
            "pattern": {
             "shape": ""
            }
           },
           "name": "",
           "offsetgroup": "",
           "orientation": "h",
           "showlegend": false,
           "textposition": "auto",
           "type": "bar",
           "x": [
            51615.6,
            53136,
            56279,
            59319.7,
            69297.1,
            111887.8,
            120296.8,
            128725.7,
            162235.9,
            186055
           ],
           "xaxis": "x",
           "y": [
            "Renault",
            "Compagnie de Saint-Gobain",
            "Groupe Auchan",
            "CNP Assurances",
            "Groupe BPCE",
            "GDF Suez SA",
            "Carrefour",
            "BNP Paribas",
            "AXA",
            "TotalEnergies"
           ],
           "yaxis": "y"
          }
         ],
         "name": "2011"
        },
        {
         "data": [
          {
           "alignmentgroup": "True",
           "hovertemplate": "Year=2012<br>Revenues in $M=%{x}<br>Company=%{y}<extra></extra>",
           "ids": [
            "Compagnie de Saint-Gobain",
            "Renault",
            "Groupe Auchan",
            "Groupe BPCE",
            "Societe Generale",
            "Carrefour",
            "GDF Suez SA",
            "BNP Paribas",
            "AXA",
            "TotalEnergies"
           ],
           "legendgroup": "",
           "marker": {
            "color": "#636efa",
            "pattern": {
             "shape": ""
            }
           },
           "name": "",
           "offsetgroup": "",
           "orientation": "h",
           "showlegend": false,
           "textposition": "auto",
           "type": "bar",
           "x": [
            58560.3,
            59272.2,
            61698.5,
            75081.6,
            98463.5,
            121734.1,
            126076.5,
            127460,
            142711.8,
            231579.8
           ],
           "xaxis": "x",
           "y": [
            "Compagnie de Saint-Gobain",
            "Renault",
            "Groupe Auchan",
            "Groupe BPCE",
            "Societe Generale",
            "Carrefour",
            "GDF Suez SA",
            "BNP Paribas",
            "AXA",
            "TotalEnergies"
           ],
           "yaxis": "y"
          }
         ],
         "name": "2012"
        },
        {
         "data": [
          {
           "alignmentgroup": "True",
           "hovertemplate": "Year=2013<br>Revenues in $M=%{x}<br>Company=%{y}<extra></extra>",
           "ids": [
            "Groupe BPCE",
            "Peugeot",
            "Electricite de France",
            "Credit Nationale de Credit Agricole",
            "Societe Generale",
            "Carrefour",
            "BNP Paribas",
            "GDF Suez SA",
            "AXA",
            "TotalEnergies"
           ],
           "legendgroup": "",
           "marker": {
            "color": "#636efa",
            "pattern": {
             "shape": ""
            }
           },
           "name": "",
           "offsetgroup": "",
           "orientation": "h",
           "showlegend": false,
           "textposition": "auto",
           "type": "bar",
           "x": [
            66973.2,
            71255.2,
            93466.1,
            95181.7,
            105064.4,
            105996.1,
            123029.2,
            124706.2,
            154571.3,
            234277.5
           ],
           "xaxis": "x",
           "y": [
            "Groupe BPCE",
            "Peugeot",
            "Electricite de France",
            "Credit Nationale de Credit Agricole",
            "Societe Generale",
            "Carrefour",
            "BNP Paribas",
            "GDF Suez SA",
            "AXA",
            "TotalEnergies"
           ],
           "yaxis": "y"
          }
         ],
         "name": "2013"
        },
        {
         "data": [
          {
           "alignmentgroup": "True",
           "hovertemplate": "Year=2014<br>Revenues in $M=%{x}<br>Company=%{y}<extra></extra>",
           "ids": [
            "Groupe BPCE",
            "Peugeot",
            "Credit Agricole",
            "Electricite de France",
            "Carrefour",
            "Engie",
            "BNP Paribas",
            "Societe Generale",
            "AXA",
            "TotalEnergies"
           ],
           "legendgroup": "",
           "marker": {
            "color": "#636efa",
            "pattern": {
             "shape": ""
            }
           },
           "name": "",
           "offsetgroup": "",
           "orientation": "h",
           "showlegend": false,
           "textposition": "auto",
           "type": "bar",
           "x": [
            66428,
            71807,
            93618,
            100355,
            101790,
            118551,
            121939,
            132711,
            165893,
            227882
           ],
           "xaxis": "x",
           "y": [
            "Groupe BPCE",
            "Peugeot",
            "Credit Agricole",
            "Electricite de France",
            "Carrefour",
            "Engie",
            "BNP Paribas",
            "Societe Generale",
            "AXA",
            "TotalEnergies"
           ],
           "yaxis": "y"
          }
         ],
         "name": "2014"
        },
        {
         "data": [
          {
           "alignmentgroup": "True",
           "hovertemplate": "Year=2015<br>Revenues in $M=%{x}<br>Company=%{y}<extra></extra>",
           "ids": [
            "Groupe Auchan",
            "Peugeot",
            "Electricite de France",
            "Engie",
            "Carrefour",
            "Credit Agricole",
            "Societe Generale",
            "BNP Paribas",
            "AXA",
            "TotalEnergies"
           ],
           "legendgroup": "",
           "marker": {
            "color": "#636efa",
            "pattern": {
             "shape": ""
            }
           },
           "name": "",
           "offsetgroup": "",
           "orientation": "h",
           "showlegend": false,
           "textposition": "auto",
           "type": "bar",
           "x": [
            70908.3,
            71111.3,
            96669.5,
            99073.2,
            101238.1,
            106198,
            118232.3,
            124333,
            161173.4,
            212018
           ],
           "xaxis": "x",
           "y": [
            "Groupe Auchan",
            "Peugeot",
            "Electricite de France",
            "Engie",
            "Carrefour",
            "Credit Agricole",
            "Societe Generale",
            "BNP Paribas",
            "AXA",
            "TotalEnergies"
           ],
           "yaxis": "y"
          }
         ],
         "name": "2015"
        },
        {
         "data": [
          {
           "alignmentgroup": "True",
           "hovertemplate": "Year=2016<br>Revenues in $M=%{x}<br>Company=%{y}<extra></extra>",
           "ids": [
            "ELO Group",
            "Peugeot",
            "Engie",
            "Electricite de France",
            "Credit Agricole",
            "Carrefour",
            "Societe Generale",
            "BNP Paribas",
            "AXA",
            "TotalEnergies"
           ],
           "legendgroup": "",
           "marker": {
            "color": "#636efa",
            "pattern": {
             "shape": ""
            }
           },
           "name": "",
           "offsetgroup": "",
           "orientation": "h",
           "showlegend": false,
           "textposition": "auto",
           "type": "bar",
           "x": [
            60158,
            60651,
            77520,
            83202,
            84099,
            87474,
            107736,
            111531,
            129250,
            143421
           ],
           "xaxis": "x",
           "y": [
            "ELO Group",
            "Peugeot",
            "Engie",
            "Electricite de France",
            "Credit Agricole",
            "Carrefour",
            "Societe Generale",
            "BNP Paribas",
            "AXA",
            "TotalEnergies"
           ],
           "yaxis": "y"
          }
         ],
         "name": "2016"
        },
        {
         "data": [
          {
           "alignmentgroup": "True",
           "hovertemplate": "Year=2017<br>Revenues in $M=%{x}<br>Company=%{y}<extra></extra>",
           "ids": [
            "Peugeot",
            "Societe Generale",
            "Groupe BPCE",
            "Engie",
            "Electricite de France",
            "Credit Agricole",
            "Carrefour",
            "BNP Paribas",
            "TotalEnergies",
            "AXA"
           ],
           "legendgroup": "",
           "marker": {
            "color": "#636efa",
            "pattern": {
             "shape": ""
            }
           },
           "name": "",
           "offsetgroup": "",
           "orientation": "h",
           "showlegend": false,
           "textposition": "auto",
           "type": "bar",
           "x": [
            59749,
            69335,
            70517,
            73692,
            78740,
            80258,
            87112,
            109026,
            127925,
            143722
           ],
           "xaxis": "x",
           "y": [
            "Peugeot",
            "Societe Generale",
            "Groupe BPCE",
            "Engie",
            "Electricite de France",
            "Credit Agricole",
            "Carrefour",
            "BNP Paribas",
            "TotalEnergies",
            "AXA"
           ],
           "yaxis": "y"
          }
         ],
         "name": "2017"
        },
        {
         "data": [
          {
           "alignmentgroup": "True",
           "hovertemplate": "Year=2018<br>Revenues in $M=%{x}<br>Company=%{y}<extra></extra>",
           "ids": [
            "Renault",
            "Societe Generale",
            "Peugeot",
            "Engie",
            "Electricite de France",
            "Credit Agricole",
            "Carrefour",
            "BNP Paribas",
            "TotalEnergies",
            "AXA"
           ],
           "legendgroup": "",
           "marker": {
            "color": "#636efa",
            "pattern": {
             "shape": ""
            }
           },
           "name": "",
           "offsetgroup": "",
           "orientation": "h",
           "showlegend": false,
           "textposition": "auto",
           "type": "bar",
           "x": [
            66247,
            69948,
            73506,
            75279,
            78490,
            84222,
            91276,
            117375,
            149099,
            149461
           ],
           "xaxis": "x",
           "y": [
            "Renault",
            "Societe Generale",
            "Peugeot",
            "Engie",
            "Electricite de France",
            "Credit Agricole",
            "Carrefour",
            "BNP Paribas",
            "TotalEnergies",
            "AXA"
           ],
           "yaxis": "y"
          }
         ],
         "name": "2018"
        },
        {
         "data": [
          {
           "alignmentgroup": "True",
           "hovertemplate": "Year=2019<br>Revenues in $M=%{x}<br>Company=%{y}<extra></extra>",
           "ids": [
            "ELO Group",
            "Renault",
            "Engie",
            "Electricite de France",
            "BNP Paribas",
            "Peugeot",
            "Credit Agricole",
            "Carrefour",
            "AXA",
            "TotalEnergies"
           ],
           "legendgroup": "",
           "marker": {
            "color": "#636efa",
            "pattern": {
             "shape": ""
            }
           },
           "name": "",
           "offsetgroup": "",
           "orientation": "h",
           "showlegend": false,
           "textposition": "auto",
           "type": "bar",
           "x": [
            60749.2,
            67764.1,
            74144.1,
            81403.3,
            83973.7,
            87364.3,
            88325,
            91955.2,
            125578.2,
            184106
           ],
           "xaxis": "x",
           "y": [
            "ELO Group",
            "Renault",
            "Engie",
            "Electricite de France",
            "BNP Paribas",
            "Peugeot",
            "Credit Agricole",
            "Carrefour",
            "AXA",
            "TotalEnergies"
           ],
           "yaxis": "y"
          }
         ],
         "name": "2019"
        },
        {
         "data": [
          {
           "alignmentgroup": "True",
           "hovertemplate": "Year=2020<br>Revenues in $M=%{x}<br>Company=%{y}<extra></extra>",
           "ids": [
            "Christian Dior",
            "Renault",
            "Engie",
            "Electricite de France",
            "Peugeot",
            "BNP Paribas",
            "Carrefour",
            "Credit Agricole",
            "AXA",
            "TotalEnergies"
           ],
           "legendgroup": "",
           "marker": {
            "color": "#636efa",
            "pattern": {
             "shape": ""
            }
           },
           "name": "",
           "offsetgroup": "",
           "orientation": "h",
           "showlegend": false,
           "textposition": "auto",
           "type": "bar",
           "x": [
            60071,
            62160,
            67220,
            80278,
            83643,
            85058,
            85905,
            104972,
            148984,
            176249
           ],
           "xaxis": "x",
           "y": [
            "Christian Dior",
            "Renault",
            "Engie",
            "Electricite de France",
            "Peugeot",
            "BNP Paribas",
            "Carrefour",
            "Credit Agricole",
            "AXA",
            "TotalEnergies"
           ],
           "yaxis": "y"
          }
         ],
         "name": "2020"
        },
        {
         "data": [
          {
           "alignmentgroup": "True",
           "hovertemplate": "Year=2021<br>Revenues in $M=%{x}<br>Company=%{y}<extra></extra>",
           "ids": [
            "Vinci",
            "Christian Dior",
            "Societe Generale",
            "Engie",
            "Electricite de France",
            "BNP Paribas",
            "Carrefour",
            "Credit Agricole",
            "TotalEnergies",
            "AXA"
           ],
           "legendgroup": "",
           "marker": {
            "color": "#636efa",
            "pattern": {
             "shape": ""
            }
           },
           "name": "",
           "offsetgroup": "",
           "orientation": "h",
           "showlegend": false,
           "textposition": "auto",
           "type": "bar",
           "x": [
            50270.2,
            50877.6,
            52068.3,
            63525.4,
            78903.5,
            81632.4,
            82211.3,
            82958.8,
            119704,
            128011.4
           ],
           "xaxis": "x",
           "y": [
            "Vinci",
            "Christian Dior",
            "Societe Generale",
            "Engie",
            "Electricite de France",
            "BNP Paribas",
            "Carrefour",
            "Credit Agricole",
            "TotalEnergies",
            "AXA"
           ],
           "yaxis": "y"
          }
         ],
         "name": "2021"
        },
        {
         "data": [
          {
           "alignmentgroup": "True",
           "hovertemplate": "Year=2022<br>Revenues in $M=%{x}<br>Company=%{y}<extra></extra>",
           "ids": [
            "Societe Generale",
            "Vinci",
            "Christian Dior",
            "Engie",
            "BNP Paribas",
            "Carrefour",
            "Electricite de France",
            "Credit Agricole",
            "AXA",
            "TotalEnergies"
           ],
           "legendgroup": "",
           "marker": {
            "color": "#636efa",
            "pattern": {
             "shape": ""
            }
           },
           "name": "",
           "offsetgroup": "",
           "orientation": "h",
           "showlegend": false,
           "textposition": "auto",
           "type": "bar",
           "x": [
            59057.5,
            59388.6,
            75923.5,
            83621.7,
            85300.6,
            87830.8,
            99861,
            107695.2,
            144446.8,
            184634
           ],
           "xaxis": "x",
           "y": [
            "Societe Generale",
            "Vinci",
            "Christian Dior",
            "Engie",
            "BNP Paribas",
            "Carrefour",
            "Electricite de France",
            "Credit Agricole",
            "AXA",
            "TotalEnergies"
           ],
           "yaxis": "y"
          }
         ],
         "name": "2022"
        },
        {
         "data": [
          {
           "alignmentgroup": "True",
           "hovertemplate": "Year=2023<br>Revenues in $M=%{x}<br>Company=%{y}<extra></extra>",
           "ids": [
            "Societe Generale",
            "Vinci",
            "Christian Dior",
            "Credit Agricole",
            "BNP Paribas",
            "Carrefour",
            "AXA",
            "Engie",
            "Electricite de France",
            "TotalEnergies"
           ],
           "legendgroup": "",
           "marker": {
            "color": "#636efa",
            "pattern": {
             "shape": ""
            }
           },
           "name": "",
           "offsetgroup": "",
           "orientation": "h",
           "showlegend": false,
           "textposition": "auto",
           "type": "bar",
           "x": [
            63416.8,
            65749.6,
            83282.5,
            86471.4,
            89563.6,
            90062.1,
            109067.4,
            109174.7,
            150902.1,
            263310
           ],
           "xaxis": "x",
           "y": [
            "Societe Generale",
            "Vinci",
            "Christian Dior",
            "Credit Agricole",
            "BNP Paribas",
            "Carrefour",
            "AXA",
            "Engie",
            "Electricite de France",
            "TotalEnergies"
           ],
           "yaxis": "y"
          }
         ],
         "name": "2023"
        }
       ],
       "layout": {
        "barmode": "relative",
        "height": 600,
        "legend": {
         "tracegroupgap": 0
        },
        "sliders": [
         {
          "active": 0,
          "currentvalue": {
           "prefix": "Year="
          },
          "len": 0.9,
          "pad": {
           "b": 10,
           "t": 60
          },
          "steps": [
           {
            "args": [
             [
              "1995"
             ],
             {
              "frame": {
               "duration": 0,
               "redraw": true
              },
              "fromcurrent": true,
              "mode": "immediate",
              "transition": {
               "duration": 0,
               "easing": "linear"
              }
             }
            ],
            "label": "1995",
            "method": "animate"
           },
           {
            "args": [
             [
              "1996"
             ],
             {
              "frame": {
               "duration": 0,
               "redraw": true
              },
              "fromcurrent": true,
              "mode": "immediate",
              "transition": {
               "duration": 0,
               "easing": "linear"
              }
             }
            ],
            "label": "1996",
            "method": "animate"
           },
           {
            "args": [
             [
              "1997"
             ],
             {
              "frame": {
               "duration": 0,
               "redraw": true
              },
              "fromcurrent": true,
              "mode": "immediate",
              "transition": {
               "duration": 0,
               "easing": "linear"
              }
             }
            ],
            "label": "1997",
            "method": "animate"
           },
           {
            "args": [
             [
              "1998"
             ],
             {
              "frame": {
               "duration": 0,
               "redraw": true
              },
              "fromcurrent": true,
              "mode": "immediate",
              "transition": {
               "duration": 0,
               "easing": "linear"
              }
             }
            ],
            "label": "1998",
            "method": "animate"
           },
           {
            "args": [
             [
              "1999"
             ],
             {
              "frame": {
               "duration": 0,
               "redraw": true
              },
              "fromcurrent": true,
              "mode": "immediate",
              "transition": {
               "duration": 0,
               "easing": "linear"
              }
             }
            ],
            "label": "1999",
            "method": "animate"
           },
           {
            "args": [
             [
              "2000"
             ],
             {
              "frame": {
               "duration": 0,
               "redraw": true
              },
              "fromcurrent": true,
              "mode": "immediate",
              "transition": {
               "duration": 0,
               "easing": "linear"
              }
             }
            ],
            "label": "2000",
            "method": "animate"
           },
           {
            "args": [
             [
              "2001"
             ],
             {
              "frame": {
               "duration": 0,
               "redraw": true
              },
              "fromcurrent": true,
              "mode": "immediate",
              "transition": {
               "duration": 0,
               "easing": "linear"
              }
             }
            ],
            "label": "2001",
            "method": "animate"
           },
           {
            "args": [
             [
              "2002"
             ],
             {
              "frame": {
               "duration": 0,
               "redraw": true
              },
              "fromcurrent": true,
              "mode": "immediate",
              "transition": {
               "duration": 0,
               "easing": "linear"
              }
             }
            ],
            "label": "2002",
            "method": "animate"
           },
           {
            "args": [
             [
              "2003"
             ],
             {
              "frame": {
               "duration": 0,
               "redraw": true
              },
              "fromcurrent": true,
              "mode": "immediate",
              "transition": {
               "duration": 0,
               "easing": "linear"
              }
             }
            ],
            "label": "2003",
            "method": "animate"
           },
           {
            "args": [
             [
              "2004"
             ],
             {
              "frame": {
               "duration": 0,
               "redraw": true
              },
              "fromcurrent": true,
              "mode": "immediate",
              "transition": {
               "duration": 0,
               "easing": "linear"
              }
             }
            ],
            "label": "2004",
            "method": "animate"
           },
           {
            "args": [
             [
              "2005"
             ],
             {
              "frame": {
               "duration": 0,
               "redraw": true
              },
              "fromcurrent": true,
              "mode": "immediate",
              "transition": {
               "duration": 0,
               "easing": "linear"
              }
             }
            ],
            "label": "2005",
            "method": "animate"
           },
           {
            "args": [
             [
              "2006"
             ],
             {
              "frame": {
               "duration": 0,
               "redraw": true
              },
              "fromcurrent": true,
              "mode": "immediate",
              "transition": {
               "duration": 0,
               "easing": "linear"
              }
             }
            ],
            "label": "2006",
            "method": "animate"
           },
           {
            "args": [
             [
              "2007"
             ],
             {
              "frame": {
               "duration": 0,
               "redraw": true
              },
              "fromcurrent": true,
              "mode": "immediate",
              "transition": {
               "duration": 0,
               "easing": "linear"
              }
             }
            ],
            "label": "2007",
            "method": "animate"
           },
           {
            "args": [
             [
              "2008"
             ],
             {
              "frame": {
               "duration": 0,
               "redraw": true
              },
              "fromcurrent": true,
              "mode": "immediate",
              "transition": {
               "duration": 0,
               "easing": "linear"
              }
             }
            ],
            "label": "2008",
            "method": "animate"
           },
           {
            "args": [
             [
              "2009"
             ],
             {
              "frame": {
               "duration": 0,
               "redraw": true
              },
              "fromcurrent": true,
              "mode": "immediate",
              "transition": {
               "duration": 0,
               "easing": "linear"
              }
             }
            ],
            "label": "2009",
            "method": "animate"
           },
           {
            "args": [
             [
              "2010"
             ],
             {
              "frame": {
               "duration": 0,
               "redraw": true
              },
              "fromcurrent": true,
              "mode": "immediate",
              "transition": {
               "duration": 0,
               "easing": "linear"
              }
             }
            ],
            "label": "2010",
            "method": "animate"
           },
           {
            "args": [
             [
              "2011"
             ],
             {
              "frame": {
               "duration": 0,
               "redraw": true
              },
              "fromcurrent": true,
              "mode": "immediate",
              "transition": {
               "duration": 0,
               "easing": "linear"
              }
             }
            ],
            "label": "2011",
            "method": "animate"
           },
           {
            "args": [
             [
              "2012"
             ],
             {
              "frame": {
               "duration": 0,
               "redraw": true
              },
              "fromcurrent": true,
              "mode": "immediate",
              "transition": {
               "duration": 0,
               "easing": "linear"
              }
             }
            ],
            "label": "2012",
            "method": "animate"
           },
           {
            "args": [
             [
              "2013"
             ],
             {
              "frame": {
               "duration": 0,
               "redraw": true
              },
              "fromcurrent": true,
              "mode": "immediate",
              "transition": {
               "duration": 0,
               "easing": "linear"
              }
             }
            ],
            "label": "2013",
            "method": "animate"
           },
           {
            "args": [
             [
              "2014"
             ],
             {
              "frame": {
               "duration": 0,
               "redraw": true
              },
              "fromcurrent": true,
              "mode": "immediate",
              "transition": {
               "duration": 0,
               "easing": "linear"
              }
             }
            ],
            "label": "2014",
            "method": "animate"
           },
           {
            "args": [
             [
              "2015"
             ],
             {
              "frame": {
               "duration": 0,
               "redraw": true
              },
              "fromcurrent": true,
              "mode": "immediate",
              "transition": {
               "duration": 0,
               "easing": "linear"
              }
             }
            ],
            "label": "2015",
            "method": "animate"
           },
           {
            "args": [
             [
              "2016"
             ],
             {
              "frame": {
               "duration": 0,
               "redraw": true
              },
              "fromcurrent": true,
              "mode": "immediate",
              "transition": {
               "duration": 0,
               "easing": "linear"
              }
             }
            ],
            "label": "2016",
            "method": "animate"
           },
           {
            "args": [
             [
              "2017"
             ],
             {
              "frame": {
               "duration": 0,
               "redraw": true
              },
              "fromcurrent": true,
              "mode": "immediate",
              "transition": {
               "duration": 0,
               "easing": "linear"
              }
             }
            ],
            "label": "2017",
            "method": "animate"
           },
           {
            "args": [
             [
              "2018"
             ],
             {
              "frame": {
               "duration": 0,
               "redraw": true
              },
              "fromcurrent": true,
              "mode": "immediate",
              "transition": {
               "duration": 0,
               "easing": "linear"
              }
             }
            ],
            "label": "2018",
            "method": "animate"
           },
           {
            "args": [
             [
              "2019"
             ],
             {
              "frame": {
               "duration": 0,
               "redraw": true
              },
              "fromcurrent": true,
              "mode": "immediate",
              "transition": {
               "duration": 0,
               "easing": "linear"
              }
             }
            ],
            "label": "2019",
            "method": "animate"
           },
           {
            "args": [
             [
              "2020"
             ],
             {
              "frame": {
               "duration": 0,
               "redraw": true
              },
              "fromcurrent": true,
              "mode": "immediate",
              "transition": {
               "duration": 0,
               "easing": "linear"
              }
             }
            ],
            "label": "2020",
            "method": "animate"
           },
           {
            "args": [
             [
              "2021"
             ],
             {
              "frame": {
               "duration": 0,
               "redraw": true
              },
              "fromcurrent": true,
              "mode": "immediate",
              "transition": {
               "duration": 0,
               "easing": "linear"
              }
             }
            ],
            "label": "2021",
            "method": "animate"
           },
           {
            "args": [
             [
              "2022"
             ],
             {
              "frame": {
               "duration": 0,
               "redraw": true
              },
              "fromcurrent": true,
              "mode": "immediate",
              "transition": {
               "duration": 0,
               "easing": "linear"
              }
             }
            ],
            "label": "2022",
            "method": "animate"
           },
           {
            "args": [
             [
              "2023"
             ],
             {
              "frame": {
               "duration": 0,
               "redraw": true
              },
              "fromcurrent": true,
              "mode": "immediate",
              "transition": {
               "duration": 0,
               "easing": "linear"
              }
             }
            ],
            "label": "2023",
            "method": "animate"
           }
          ],
          "x": 0.1,
          "xanchor": "left",
          "y": 0,
          "yanchor": "top"
         }
        ],
        "template": {
         "data": {
          "bar": [
           {
            "error_x": {
             "color": "#2a3f5f"
            },
            "error_y": {
             "color": "#2a3f5f"
            },
            "marker": {
             "line": {
              "color": "white",
              "width": 0.5
             },
             "pattern": {
              "fillmode": "overlay",
              "size": 10,
              "solidity": 0.2
             }
            },
            "type": "bar"
           }
          ],
          "barpolar": [
           {
            "marker": {
             "line": {
              "color": "white",
              "width": 0.5
             },
             "pattern": {
              "fillmode": "overlay",
              "size": 10,
              "solidity": 0.2
             }
            },
            "type": "barpolar"
           }
          ],
          "carpet": [
           {
            "aaxis": {
             "endlinecolor": "#2a3f5f",
             "gridcolor": "#C8D4E3",
             "linecolor": "#C8D4E3",
             "minorgridcolor": "#C8D4E3",
             "startlinecolor": "#2a3f5f"
            },
            "baxis": {
             "endlinecolor": "#2a3f5f",
             "gridcolor": "#C8D4E3",
             "linecolor": "#C8D4E3",
             "minorgridcolor": "#C8D4E3",
             "startlinecolor": "#2a3f5f"
            },
            "type": "carpet"
           }
          ],
          "choropleth": [
           {
            "colorbar": {
             "outlinewidth": 0,
             "ticks": ""
            },
            "type": "choropleth"
           }
          ],
          "contour": [
           {
            "colorbar": {
             "outlinewidth": 0,
             "ticks": ""
            },
            "colorscale": [
             [
              0,
              "#0d0887"
             ],
             [
              0.1111111111111111,
              "#46039f"
             ],
             [
              0.2222222222222222,
              "#7201a8"
             ],
             [
              0.3333333333333333,
              "#9c179e"
             ],
             [
              0.4444444444444444,
              "#bd3786"
             ],
             [
              0.5555555555555556,
              "#d8576b"
             ],
             [
              0.6666666666666666,
              "#ed7953"
             ],
             [
              0.7777777777777778,
              "#fb9f3a"
             ],
             [
              0.8888888888888888,
              "#fdca26"
             ],
             [
              1,
              "#f0f921"
             ]
            ],
            "type": "contour"
           }
          ],
          "contourcarpet": [
           {
            "colorbar": {
             "outlinewidth": 0,
             "ticks": ""
            },
            "type": "contourcarpet"
           }
          ],
          "heatmap": [
           {
            "colorbar": {
             "outlinewidth": 0,
             "ticks": ""
            },
            "colorscale": [
             [
              0,
              "#0d0887"
             ],
             [
              0.1111111111111111,
              "#46039f"
             ],
             [
              0.2222222222222222,
              "#7201a8"
             ],
             [
              0.3333333333333333,
              "#9c179e"
             ],
             [
              0.4444444444444444,
              "#bd3786"
             ],
             [
              0.5555555555555556,
              "#d8576b"
             ],
             [
              0.6666666666666666,
              "#ed7953"
             ],
             [
              0.7777777777777778,
              "#fb9f3a"
             ],
             [
              0.8888888888888888,
              "#fdca26"
             ],
             [
              1,
              "#f0f921"
             ]
            ],
            "type": "heatmap"
           }
          ],
          "heatmapgl": [
           {
            "colorbar": {
             "outlinewidth": 0,
             "ticks": ""
            },
            "colorscale": [
             [
              0,
              "#0d0887"
             ],
             [
              0.1111111111111111,
              "#46039f"
             ],
             [
              0.2222222222222222,
              "#7201a8"
             ],
             [
              0.3333333333333333,
              "#9c179e"
             ],
             [
              0.4444444444444444,
              "#bd3786"
             ],
             [
              0.5555555555555556,
              "#d8576b"
             ],
             [
              0.6666666666666666,
              "#ed7953"
             ],
             [
              0.7777777777777778,
              "#fb9f3a"
             ],
             [
              0.8888888888888888,
              "#fdca26"
             ],
             [
              1,
              "#f0f921"
             ]
            ],
            "type": "heatmapgl"
           }
          ],
          "histogram": [
           {
            "marker": {
             "pattern": {
              "fillmode": "overlay",
              "size": 10,
              "solidity": 0.2
             }
            },
            "type": "histogram"
           }
          ],
          "histogram2d": [
           {
            "colorbar": {
             "outlinewidth": 0,
             "ticks": ""
            },
            "colorscale": [
             [
              0,
              "#0d0887"
             ],
             [
              0.1111111111111111,
              "#46039f"
             ],
             [
              0.2222222222222222,
              "#7201a8"
             ],
             [
              0.3333333333333333,
              "#9c179e"
             ],
             [
              0.4444444444444444,
              "#bd3786"
             ],
             [
              0.5555555555555556,
              "#d8576b"
             ],
             [
              0.6666666666666666,
              "#ed7953"
             ],
             [
              0.7777777777777778,
              "#fb9f3a"
             ],
             [
              0.8888888888888888,
              "#fdca26"
             ],
             [
              1,
              "#f0f921"
             ]
            ],
            "type": "histogram2d"
           }
          ],
          "histogram2dcontour": [
           {
            "colorbar": {
             "outlinewidth": 0,
             "ticks": ""
            },
            "colorscale": [
             [
              0,
              "#0d0887"
             ],
             [
              0.1111111111111111,
              "#46039f"
             ],
             [
              0.2222222222222222,
              "#7201a8"
             ],
             [
              0.3333333333333333,
              "#9c179e"
             ],
             [
              0.4444444444444444,
              "#bd3786"
             ],
             [
              0.5555555555555556,
              "#d8576b"
             ],
             [
              0.6666666666666666,
              "#ed7953"
             ],
             [
              0.7777777777777778,
              "#fb9f3a"
             ],
             [
              0.8888888888888888,
              "#fdca26"
             ],
             [
              1,
              "#f0f921"
             ]
            ],
            "type": "histogram2dcontour"
           }
          ],
          "mesh3d": [
           {
            "colorbar": {
             "outlinewidth": 0,
             "ticks": ""
            },
            "type": "mesh3d"
           }
          ],
          "parcoords": [
           {
            "line": {
             "colorbar": {
              "outlinewidth": 0,
              "ticks": ""
             }
            },
            "type": "parcoords"
           }
          ],
          "pie": [
           {
            "automargin": true,
            "type": "pie"
           }
          ],
          "scatter": [
           {
            "fillpattern": {
             "fillmode": "overlay",
             "size": 10,
             "solidity": 0.2
            },
            "type": "scatter"
           }
          ],
          "scatter3d": [
           {
            "line": {
             "colorbar": {
              "outlinewidth": 0,
              "ticks": ""
             }
            },
            "marker": {
             "colorbar": {
              "outlinewidth": 0,
              "ticks": ""
             }
            },
            "type": "scatter3d"
           }
          ],
          "scattercarpet": [
           {
            "marker": {
             "colorbar": {
              "outlinewidth": 0,
              "ticks": ""
             }
            },
            "type": "scattercarpet"
           }
          ],
          "scattergeo": [
           {
            "marker": {
             "colorbar": {
              "outlinewidth": 0,
              "ticks": ""
             }
            },
            "type": "scattergeo"
           }
          ],
          "scattergl": [
           {
            "marker": {
             "colorbar": {
              "outlinewidth": 0,
              "ticks": ""
             }
            },
            "type": "scattergl"
           }
          ],
          "scattermapbox": [
           {
            "marker": {
             "colorbar": {
              "outlinewidth": 0,
              "ticks": ""
             }
            },
            "type": "scattermapbox"
           }
          ],
          "scatterpolar": [
           {
            "marker": {
             "colorbar": {
              "outlinewidth": 0,
              "ticks": ""
             }
            },
            "type": "scatterpolar"
           }
          ],
          "scatterpolargl": [
           {
            "marker": {
             "colorbar": {
              "outlinewidth": 0,
              "ticks": ""
             }
            },
            "type": "scatterpolargl"
           }
          ],
          "scatterternary": [
           {
            "marker": {
             "colorbar": {
              "outlinewidth": 0,
              "ticks": ""
             }
            },
            "type": "scatterternary"
           }
          ],
          "surface": [
           {
            "colorbar": {
             "outlinewidth": 0,
             "ticks": ""
            },
            "colorscale": [
             [
              0,
              "#0d0887"
             ],
             [
              0.1111111111111111,
              "#46039f"
             ],
             [
              0.2222222222222222,
              "#7201a8"
             ],
             [
              0.3333333333333333,
              "#9c179e"
             ],
             [
              0.4444444444444444,
              "#bd3786"
             ],
             [
              0.5555555555555556,
              "#d8576b"
             ],
             [
              0.6666666666666666,
              "#ed7953"
             ],
             [
              0.7777777777777778,
              "#fb9f3a"
             ],
             [
              0.8888888888888888,
              "#fdca26"
             ],
             [
              1,
              "#f0f921"
             ]
            ],
            "type": "surface"
           }
          ],
          "table": [
           {
            "cells": {
             "fill": {
              "color": "#EBF0F8"
             },
             "line": {
              "color": "white"
             }
            },
            "header": {
             "fill": {
              "color": "#C8D4E3"
             },
             "line": {
              "color": "white"
             }
            },
            "type": "table"
           }
          ]
         },
         "layout": {
          "annotationdefaults": {
           "arrowcolor": "#2a3f5f",
           "arrowhead": 0,
           "arrowwidth": 1
          },
          "autotypenumbers": "strict",
          "coloraxis": {
           "colorbar": {
            "outlinewidth": 0,
            "ticks": ""
           }
          },
          "colorscale": {
           "diverging": [
            [
             0,
             "#8e0152"
            ],
            [
             0.1,
             "#c51b7d"
            ],
            [
             0.2,
             "#de77ae"
            ],
            [
             0.3,
             "#f1b6da"
            ],
            [
             0.4,
             "#fde0ef"
            ],
            [
             0.5,
             "#f7f7f7"
            ],
            [
             0.6,
             "#e6f5d0"
            ],
            [
             0.7,
             "#b8e186"
            ],
            [
             0.8,
             "#7fbc41"
            ],
            [
             0.9,
             "#4d9221"
            ],
            [
             1,
             "#276419"
            ]
           ],
           "sequential": [
            [
             0,
             "#0d0887"
            ],
            [
             0.1111111111111111,
             "#46039f"
            ],
            [
             0.2222222222222222,
             "#7201a8"
            ],
            [
             0.3333333333333333,
             "#9c179e"
            ],
            [
             0.4444444444444444,
             "#bd3786"
            ],
            [
             0.5555555555555556,
             "#d8576b"
            ],
            [
             0.6666666666666666,
             "#ed7953"
            ],
            [
             0.7777777777777778,
             "#fb9f3a"
            ],
            [
             0.8888888888888888,
             "#fdca26"
            ],
            [
             1,
             "#f0f921"
            ]
           ],
           "sequentialminus": [
            [
             0,
             "#0d0887"
            ],
            [
             0.1111111111111111,
             "#46039f"
            ],
            [
             0.2222222222222222,
             "#7201a8"
            ],
            [
             0.3333333333333333,
             "#9c179e"
            ],
            [
             0.4444444444444444,
             "#bd3786"
            ],
            [
             0.5555555555555556,
             "#d8576b"
            ],
            [
             0.6666666666666666,
             "#ed7953"
            ],
            [
             0.7777777777777778,
             "#fb9f3a"
            ],
            [
             0.8888888888888888,
             "#fdca26"
            ],
            [
             1,
             "#f0f921"
            ]
           ]
          },
          "colorway": [
           "#636efa",
           "#EF553B",
           "#00cc96",
           "#ab63fa",
           "#FFA15A",
           "#19d3f3",
           "#FF6692",
           "#B6E880",
           "#FF97FF",
           "#FECB52"
          ],
          "font": {
           "color": "#2a3f5f"
          },
          "geo": {
           "bgcolor": "white",
           "lakecolor": "white",
           "landcolor": "white",
           "showlakes": true,
           "showland": true,
           "subunitcolor": "#C8D4E3"
          },
          "hoverlabel": {
           "align": "left"
          },
          "hovermode": "closest",
          "mapbox": {
           "style": "light"
          },
          "paper_bgcolor": "white",
          "plot_bgcolor": "white",
          "polar": {
           "angularaxis": {
            "gridcolor": "#EBF0F8",
            "linecolor": "#EBF0F8",
            "ticks": ""
           },
           "bgcolor": "white",
           "radialaxis": {
            "gridcolor": "#EBF0F8",
            "linecolor": "#EBF0F8",
            "ticks": ""
           }
          },
          "scene": {
           "xaxis": {
            "backgroundcolor": "white",
            "gridcolor": "#DFE8F3",
            "gridwidth": 2,
            "linecolor": "#EBF0F8",
            "showbackground": true,
            "ticks": "",
            "zerolinecolor": "#EBF0F8"
           },
           "yaxis": {
            "backgroundcolor": "white",
            "gridcolor": "#DFE8F3",
            "gridwidth": 2,
            "linecolor": "#EBF0F8",
            "showbackground": true,
            "ticks": "",
            "zerolinecolor": "#EBF0F8"
           },
           "zaxis": {
            "backgroundcolor": "white",
            "gridcolor": "#DFE8F3",
            "gridwidth": 2,
            "linecolor": "#EBF0F8",
            "showbackground": true,
            "ticks": "",
            "zerolinecolor": "#EBF0F8"
           }
          },
          "shapedefaults": {
           "line": {
            "color": "#2a3f5f"
           }
          },
          "ternary": {
           "aaxis": {
            "gridcolor": "#DFE8F3",
            "linecolor": "#A2B1C6",
            "ticks": ""
           },
           "baxis": {
            "gridcolor": "#DFE8F3",
            "linecolor": "#A2B1C6",
            "ticks": ""
           },
           "bgcolor": "white",
           "caxis": {
            "gridcolor": "#DFE8F3",
            "linecolor": "#A2B1C6",
            "ticks": ""
           }
          },
          "title": {
           "x": 0.05
          },
          "xaxis": {
           "automargin": true,
           "gridcolor": "#EBF0F8",
           "linecolor": "#EBF0F8",
           "ticks": "",
           "title": {
            "standoff": 15
           },
           "zerolinecolor": "#EBF0F8",
           "zerolinewidth": 2
          },
          "yaxis": {
           "automargin": true,
           "gridcolor": "#EBF0F8",
           "linecolor": "#EBF0F8",
           "ticks": "",
           "title": {
            "standoff": 15
           },
           "zerolinecolor": "#EBF0F8",
           "zerolinewidth": 2
          }
         }
        },
        "title": {
         "text": "Top 10 Companies by Revenue in France (1995-2023)"
        },
        "updatemenus": [
         {
          "buttons": [
           {
            "args": [
             null,
             {
              "frame": {
               "duration": 500,
               "redraw": true
              },
              "fromcurrent": true,
              "mode": "immediate",
              "transition": {
               "duration": 500,
               "easing": "linear"
              }
             }
            ],
            "label": "&#9654;",
            "method": "animate"
           },
           {
            "args": [
             [
              null
             ],
             {
              "frame": {
               "duration": 0,
               "redraw": true
              },
              "fromcurrent": true,
              "mode": "immediate",
              "transition": {
               "duration": 0,
               "easing": "linear"
              }
             }
            ],
            "label": "&#9724;",
            "method": "animate"
           }
          ],
          "direction": "left",
          "pad": {
           "r": 10,
           "t": 70
          },
          "showactive": false,
          "type": "buttons",
          "x": 0.1,
          "xanchor": "right",
          "y": 0,
          "yanchor": "top"
         }
        ],
        "width": 1800,
        "xaxis": {
         "anchor": "y",
         "categoryorder": "total ascending",
         "domain": [
          0,
          1
         ],
         "range": [
          0,
          289641
         ],
         "title": {
          "text": "Revenues in $M"
         }
        },
        "yaxis": {
         "anchor": "x",
         "domain": [
          0,
          1
         ],
         "ticktext": [
          "<img src=\"C:\\Users\\soula\\Desktop\\Projects\\Race_chart\\Logos\\TotalEnergies.png\" height=\"30\" style=\"margin-right: 5px;\">TotalEnergies",
          "<img src=\"C:\\Users\\soula\\Desktop\\Projects\\Race_chart\\Logos\\France_telecome.png\" height=\"30\" style=\"margin-right: 5px;\">France Telecom SA",
          "<img src=\"C:\\Users\\soula\\Desktop\\Projects\\Race_chart\\Logos\\Credit_Lyonais.png\" height=\"30\" style=\"margin-right: 5px;\">Credit Lyonais",
          "<img src=\"C:\\Users\\soula\\Desktop\\Projects\\Race_chart\\Logos\\Credit_Agricole.png\" height=\"30\" style=\"margin-right: 5px;\">Credit Agricole",
          "<img src=\"C:\\Users\\soula\\Desktop\\Projects\\Race_chart\\Logos\\Compagnie_Generale_des_Eaux.png\" height=\"30\" style=\"margin-right: 5px;\">Compagnie Generale des Eaux",
          "<img src=\"C:\\Users\\soula\\Desktop\\Projects\\Race_chart\\Logos\\Peugeot.png\" height=\"30\" style=\"margin-right: 5px;\">Peugeot",
          "Alcatel Alsthom",
          "<img src=\"C:\\Users\\soula\\Desktop\\Projects\\Race_chart\\Logos\\Renault.png\" height=\"30\" style=\"margin-right: 5px;\">Renault",
          "<img src=\"C:\\Users\\soula\\Desktop\\Projects\\Race_chart\\Logos\\UAP.png\" height=\"30\" style=\"margin-right: 5px;\">Union Des Assurances de Paris",
          "Elf Aquitaine",
          "<img src=\"C:\\Users\\soula\\Desktop\\Projects\\Race_chart\\Logos\\Carrefour.png\" height=\"30\" style=\"margin-right: 5px;\">Carrefour",
          "<img src=\"C:\\Users\\soula\\Desktop\\Projects\\Race_chart\\Logos\\France_telecome.png\" height=\"30\" style=\"margin-right: 5px;\">France Telecom SA",
          "<img src=\"C:\\Users\\soula\\Desktop\\Projects\\Race_chart\\Logos\\Gan.png\" height=\"30\" style=\"margin-right: 5px;\">Gan",
          "Alcatel Alsthom",
          "<img src=\"C:\\Users\\soula\\Desktop\\Projects\\Race_chart\\Logos\\Credit_Agricole.png\" height=\"30\" style=\"margin-right: 5px;\">Credit Agricole Group",
          "<img src=\"C:\\Users\\soula\\Desktop\\Projects\\Race_chart\\Logos\\Compagnie_Generale_des_Eaux.png\" height=\"30\" style=\"margin-right: 5px;\">Compagnie Generale des Eaux",
          "<img src=\"C:\\Users\\soula\\Desktop\\Projects\\Race_chart\\Logos\\Peugeot.png\" height=\"30\" style=\"margin-right: 5px;\">Peugeot",
          "<img src=\"C:\\Users\\soula\\Desktop\\Projects\\Race_chart\\Logos\\Renault.png\" height=\"30\" style=\"margin-right: 5px;\">Renault",
          "<img src=\"C:\\Users\\soula\\Desktop\\Projects\\Race_chart\\Logos\\UAP.png\" height=\"30\" style=\"margin-right: 5px;\">Union Des Assurances de Paris",
          "Elf Aquitaine",
          "Alcatel Alsthom",
          "<img src=\"C:\\Users\\soula\\Desktop\\Projects\\Race_chart\\Logos\\Gan.png\" height=\"30\" style=\"margin-right: 5px;\">Gan",
          "<img src=\"C:\\Users\\soula\\Desktop\\Projects\\Race_chart\\Logos\\Compagnie_Generale_des_Eaux.png\" height=\"30\" style=\"margin-right: 5px;\">Compagnie Generale des Eaux",
          "<img src=\"C:\\Users\\soula\\Desktop\\Projects\\Race_chart\\Logos\\AXA.png\" height=\"30\" style=\"margin-right: 5px;\">AXA",
          "<img src=\"C:\\Users\\soula\\Desktop\\Projects\\Race_chart\\Logos\\Peugeot.png\" height=\"30\" style=\"margin-right: 5px;\">Peugeot",
          "<img src=\"C:\\Users\\soula\\Desktop\\Projects\\Race_chart\\Logos\\TotalEnergies.png\" height=\"30\" style=\"margin-right: 5px;\">TotalEnergies",
          "<img src=\"C:\\Users\\soula\\Desktop\\Projects\\Race_chart\\Logos\\Credit_Agricole.png\" height=\"30\" style=\"margin-right: 5px;\">Credit Agricole Group",
          "<img src=\"C:\\Users\\soula\\Desktop\\Projects\\Race_chart\\Logos\\Renault.png\" height=\"30\" style=\"margin-right: 5px;\">Renault",
          "<img src=\"C:\\Users\\soula\\Desktop\\Projects\\Race_chart\\Logos\\UAP.png\" height=\"30\" style=\"margin-right: 5px;\">Union Des Assurances de Paris",
          "Elf Aquitaine",
          "<img src=\"C:\\Users\\soula\\Desktop\\Projects\\Race_chart\\Logos\\Carrefour.png\" height=\"30\" style=\"margin-right: 5px;\">Carrefour",
          "Alcatel Alsthom",
          "<img src=\"C:\\Users\\soula\\Desktop\\Projects\\Race_chart\\Logos\\Peugeot.png\" height=\"30\" style=\"margin-right: 5px;\">Peugeot",
          "<img src=\"C:\\Users\\soula\\Desktop\\Projects\\Race_chart\\Logos\\Suez_eaux_Lyonaise.png\" height=\"30\" style=\"margin-right: 5px;\">Suez Lyonnaise des Eaux",
          "<img src=\"C:\\Users\\soula\\Desktop\\Projects\\Race_chart\\Logos\\TotalEnergies.png\" height=\"30\" style=\"margin-right: 5px;\">TotalEnergies",
          "<img src=\"C:\\Users\\soula\\Desktop\\Projects\\Race_chart\\Logos\\Credit_Agricole.png\" height=\"30\" style=\"margin-right: 5px;\">Credit Agricole Group",
          "<img src=\"C:\\Users\\soula\\Desktop\\Projects\\Race_chart\\Logos\\Renault.png\" height=\"30\" style=\"margin-right: 5px;\">Renault",
          "<img src=\"C:\\Users\\soula\\Desktop\\Projects\\Race_chart\\Logos\\EDF.png\" height=\"30\" style=\"margin-right: 5px;\">Electricite de France",
          "Elf Aquitaine",
          "<img src=\"C:\\Users\\soula\\Desktop\\Projects\\Race_chart\\Logos\\AXA.png\" height=\"30\" style=\"margin-right: 5px;\">AXA",
          "<img src=\"C:\\Users\\soula\\Desktop\\Projects\\Race_chart\\Logos\\Societe_Generale.png\" height=\"30\" style=\"margin-right: 5px;\">Societe Generale",
          "<img src=\"C:\\Users\\soula\\Desktop\\Projects\\Race_chart\\Logos\\Carrefour.png\" height=\"30\" style=\"margin-right: 5px;\">Carrefour",
          "<img src=\"C:\\Users\\soula\\Desktop\\Projects\\Race_chart\\Logos\\Credit_Agricole.png\" height=\"30\" style=\"margin-right: 5px;\">Credit Agricole Group",
          "<img src=\"C:\\Users\\soula\\Desktop\\Projects\\Race_chart\\Logos\\Suez_eaux_Lyonaise.png\" height=\"30\" style=\"margin-right: 5px;\">Suez Lyonnaise des Eaux",
          "<img src=\"C:\\Users\\soula\\Desktop\\Projects\\Race_chart\\Logos\\Vivendi_uni.png\" height=\"30\" style=\"margin-right: 5px;\">Vivendi Universal S.A.",
          "Elf Aquitaine",
          "<img src=\"C:\\Users\\soula\\Desktop\\Projects\\Race_chart\\Logos\\EDF.png\" height=\"30\" style=\"margin-right: 5px;\">Electricite de France",
          "<img src=\"C:\\Users\\soula\\Desktop\\Projects\\Race_chart\\Logos\\Peugeot.png\" height=\"30\" style=\"margin-right: 5px;\">Peugeot",
          "<img src=\"C:\\Users\\soula\\Desktop\\Projects\\Race_chart\\Logos\\Renault.png\" height=\"30\" style=\"margin-right: 5px;\">Renault",
          "<img src=\"C:\\Users\\soula\\Desktop\\Projects\\Race_chart\\Logos\\AXA.png\" height=\"30\" style=\"margin-right: 5px;\">AXA",
          "<img src=\"C:\\Users\\soula\\Desktop\\Projects\\Race_chart\\Logos\\Suez_eaux_Lyonaise.png\" height=\"30\" style=\"margin-right: 5px;\">Suez Lyonnaise des Eaux",
          "<img src=\"C:\\Users\\soula\\Desktop\\Projects\\Race_chart\\Logos\\EDF.png\" height=\"30\" style=\"margin-right: 5px;\">Electricite de France",
          "Elf Aquitaine",
          "<img src=\"C:\\Users\\soula\\Desktop\\Projects\\Race_chart\\Logos\\Carrefour.png\" height=\"30\" style=\"margin-right: 5px;\">Carrefour",
          "<img src=\"C:\\Users\\soula\\Desktop\\Projects\\Race_chart\\Logos\\BNP_Paribas.png\" height=\"30\" style=\"margin-right: 5px;\">BNP Paribas",
          "<img src=\"C:\\Users\\soula\\Desktop\\Projects\\Race_chart\\Logos\\Renault.png\" height=\"30\" style=\"margin-right: 5px;\">Renault",
          "<img src=\"C:\\Users\\soula\\Desktop\\Projects\\Race_chart\\Logos\\Peugeot.png\" height=\"30\" style=\"margin-right: 5px;\">Peugeot",
          "<img src=\"C:\\Users\\soula\\Desktop\\Projects\\Race_chart\\Logos\\Vivendi_uni.png\" height=\"30\" style=\"margin-right: 5px;\">Vivendi Universal S.A.",
          "<img src=\"C:\\Users\\soula\\Desktop\\Projects\\Race_chart\\Logos\\TotalEnergies.png\" height=\"30\" style=\"margin-right: 5px;\">Total Fina Elf S.A.",
          "<img src=\"C:\\Users\\soula\\Desktop\\Projects\\Race_chart\\Logos\\AXA.png\" height=\"30\" style=\"margin-right: 5px;\">AXA",
          "<img src=\"C:\\Users\\soula\\Desktop\\Projects\\Race_chart\\Logos\\France_telecome.png\" height=\"30\" style=\"margin-right: 5px;\">France Telecom SA",
          "<img src=\"C:\\Users\\soula\\Desktop\\Projects\\Race_chart\\Logos\\EDF.png\" height=\"30\" style=\"margin-right: 5px;\">Electricite de France",
          "Suez",
          "<img src=\"C:\\Users\\soula\\Desktop\\Projects\\Race_chart\\Logos\\Credit_Agricole.png\" height=\"30\" style=\"margin-right: 5px;\">Credit Agricole Group",
          "<img src=\"C:\\Users\\soula\\Desktop\\Projects\\Race_chart\\Logos\\Renault.png\" height=\"30\" style=\"margin-right: 5px;\">Renault",
          "<img src=\"C:\\Users\\soula\\Desktop\\Projects\\Race_chart\\Logos\\Vivendi_uni.png\" height=\"30\" style=\"margin-right: 5px;\">Vivendi Universal S.A.",
          "<img src=\"C:\\Users\\soula\\Desktop\\Projects\\Race_chart\\Logos\\BNP_Paribas.png\" height=\"30\" style=\"margin-right: 5px;\">BNP Paribas",
          "<img src=\"C:\\Users\\soula\\Desktop\\Projects\\Race_chart\\Logos\\Carrefour.png\" height=\"30\" style=\"margin-right: 5px;\">Carrefour",
          "<img src=\"C:\\Users\\soula\\Desktop\\Projects\\Race_chart\\Logos\\AXA.png\" height=\"30\" style=\"margin-right: 5px;\">AXA",
          "<img src=\"C:\\Users\\soula\\Desktop\\Projects\\Race_chart\\Logos\\TotalEnergies.png\" height=\"30\" style=\"margin-right: 5px;\">Total Fina Elf S.A.",
          "<img src=\"C:\\Users\\soula\\Desktop\\Projects\\Race_chart\\Logos\\Renault.png\" height=\"30\" style=\"margin-right: 5px;\">Renault",
          "<img src=\"C:\\Users\\soula\\Desktop\\Projects\\Race_chart\\Logos\\Credit_Agricole.png\" height=\"30\" style=\"margin-right: 5px;\">Credit Nationale de Credit Agricole",
          "<img src=\"C:\\Users\\soula\\Desktop\\Projects\\Race_chart\\Logos\\EDF.png\" height=\"30\" style=\"margin-right: 5px;\">Electricite de France",
          "Suez",
          "<img src=\"C:\\Users\\soula\\Desktop\\Projects\\Race_chart\\Logos\\France_telecome.png\" height=\"30\" style=\"margin-right: 5px;\">France Telecom SA",
          "<img src=\"C:\\Users\\soula\\Desktop\\Projects\\Race_chart\\Logos\\Vivendi_uni.png\" height=\"30\" style=\"margin-right: 5px;\">Vivendi Universal S.A.",
          "<img src=\"C:\\Users\\soula\\Desktop\\Projects\\Race_chart\\Logos\\BNP_Paribas.png\" height=\"30\" style=\"margin-right: 5px;\">BNP Paribas",
          "<img src=\"C:\\Users\\soula\\Desktop\\Projects\\Race_chart\\Logos\\Carrefour.png\" height=\"30\" style=\"margin-right: 5px;\">Carrefour",
          "<img src=\"C:\\Users\\soula\\Desktop\\Projects\\Race_chart\\Logos\\AXA.png\" height=\"30\" style=\"margin-right: 5px;\">AXA",
          "<img src=\"C:\\Users\\soula\\Desktop\\Projects\\Race_chart\\Logos\\TotalEnergies.png\" height=\"30\" style=\"margin-right: 5px;\">Total Fina Elf S.A.",
          "<img src=\"C:\\Users\\soula\\Desktop\\Projects\\Race_chart\\Logos\\Renault.png\" height=\"30\" style=\"margin-right: 5px;\">Renault",
          "<img src=\"C:\\Users\\soula\\Desktop\\Projects\\Race_chart\\Logos\\Credit_Agricole.png\" height=\"30\" style=\"margin-right: 5px;\">Credit Nationale de Credit Agricole",
          "Suez",
          "France TeIecom SA",
          "<img src=\"C:\\Users\\soula\\Desktop\\Projects\\Race_chart\\Logos\\EDF.png\" height=\"30\" style=\"margin-right: 5px;\">Electricite de France",
          "<img src=\"C:\\Users\\soula\\Desktop\\Projects\\Race_chart\\Logos\\BNP_Paribas.png\" height=\"30\" style=\"margin-right: 5px;\">BNP Paribas",
          "<img src=\"C:\\Users\\soula\\Desktop\\Projects\\Race_chart\\Logos\\Vivendi_uni.png\" height=\"30\" style=\"margin-right: 5px;\">Vivendi Universal S.A.",
          "<img src=\"C:\\Users\\soula\\Desktop\\Projects\\Race_chart\\Logos\\AXA.png\" height=\"30\" style=\"margin-right: 5px;\">AXA",
          "<img src=\"C:\\Users\\soula\\Desktop\\Projects\\Race_chart\\Logos\\Carrefour.png\" height=\"30\" style=\"margin-right: 5px;\">Carrefour",
          "<img src=\"C:\\Users\\soula\\Desktop\\Projects\\Race_chart\\Logos\\TotalEnergies.png\" height=\"30\" style=\"margin-right: 5px;\">TotalEnergies",
          "<img src=\"C:\\Users\\soula\\Desktop\\Projects\\Race_chart\\Logos\\Compagnie_de_Saint_Gobain.png\" height=\"30\" style=\"margin-right: 5px;\">Compagnie de Saint-Gobain",
          "<img src=\"C:\\Users\\soula\\Desktop\\Projects\\Race_chart\\Logos\\Renault.png\" height=\"30\" style=\"margin-right: 5px;\">Renault",
          "Suez",
          "<img src=\"C:\\Users\\soula\\Desktop\\Projects\\Race_chart\\Logos\\Credit_Agricole.png\" height=\"30\" style=\"margin-right: 5px;\">Credit Nationale de Credit Agricole",
          "<img src=\"C:\\Users\\soula\\Desktop\\Projects\\Race_chart\\Logos\\EDF.png\" height=\"30\" style=\"margin-right: 5px;\">Electricite de France",
          "France TeIecom SA",
          "<img src=\"C:\\Users\\soula\\Desktop\\Projects\\Race_chart\\Logos\\BNP_Paribas.png\" height=\"30\" style=\"margin-right: 5px;\">BNP Paribas",
          "<img src=\"C:\\Users\\soula\\Desktop\\Projects\\Race_chart\\Logos\\Carrefour.png\" height=\"30\" style=\"margin-right: 5px;\">Carrefour",
          "<img src=\"C:\\Users\\soula\\Desktop\\Projects\\Race_chart\\Logos\\AXA.png\" height=\"30\" style=\"margin-right: 5px;\">AXA",
          "<img src=\"C:\\Users\\soula\\Desktop\\Projects\\Race_chart\\Logos\\TotalEnergies.png\" height=\"30\" style=\"margin-right: 5px;\">TotalEnergies",
          "<img src=\"C:\\Users\\soula\\Desktop\\Projects\\Race_chart\\Logos\\Compagnie_de_Saint_Gobain.png\" height=\"30\" style=\"margin-right: 5px;\">Compagnie de Saint-Gobain",
          "<img src=\"C:\\Users\\soula\\Desktop\\Projects\\Race_chart\\Logos\\Renault.png\" height=\"30\" style=\"margin-right: 5px;\">Renault",
          "Suez",
          "<img src=\"C:\\Users\\soula\\Desktop\\Projects\\Race_chart\\Logos\\EDF.png\" height=\"30\" style=\"margin-right: 5px;\">Electricite de France",
          "France TeIecom SA",
          "<img src=\"C:\\Users\\soula\\Desktop\\Projects\\Race_chart\\Logos\\Credit_Agricole.png\" height=\"30\" style=\"margin-right: 5px;\">Credit Nationale de Credit Agricole",
          "<img src=\"C:\\Users\\soula\\Desktop\\Projects\\Race_chart\\Logos\\BNP_Paribas.png\" height=\"30\" style=\"margin-right: 5px;\">BNP Paribas",
          "<img src=\"C:\\Users\\soula\\Desktop\\Projects\\Race_chart\\Logos\\Carrefour.png\" height=\"30\" style=\"margin-right: 5px;\">Carrefour",
          "<img src=\"C:\\Users\\soula\\Desktop\\Projects\\Race_chart\\Logos\\AXA.png\" height=\"30\" style=\"margin-right: 5px;\">AXA",
          "<img src=\"C:\\Users\\soula\\Desktop\\Projects\\Race_chart\\Logos\\TotalEnergies.png\" height=\"30\" style=\"margin-right: 5px;\">TotalEnergies",
          "<img src=\"C:\\Users\\soula\\Desktop\\Projects\\Race_chart\\Logos\\Groupe_Auchan.png\" height=\"30\" style=\"margin-right: 5px;\">Groupe Auchan",
          "<img src=\"C:\\Users\\soula\\Desktop\\Projects\\Race_chart\\Logos\\Compagnie_de_Saint_Gobain.png\" height=\"30\" style=\"margin-right: 5px;\">Compagnie de Saint-Gobain",
          "CNP Assurances",
          "<img src=\"C:\\Users\\soula\\Desktop\\Projects\\Race_chart\\Logos\\Renault.png\" height=\"30\" style=\"margin-right: 5px;\">Renault",
          "Suez",
          "<img src=\"C:\\Users\\soula\\Desktop\\Projects\\Race_chart\\Logos\\Orange.png\" height=\"30\" style=\"margin-right: 5px;\">Orange",
          "<img src=\"C:\\Users\\soula\\Desktop\\Projects\\Race_chart\\Logos\\BNP_Paribas.png\" height=\"30\" style=\"margin-right: 5px;\">BNP Paribas",
          "<img src=\"C:\\Users\\soula\\Desktop\\Projects\\Race_chart\\Logos\\Carrefour.png\" height=\"30\" style=\"margin-right: 5px;\">Carrefour",
          "<img src=\"C:\\Users\\soula\\Desktop\\Projects\\Race_chart\\Logos\\AXA.png\" height=\"30\" style=\"margin-right: 5px;\">AXA",
          "<img src=\"C:\\Users\\soula\\Desktop\\Projects\\Race_chart\\Logos\\TotalEnergies.png\" height=\"30\" style=\"margin-right: 5px;\">TotalEnergies",
          "<img src=\"C:\\Users\\soula\\Desktop\\Projects\\Race_chart\\Logos\\Violia.png\" height=\"30\" style=\"margin-right: 5px;\">Veolia Environnement",
          "<img src=\"C:\\Users\\soula\\Desktop\\Projects\\Race_chart\\Logos\\Groupe_Auchan.png\" height=\"30\" style=\"margin-right: 5px;\">Groupe Auchan",
          "<img src=\"C:\\Users\\soula\\Desktop\\Projects\\Race_chart\\Logos\\Renault.png\" height=\"30\" style=\"margin-right: 5px;\">Renault",
          "CNP Assurances",
          "<img src=\"C:\\Users\\soula\\Desktop\\Projects\\Race_chart\\Logos\\Compagnie_de_Saint_Gobain.png\" height=\"30\" style=\"margin-right: 5px;\">Compagnie de Saint-Gobain",
          "Suez",
          "<img src=\"C:\\Users\\soula\\Desktop\\Projects\\Race_chart\\Logos\\Carrefour.png\" height=\"30\" style=\"margin-right: 5px;\">Carrefour",
          "<img src=\"C:\\Users\\soula\\Desktop\\Projects\\Race_chart\\Logos\\BNP_Paribas.png\" height=\"30\" style=\"margin-right: 5px;\">BNP Paribas",
          "<img src=\"C:\\Users\\soula\\Desktop\\Projects\\Race_chart\\Logos\\AXA.png\" height=\"30\" style=\"margin-right: 5px;\">AXA",
          "<img src=\"C:\\Users\\soula\\Desktop\\Projects\\Race_chart\\Logos\\TotalEnergies.png\" height=\"30\" style=\"margin-right: 5px;\">TotalEnergies",
          "<img src=\"C:\\Users\\soula\\Desktop\\Projects\\Race_chart\\Logos\\Caisse_d_epatgne.png\" height=\"30\" style=\"margin-right: 5px;\">Les Caisses d'epargne et de Prevoyance",
          "<img src=\"C:\\Users\\soula\\Desktop\\Projects\\Race_chart\\Logos\\Renault.png\" height=\"30\" style=\"margin-right: 5px;\">Renault",
          "CNP Assurances",
          "<img src=\"C:\\Users\\soula\\Desktop\\Projects\\Race_chart\\Logos\\Compagnie_de_Saint_Gobain.png\" height=\"30\" style=\"margin-right: 5px;\">Compagnie de Saint-Gobain",
          "Suez",
          "PSA Peugeot Citroen S.A.",
          "<img src=\"C:\\Users\\soula\\Desktop\\Projects\\Race_chart\\Logos\\Carrefour.png\" height=\"30\" style=\"margin-right: 5px;\">Carrefour",
          "<img src=\"C:\\Users\\soula\\Desktop\\Projects\\Race_chart\\Logos\\BNP_Paribas.png\" height=\"30\" style=\"margin-right: 5px;\">BNP Paribas",
          "<img src=\"C:\\Users\\soula\\Desktop\\Projects\\Race_chart\\Logos\\AXA.png\" height=\"30\" style=\"margin-right: 5px;\">AXA",
          "<img src=\"C:\\Users\\soula\\Desktop\\Projects\\Race_chart\\Logos\\TotalEnergies.png\" height=\"30\" style=\"margin-right: 5px;\">TotalEnergies",
          "<img src=\"C:\\Users\\soula\\Desktop\\Projects\\Race_chart\\Logos\\Violia.png\" height=\"30\" style=\"margin-right: 5px;\">Veolia Environnement",
          "<img src=\"C:\\Users\\soula\\Desktop\\Projects\\Race_chart\\Logos\\Renault.png\" height=\"30\" style=\"margin-right: 5px;\">Renault",
          "<img src=\"C:\\Users\\soula\\Desktop\\Projects\\Race_chart\\Logos\\Groupe_Auchan.png\" height=\"30\" style=\"margin-right: 5px;\">Groupe Auchan",
          "<img src=\"C:\\Users\\soula\\Desktop\\Projects\\Race_chart\\Logos\\Compagnie_de_Saint_Gobain.png\" height=\"30\" style=\"margin-right: 5px;\">Compagnie de Saint-Gobain",
          "<img src=\"C:\\Users\\soula\\Desktop\\Projects\\Race_chart\\Logos\\Orange.png\" height=\"30\" style=\"margin-right: 5px;\">Orange",
          "<img src=\"C:\\Users\\soula\\Desktop\\Projects\\Race_chart\\Logos\\AXA.png\" height=\"30\" style=\"margin-right: 5px;\">AXA",
          "<img src=\"C:\\Users\\soula\\Desktop\\Projects\\Race_chart\\Logos\\Engie.png\" height=\"30\" style=\"margin-right: 5px;\">Engie",
          "<img src=\"C:\\Users\\soula\\Desktop\\Projects\\Race_chart\\Logos\\Carrefour.png\" height=\"30\" style=\"margin-right: 5px;\">Carrefour",
          "<img src=\"C:\\Users\\soula\\Desktop\\Projects\\Race_chart\\Logos\\BNP_Paribas.png\" height=\"30\" style=\"margin-right: 5px;\">BNP Paribas",
          "<img src=\"C:\\Users\\soula\\Desktop\\Projects\\Race_chart\\Logos\\TotalEnergies.png\" height=\"30\" style=\"margin-right: 5px;\">TotalEnergies",
          "<img src=\"C:\\Users\\soula\\Desktop\\Projects\\Race_chart\\Logos\\Violia.png\" height=\"30\" style=\"margin-right: 5px;\">Veolia Environnement",
          "<img src=\"C:\\Users\\soula\\Desktop\\Projects\\Race_chart\\Logos\\Compagnie_de_Saint_Gobain.png\" height=\"30\" style=\"margin-right: 5px;\">Compagnie de Saint-Gobain",
          "<img src=\"C:\\Users\\soula\\Desktop\\Projects\\Race_chart\\Logos\\Groupe_Auchan.png\" height=\"30\" style=\"margin-right: 5px;\">Groupe Auchan",
          "CNP Assurances",
          "Groupe BPCE",
          "<img src=\"C:\\Users\\soula\\Desktop\\Projects\\Race_chart\\Logos\\Engie.png\" height=\"30\" style=\"margin-right: 5px;\">Engie",
          "<img src=\"C:\\Users\\soula\\Desktop\\Projects\\Race_chart\\Logos\\Carrefour.png\" height=\"30\" style=\"margin-right: 5px;\">Carrefour",
          "<img src=\"C:\\Users\\soula\\Desktop\\Projects\\Race_chart\\Logos\\BNP_Paribas.png\" height=\"30\" style=\"margin-right: 5px;\">BNP Paribas",
          "<img src=\"C:\\Users\\soula\\Desktop\\Projects\\Race_chart\\Logos\\TotalEnergies.png\" height=\"30\" style=\"margin-right: 5px;\">TotalEnergies",
          "<img src=\"C:\\Users\\soula\\Desktop\\Projects\\Race_chart\\Logos\\AXA.png\" height=\"30\" style=\"margin-right: 5px;\">AXA",
          "<img src=\"C:\\Users\\soula\\Desktop\\Projects\\Race_chart\\Logos\\Renault.png\" height=\"30\" style=\"margin-right: 5px;\">Renault",
          "<img src=\"C:\\Users\\soula\\Desktop\\Projects\\Race_chart\\Logos\\Compagnie_de_Saint_Gobain.png\" height=\"30\" style=\"margin-right: 5px;\">Compagnie de Saint-Gobain",
          "<img src=\"C:\\Users\\soula\\Desktop\\Projects\\Race_chart\\Logos\\Groupe_Auchan.png\" height=\"30\" style=\"margin-right: 5px;\">Groupe Auchan",
          "CNP Assurances",
          "Groupe BPCE",
          "GDF Suez SA",
          "<img src=\"C:\\Users\\soula\\Desktop\\Projects\\Race_chart\\Logos\\Carrefour.png\" height=\"30\" style=\"margin-right: 5px;\">Carrefour",
          "<img src=\"C:\\Users\\soula\\Desktop\\Projects\\Race_chart\\Logos\\BNP_Paribas.png\" height=\"30\" style=\"margin-right: 5px;\">BNP Paribas",
          "<img src=\"C:\\Users\\soula\\Desktop\\Projects\\Race_chart\\Logos\\AXA.png\" height=\"30\" style=\"margin-right: 5px;\">AXA",
          "<img src=\"C:\\Users\\soula\\Desktop\\Projects\\Race_chart\\Logos\\TotalEnergies.png\" height=\"30\" style=\"margin-right: 5px;\">TotalEnergies",
          "<img src=\"C:\\Users\\soula\\Desktop\\Projects\\Race_chart\\Logos\\Compagnie_de_Saint_Gobain.png\" height=\"30\" style=\"margin-right: 5px;\">Compagnie de Saint-Gobain",
          "<img src=\"C:\\Users\\soula\\Desktop\\Projects\\Race_chart\\Logos\\Renault.png\" height=\"30\" style=\"margin-right: 5px;\">Renault",
          "<img src=\"C:\\Users\\soula\\Desktop\\Projects\\Race_chart\\Logos\\Groupe_Auchan.png\" height=\"30\" style=\"margin-right: 5px;\">Groupe Auchan",
          "Groupe BPCE",
          "<img src=\"C:\\Users\\soula\\Desktop\\Projects\\Race_chart\\Logos\\Societe_Generale.png\" height=\"30\" style=\"margin-right: 5px;\">Societe Generale",
          "<img src=\"C:\\Users\\soula\\Desktop\\Projects\\Race_chart\\Logos\\Carrefour.png\" height=\"30\" style=\"margin-right: 5px;\">Carrefour",
          "GDF Suez SA",
          "<img src=\"C:\\Users\\soula\\Desktop\\Projects\\Race_chart\\Logos\\BNP_Paribas.png\" height=\"30\" style=\"margin-right: 5px;\">BNP Paribas",
          "<img src=\"C:\\Users\\soula\\Desktop\\Projects\\Race_chart\\Logos\\AXA.png\" height=\"30\" style=\"margin-right: 5px;\">AXA",
          "<img src=\"C:\\Users\\soula\\Desktop\\Projects\\Race_chart\\Logos\\TotalEnergies.png\" height=\"30\" style=\"margin-right: 5px;\">TotalEnergies",
          "Groupe BPCE",
          "<img src=\"C:\\Users\\soula\\Desktop\\Projects\\Race_chart\\Logos\\Peugeot.png\" height=\"30\" style=\"margin-right: 5px;\">Peugeot",
          "<img src=\"C:\\Users\\soula\\Desktop\\Projects\\Race_chart\\Logos\\EDF.png\" height=\"30\" style=\"margin-right: 5px;\">Electricite de France",
          "<img src=\"C:\\Users\\soula\\Desktop\\Projects\\Race_chart\\Logos\\Credit_Agricole.png\" height=\"30\" style=\"margin-right: 5px;\">Credit Nationale de Credit Agricole",
          "<img src=\"C:\\Users\\soula\\Desktop\\Projects\\Race_chart\\Logos\\Societe_Generale.png\" height=\"30\" style=\"margin-right: 5px;\">Societe Generale",
          "<img src=\"C:\\Users\\soula\\Desktop\\Projects\\Race_chart\\Logos\\Carrefour.png\" height=\"30\" style=\"margin-right: 5px;\">Carrefour",
          "<img src=\"C:\\Users\\soula\\Desktop\\Projects\\Race_chart\\Logos\\BNP_Paribas.png\" height=\"30\" style=\"margin-right: 5px;\">BNP Paribas",
          "GDF Suez SA",
          "<img src=\"C:\\Users\\soula\\Desktop\\Projects\\Race_chart\\Logos\\AXA.png\" height=\"30\" style=\"margin-right: 5px;\">AXA",
          "<img src=\"C:\\Users\\soula\\Desktop\\Projects\\Race_chart\\Logos\\TotalEnergies.png\" height=\"30\" style=\"margin-right: 5px;\">TotalEnergies",
          "Groupe BPCE",
          "<img src=\"C:\\Users\\soula\\Desktop\\Projects\\Race_chart\\Logos\\Peugeot.png\" height=\"30\" style=\"margin-right: 5px;\">Peugeot",
          "<img src=\"C:\\Users\\soula\\Desktop\\Projects\\Race_chart\\Logos\\Credit_Agricole.png\" height=\"30\" style=\"margin-right: 5px;\">Credit Agricole",
          "<img src=\"C:\\Users\\soula\\Desktop\\Projects\\Race_chart\\Logos\\EDF.png\" height=\"30\" style=\"margin-right: 5px;\">Electricite de France",
          "<img src=\"C:\\Users\\soula\\Desktop\\Projects\\Race_chart\\Logos\\Carrefour.png\" height=\"30\" style=\"margin-right: 5px;\">Carrefour",
          "<img src=\"C:\\Users\\soula\\Desktop\\Projects\\Race_chart\\Logos\\Engie.png\" height=\"30\" style=\"margin-right: 5px;\">Engie",
          "<img src=\"C:\\Users\\soula\\Desktop\\Projects\\Race_chart\\Logos\\BNP_Paribas.png\" height=\"30\" style=\"margin-right: 5px;\">BNP Paribas",
          "<img src=\"C:\\Users\\soula\\Desktop\\Projects\\Race_chart\\Logos\\Societe_Generale.png\" height=\"30\" style=\"margin-right: 5px;\">Societe Generale",
          "<img src=\"C:\\Users\\soula\\Desktop\\Projects\\Race_chart\\Logos\\AXA.png\" height=\"30\" style=\"margin-right: 5px;\">AXA",
          "<img src=\"C:\\Users\\soula\\Desktop\\Projects\\Race_chart\\Logos\\TotalEnergies.png\" height=\"30\" style=\"margin-right: 5px;\">TotalEnergies",
          "<img src=\"C:\\Users\\soula\\Desktop\\Projects\\Race_chart\\Logos\\Groupe_Auchan.png\" height=\"30\" style=\"margin-right: 5px;\">Groupe Auchan",
          "<img src=\"C:\\Users\\soula\\Desktop\\Projects\\Race_chart\\Logos\\Peugeot.png\" height=\"30\" style=\"margin-right: 5px;\">Peugeot",
          "<img src=\"C:\\Users\\soula\\Desktop\\Projects\\Race_chart\\Logos\\EDF.png\" height=\"30\" style=\"margin-right: 5px;\">Electricite de France",
          "<img src=\"C:\\Users\\soula\\Desktop\\Projects\\Race_chart\\Logos\\Engie.png\" height=\"30\" style=\"margin-right: 5px;\">Engie",
          "<img src=\"C:\\Users\\soula\\Desktop\\Projects\\Race_chart\\Logos\\Carrefour.png\" height=\"30\" style=\"margin-right: 5px;\">Carrefour",
          "<img src=\"C:\\Users\\soula\\Desktop\\Projects\\Race_chart\\Logos\\Credit_Agricole.png\" height=\"30\" style=\"margin-right: 5px;\">Credit Agricole",
          "<img src=\"C:\\Users\\soula\\Desktop\\Projects\\Race_chart\\Logos\\Societe_Generale.png\" height=\"30\" style=\"margin-right: 5px;\">Societe Generale",
          "<img src=\"C:\\Users\\soula\\Desktop\\Projects\\Race_chart\\Logos\\BNP_Paribas.png\" height=\"30\" style=\"margin-right: 5px;\">BNP Paribas",
          "<img src=\"C:\\Users\\soula\\Desktop\\Projects\\Race_chart\\Logos\\AXA.png\" height=\"30\" style=\"margin-right: 5px;\">AXA",
          "<img src=\"C:\\Users\\soula\\Desktop\\Projects\\Race_chart\\Logos\\TotalEnergies.png\" height=\"30\" style=\"margin-right: 5px;\">TotalEnergies",
          "<img src=\"C:\\Users\\soula\\Desktop\\Projects\\Race_chart\\Logos\\ELO.png\" height=\"30\" style=\"margin-right: 5px;\">ELO Group",
          "<img src=\"C:\\Users\\soula\\Desktop\\Projects\\Race_chart\\Logos\\Peugeot.png\" height=\"30\" style=\"margin-right: 5px;\">Peugeot",
          "<img src=\"C:\\Users\\soula\\Desktop\\Projects\\Race_chart\\Logos\\Engie.png\" height=\"30\" style=\"margin-right: 5px;\">Engie",
          "<img src=\"C:\\Users\\soula\\Desktop\\Projects\\Race_chart\\Logos\\EDF.png\" height=\"30\" style=\"margin-right: 5px;\">Electricite de France",
          "<img src=\"C:\\Users\\soula\\Desktop\\Projects\\Race_chart\\Logos\\Credit_Agricole.png\" height=\"30\" style=\"margin-right: 5px;\">Credit Agricole",
          "<img src=\"C:\\Users\\soula\\Desktop\\Projects\\Race_chart\\Logos\\Carrefour.png\" height=\"30\" style=\"margin-right: 5px;\">Carrefour",
          "<img src=\"C:\\Users\\soula\\Desktop\\Projects\\Race_chart\\Logos\\Societe_Generale.png\" height=\"30\" style=\"margin-right: 5px;\">Societe Generale",
          "<img src=\"C:\\Users\\soula\\Desktop\\Projects\\Race_chart\\Logos\\BNP_Paribas.png\" height=\"30\" style=\"margin-right: 5px;\">BNP Paribas",
          "<img src=\"C:\\Users\\soula\\Desktop\\Projects\\Race_chart\\Logos\\AXA.png\" height=\"30\" style=\"margin-right: 5px;\">AXA",
          "<img src=\"C:\\Users\\soula\\Desktop\\Projects\\Race_chart\\Logos\\TotalEnergies.png\" height=\"30\" style=\"margin-right: 5px;\">TotalEnergies",
          "<img src=\"C:\\Users\\soula\\Desktop\\Projects\\Race_chart\\Logos\\Peugeot.png\" height=\"30\" style=\"margin-right: 5px;\">Peugeot",
          "<img src=\"C:\\Users\\soula\\Desktop\\Projects\\Race_chart\\Logos\\Societe_Generale.png\" height=\"30\" style=\"margin-right: 5px;\">Societe Generale",
          "Groupe BPCE",
          "<img src=\"C:\\Users\\soula\\Desktop\\Projects\\Race_chart\\Logos\\Engie.png\" height=\"30\" style=\"margin-right: 5px;\">Engie",
          "<img src=\"C:\\Users\\soula\\Desktop\\Projects\\Race_chart\\Logos\\EDF.png\" height=\"30\" style=\"margin-right: 5px;\">Electricite de France",
          "<img src=\"C:\\Users\\soula\\Desktop\\Projects\\Race_chart\\Logos\\Credit_Agricole.png\" height=\"30\" style=\"margin-right: 5px;\">Credit Agricole",
          "<img src=\"C:\\Users\\soula\\Desktop\\Projects\\Race_chart\\Logos\\Carrefour.png\" height=\"30\" style=\"margin-right: 5px;\">Carrefour",
          "<img src=\"C:\\Users\\soula\\Desktop\\Projects\\Race_chart\\Logos\\BNP_Paribas.png\" height=\"30\" style=\"margin-right: 5px;\">BNP Paribas",
          "<img src=\"C:\\Users\\soula\\Desktop\\Projects\\Race_chart\\Logos\\TotalEnergies.png\" height=\"30\" style=\"margin-right: 5px;\">TotalEnergies",
          "<img src=\"C:\\Users\\soula\\Desktop\\Projects\\Race_chart\\Logos\\AXA.png\" height=\"30\" style=\"margin-right: 5px;\">AXA",
          "<img src=\"C:\\Users\\soula\\Desktop\\Projects\\Race_chart\\Logos\\Renault.png\" height=\"30\" style=\"margin-right: 5px;\">Renault",
          "<img src=\"C:\\Users\\soula\\Desktop\\Projects\\Race_chart\\Logos\\Societe_Generale.png\" height=\"30\" style=\"margin-right: 5px;\">Societe Generale",
          "<img src=\"C:\\Users\\soula\\Desktop\\Projects\\Race_chart\\Logos\\Peugeot.png\" height=\"30\" style=\"margin-right: 5px;\">Peugeot",
          "<img src=\"C:\\Users\\soula\\Desktop\\Projects\\Race_chart\\Logos\\Engie.png\" height=\"30\" style=\"margin-right: 5px;\">Engie",
          "<img src=\"C:\\Users\\soula\\Desktop\\Projects\\Race_chart\\Logos\\EDF.png\" height=\"30\" style=\"margin-right: 5px;\">Electricite de France",
          "<img src=\"C:\\Users\\soula\\Desktop\\Projects\\Race_chart\\Logos\\Credit_Agricole.png\" height=\"30\" style=\"margin-right: 5px;\">Credit Agricole",
          "<img src=\"C:\\Users\\soula\\Desktop\\Projects\\Race_chart\\Logos\\Carrefour.png\" height=\"30\" style=\"margin-right: 5px;\">Carrefour",
          "<img src=\"C:\\Users\\soula\\Desktop\\Projects\\Race_chart\\Logos\\BNP_Paribas.png\" height=\"30\" style=\"margin-right: 5px;\">BNP Paribas",
          "<img src=\"C:\\Users\\soula\\Desktop\\Projects\\Race_chart\\Logos\\TotalEnergies.png\" height=\"30\" style=\"margin-right: 5px;\">TotalEnergies",
          "<img src=\"C:\\Users\\soula\\Desktop\\Projects\\Race_chart\\Logos\\AXA.png\" height=\"30\" style=\"margin-right: 5px;\">AXA",
          "<img src=\"C:\\Users\\soula\\Desktop\\Projects\\Race_chart\\Logos\\ELO.png\" height=\"30\" style=\"margin-right: 5px;\">ELO Group",
          "<img src=\"C:\\Users\\soula\\Desktop\\Projects\\Race_chart\\Logos\\Renault.png\" height=\"30\" style=\"margin-right: 5px;\">Renault",
          "<img src=\"C:\\Users\\soula\\Desktop\\Projects\\Race_chart\\Logos\\Engie.png\" height=\"30\" style=\"margin-right: 5px;\">Engie",
          "<img src=\"C:\\Users\\soula\\Desktop\\Projects\\Race_chart\\Logos\\EDF.png\" height=\"30\" style=\"margin-right: 5px;\">Electricite de France",
          "<img src=\"C:\\Users\\soula\\Desktop\\Projects\\Race_chart\\Logos\\BNP_Paribas.png\" height=\"30\" style=\"margin-right: 5px;\">BNP Paribas",
          "<img src=\"C:\\Users\\soula\\Desktop\\Projects\\Race_chart\\Logos\\Peugeot.png\" height=\"30\" style=\"margin-right: 5px;\">Peugeot",
          "<img src=\"C:\\Users\\soula\\Desktop\\Projects\\Race_chart\\Logos\\Credit_Agricole.png\" height=\"30\" style=\"margin-right: 5px;\">Credit Agricole",
          "<img src=\"C:\\Users\\soula\\Desktop\\Projects\\Race_chart\\Logos\\Carrefour.png\" height=\"30\" style=\"margin-right: 5px;\">Carrefour",
          "<img src=\"C:\\Users\\soula\\Desktop\\Projects\\Race_chart\\Logos\\AXA.png\" height=\"30\" style=\"margin-right: 5px;\">AXA",
          "<img src=\"C:\\Users\\soula\\Desktop\\Projects\\Race_chart\\Logos\\TotalEnergies.png\" height=\"30\" style=\"margin-right: 5px;\">TotalEnergies",
          "<img src=\"C:\\Users\\soula\\Desktop\\Projects\\Race_chart\\Logos\\Christian_Dior.png\" height=\"30\" style=\"margin-right: 5px;\">Christian Dior",
          "<img src=\"C:\\Users\\soula\\Desktop\\Projects\\Race_chart\\Logos\\Renault.png\" height=\"30\" style=\"margin-right: 5px;\">Renault",
          "<img src=\"C:\\Users\\soula\\Desktop\\Projects\\Race_chart\\Logos\\Engie.png\" height=\"30\" style=\"margin-right: 5px;\">Engie",
          "<img src=\"C:\\Users\\soula\\Desktop\\Projects\\Race_chart\\Logos\\EDF.png\" height=\"30\" style=\"margin-right: 5px;\">Electricite de France",
          "<img src=\"C:\\Users\\soula\\Desktop\\Projects\\Race_chart\\Logos\\Peugeot.png\" height=\"30\" style=\"margin-right: 5px;\">Peugeot",
          "<img src=\"C:\\Users\\soula\\Desktop\\Projects\\Race_chart\\Logos\\BNP_Paribas.png\" height=\"30\" style=\"margin-right: 5px;\">BNP Paribas",
          "<img src=\"C:\\Users\\soula\\Desktop\\Projects\\Race_chart\\Logos\\Carrefour.png\" height=\"30\" style=\"margin-right: 5px;\">Carrefour",
          "<img src=\"C:\\Users\\soula\\Desktop\\Projects\\Race_chart\\Logos\\Credit_Agricole.png\" height=\"30\" style=\"margin-right: 5px;\">Credit Agricole",
          "<img src=\"C:\\Users\\soula\\Desktop\\Projects\\Race_chart\\Logos\\AXA.png\" height=\"30\" style=\"margin-right: 5px;\">AXA",
          "<img src=\"C:\\Users\\soula\\Desktop\\Projects\\Race_chart\\Logos\\TotalEnergies.png\" height=\"30\" style=\"margin-right: 5px;\">TotalEnergies",
          "<img src=\"C:\\Users\\soula\\Desktop\\Projects\\Race_chart\\Logos\\Vinci.png\" height=\"30\" style=\"margin-right: 5px;\">Vinci",
          "<img src=\"C:\\Users\\soula\\Desktop\\Projects\\Race_chart\\Logos\\Christian_Dior.png\" height=\"30\" style=\"margin-right: 5px;\">Christian Dior",
          "<img src=\"C:\\Users\\soula\\Desktop\\Projects\\Race_chart\\Logos\\Societe_Generale.png\" height=\"30\" style=\"margin-right: 5px;\">Societe Generale",
          "<img src=\"C:\\Users\\soula\\Desktop\\Projects\\Race_chart\\Logos\\Engie.png\" height=\"30\" style=\"margin-right: 5px;\">Engie",
          "<img src=\"C:\\Users\\soula\\Desktop\\Projects\\Race_chart\\Logos\\EDF.png\" height=\"30\" style=\"margin-right: 5px;\">Electricite de France",
          "<img src=\"C:\\Users\\soula\\Desktop\\Projects\\Race_chart\\Logos\\BNP_Paribas.png\" height=\"30\" style=\"margin-right: 5px;\">BNP Paribas",
          "<img src=\"C:\\Users\\soula\\Desktop\\Projects\\Race_chart\\Logos\\Carrefour.png\" height=\"30\" style=\"margin-right: 5px;\">Carrefour",
          "<img src=\"C:\\Users\\soula\\Desktop\\Projects\\Race_chart\\Logos\\Credit_Agricole.png\" height=\"30\" style=\"margin-right: 5px;\">Credit Agricole",
          "<img src=\"C:\\Users\\soula\\Desktop\\Projects\\Race_chart\\Logos\\TotalEnergies.png\" height=\"30\" style=\"margin-right: 5px;\">TotalEnergies",
          "<img src=\"C:\\Users\\soula\\Desktop\\Projects\\Race_chart\\Logos\\AXA.png\" height=\"30\" style=\"margin-right: 5px;\">AXA",
          "<img src=\"C:\\Users\\soula\\Desktop\\Projects\\Race_chart\\Logos\\Societe_Generale.png\" height=\"30\" style=\"margin-right: 5px;\">Societe Generale",
          "<img src=\"C:\\Users\\soula\\Desktop\\Projects\\Race_chart\\Logos\\Vinci.png\" height=\"30\" style=\"margin-right: 5px;\">Vinci",
          "<img src=\"C:\\Users\\soula\\Desktop\\Projects\\Race_chart\\Logos\\Christian_Dior.png\" height=\"30\" style=\"margin-right: 5px;\">Christian Dior",
          "<img src=\"C:\\Users\\soula\\Desktop\\Projects\\Race_chart\\Logos\\Engie.png\" height=\"30\" style=\"margin-right: 5px;\">Engie",
          "<img src=\"C:\\Users\\soula\\Desktop\\Projects\\Race_chart\\Logos\\BNP_Paribas.png\" height=\"30\" style=\"margin-right: 5px;\">BNP Paribas",
          "<img src=\"C:\\Users\\soula\\Desktop\\Projects\\Race_chart\\Logos\\Carrefour.png\" height=\"30\" style=\"margin-right: 5px;\">Carrefour",
          "<img src=\"C:\\Users\\soula\\Desktop\\Projects\\Race_chart\\Logos\\EDF.png\" height=\"30\" style=\"margin-right: 5px;\">Electricite de France",
          "<img src=\"C:\\Users\\soula\\Desktop\\Projects\\Race_chart\\Logos\\Credit_Agricole.png\" height=\"30\" style=\"margin-right: 5px;\">Credit Agricole",
          "<img src=\"C:\\Users\\soula\\Desktop\\Projects\\Race_chart\\Logos\\AXA.png\" height=\"30\" style=\"margin-right: 5px;\">AXA",
          "<img src=\"C:\\Users\\soula\\Desktop\\Projects\\Race_chart\\Logos\\TotalEnergies.png\" height=\"30\" style=\"margin-right: 5px;\">TotalEnergies",
          "<img src=\"C:\\Users\\soula\\Desktop\\Projects\\Race_chart\\Logos\\Societe_Generale.png\" height=\"30\" style=\"margin-right: 5px;\">Societe Generale",
          "<img src=\"C:\\Users\\soula\\Desktop\\Projects\\Race_chart\\Logos\\Vinci.png\" height=\"30\" style=\"margin-right: 5px;\">Vinci",
          "<img src=\"C:\\Users\\soula\\Desktop\\Projects\\Race_chart\\Logos\\Christian_Dior.png\" height=\"30\" style=\"margin-right: 5px;\">Christian Dior",
          "<img src=\"C:\\Users\\soula\\Desktop\\Projects\\Race_chart\\Logos\\Credit_Agricole.png\" height=\"30\" style=\"margin-right: 5px;\">Credit Agricole",
          "<img src=\"C:\\Users\\soula\\Desktop\\Projects\\Race_chart\\Logos\\BNP_Paribas.png\" height=\"30\" style=\"margin-right: 5px;\">BNP Paribas",
          "<img src=\"C:\\Users\\soula\\Desktop\\Projects\\Race_chart\\Logos\\Carrefour.png\" height=\"30\" style=\"margin-right: 5px;\">Carrefour",
          "<img src=\"C:\\Users\\soula\\Desktop\\Projects\\Race_chart\\Logos\\AXA.png\" height=\"30\" style=\"margin-right: 5px;\">AXA",
          "<img src=\"C:\\Users\\soula\\Desktop\\Projects\\Race_chart\\Logos\\Engie.png\" height=\"30\" style=\"margin-right: 5px;\">Engie",
          "<img src=\"C:\\Users\\soula\\Desktop\\Projects\\Race_chart\\Logos\\EDF.png\" height=\"30\" style=\"margin-right: 5px;\">Electricite de France",
          "<img src=\"C:\\Users\\soula\\Desktop\\Projects\\Race_chart\\Logos\\TotalEnergies.png\" height=\"30\" style=\"margin-right: 5px;\">TotalEnergies"
         ],
         "tickvals": [
          "TotalEnergies",
          "France Telecom SA",
          "Credit Lyonais",
          "Credit Agricole",
          "Compagnie Generale des Eaux",
          "Peugeot",
          "Alcatel Alsthom",
          "Renault",
          "Union Des Assurances de Paris",
          "Elf Aquitaine",
          "Carrefour",
          "France Telecom SA",
          "Gan",
          "Alcatel Alsthom",
          "Credit Agricole Group",
          "Compagnie Generale des Eaux",
          "Peugeot",
          "Renault",
          "Union Des Assurances de Paris",
          "Elf Aquitaine",
          "Alcatel Alsthom",
          "Gan",
          "Compagnie Generale des Eaux",
          "AXA",
          "Peugeot",
          "TotalEnergies",
          "Credit Agricole Group",
          "Renault",
          "Union Des Assurances de Paris",
          "Elf Aquitaine",
          "Carrefour",
          "Alcatel Alsthom",
          "Peugeot",
          "Suez Lyonnaise des Eaux",
          "TotalEnergies",
          "Credit Agricole Group",
          "Renault",
          "Electricite de France",
          "Elf Aquitaine",
          "AXA",
          "Societe Generale",
          "Carrefour",
          "Credit Agricole Group",
          "Suez Lyonnaise des Eaux",
          "Vivendi Universal S.A.",
          "Elf Aquitaine",
          "Electricite de France",
          "Peugeot",
          "Renault",
          "AXA",
          "Suez Lyonnaise des Eaux",
          "Electricite de France",
          "Elf Aquitaine",
          "Carrefour",
          "BNP Paribas",
          "Renault",
          "Peugeot",
          "Vivendi Universal S.A.",
          "Total Fina Elf S.A.",
          "AXA",
          "France Telecom SA",
          "Electricite de France",
          "Suez",
          "Credit Agricole Group",
          "Renault",
          "Vivendi Universal S.A.",
          "BNP Paribas",
          "Carrefour",
          "AXA",
          "Total Fina Elf S.A.",
          "Renault",
          "Credit Nationale de Credit Agricole",
          "Electricite de France",
          "Suez",
          "France Telecom SA",
          "Vivendi Universal S.A.",
          "BNP Paribas",
          "Carrefour",
          "AXA",
          "Total Fina Elf S.A.",
          "Renault",
          "Credit Nationale de Credit Agricole",
          "Suez",
          "France TeIecom SA",
          "Electricite de France",
          "BNP Paribas",
          "Vivendi Universal S.A.",
          "AXA",
          "Carrefour",
          "TotalEnergies",
          "Compagnie de Saint-Gobain",
          "Renault",
          "Suez",
          "Credit Nationale de Credit Agricole",
          "Electricite de France",
          "France TeIecom SA",
          "BNP Paribas",
          "Carrefour",
          "AXA",
          "TotalEnergies",
          "Compagnie de Saint-Gobain",
          "Renault",
          "Suez",
          "Electricite de France",
          "France TeIecom SA",
          "Credit Nationale de Credit Agricole",
          "BNP Paribas",
          "Carrefour",
          "AXA",
          "TotalEnergies",
          "Groupe Auchan",
          "Compagnie de Saint-Gobain",
          "CNP Assurances",
          "Renault",
          "Suez",
          "Orange",
          "BNP Paribas",
          "Carrefour",
          "AXA",
          "TotalEnergies",
          "Veolia Environnement",
          "Groupe Auchan",
          "Renault",
          "CNP Assurances",
          "Compagnie de Saint-Gobain",
          "Suez",
          "Carrefour",
          "BNP Paribas",
          "AXA",
          "TotalEnergies",
          "Les Caisses d'epargne et de Prevoyance",
          "Renault",
          "CNP Assurances",
          "Compagnie de Saint-Gobain",
          "Suez",
          "PSA Peugeot Citroen S.A.",
          "Carrefour",
          "BNP Paribas",
          "AXA",
          "TotalEnergies",
          "Veolia Environnement",
          "Renault",
          "Groupe Auchan",
          "Compagnie de Saint-Gobain",
          "Orange",
          "AXA",
          "Engie",
          "Carrefour",
          "BNP Paribas",
          "TotalEnergies",
          "Veolia Environnement",
          "Compagnie de Saint-Gobain",
          "Groupe Auchan",
          "CNP Assurances",
          "Groupe BPCE",
          "Engie",
          "Carrefour",
          "BNP Paribas",
          "TotalEnergies",
          "AXA",
          "Renault",
          "Compagnie de Saint-Gobain",
          "Groupe Auchan",
          "CNP Assurances",
          "Groupe BPCE",
          "GDF Suez SA",
          "Carrefour",
          "BNP Paribas",
          "AXA",
          "TotalEnergies",
          "Compagnie de Saint-Gobain",
          "Renault",
          "Groupe Auchan",
          "Groupe BPCE",
          "Societe Generale",
          "Carrefour",
          "GDF Suez SA",
          "BNP Paribas",
          "AXA",
          "TotalEnergies",
          "Groupe BPCE",
          "Peugeot",
          "Electricite de France",
          "Credit Nationale de Credit Agricole",
          "Societe Generale",
          "Carrefour",
          "BNP Paribas",
          "GDF Suez SA",
          "AXA",
          "TotalEnergies",
          "Groupe BPCE",
          "Peugeot",
          "Credit Agricole",
          "Electricite de France",
          "Carrefour",
          "Engie",
          "BNP Paribas",
          "Societe Generale",
          "AXA",
          "TotalEnergies",
          "Groupe Auchan",
          "Peugeot",
          "Electricite de France",
          "Engie",
          "Carrefour",
          "Credit Agricole",
          "Societe Generale",
          "BNP Paribas",
          "AXA",
          "TotalEnergies",
          "ELO Group",
          "Peugeot",
          "Engie",
          "Electricite de France",
          "Credit Agricole",
          "Carrefour",
          "Societe Generale",
          "BNP Paribas",
          "AXA",
          "TotalEnergies",
          "Peugeot",
          "Societe Generale",
          "Groupe BPCE",
          "Engie",
          "Electricite de France",
          "Credit Agricole",
          "Carrefour",
          "BNP Paribas",
          "TotalEnergies",
          "AXA",
          "Renault",
          "Societe Generale",
          "Peugeot",
          "Engie",
          "Electricite de France",
          "Credit Agricole",
          "Carrefour",
          "BNP Paribas",
          "TotalEnergies",
          "AXA",
          "ELO Group",
          "Renault",
          "Engie",
          "Electricite de France",
          "BNP Paribas",
          "Peugeot",
          "Credit Agricole",
          "Carrefour",
          "AXA",
          "TotalEnergies",
          "Christian Dior",
          "Renault",
          "Engie",
          "Electricite de France",
          "Peugeot",
          "BNP Paribas",
          "Carrefour",
          "Credit Agricole",
          "AXA",
          "TotalEnergies",
          "Vinci",
          "Christian Dior",
          "Societe Generale",
          "Engie",
          "Electricite de France",
          "BNP Paribas",
          "Carrefour",
          "Credit Agricole",
          "TotalEnergies",
          "AXA",
          "Societe Generale",
          "Vinci",
          "Christian Dior",
          "Engie",
          "BNP Paribas",
          "Carrefour",
          "Electricite de France",
          "Credit Agricole",
          "AXA",
          "TotalEnergies",
          "Societe Generale",
          "Vinci",
          "Christian Dior",
          "Credit Agricole",
          "BNP Paribas",
          "Carrefour",
          "AXA",
          "Engie",
          "Electricite de France",
          "TotalEnergies"
         ],
         "title": {
          "text": "Company"
         }
        }
       }
      }
     },
     "metadata": {},
     "output_type": "display_data"
    }
   ],
   "source": [
    "import os\n",
    "import plotly.express as px\n",
    "\n",
    "# Define the logo mapping\n",
    "logo_mapping = {\n",
    "    'Carrefour': r'C:\\Users\\soula\\Desktop\\Projects\\Race_chart\\Logos\\Carrefour.png',\n",
    "    'AXA': r'C:\\Users\\soula\\Desktop\\Projects\\Race_chart\\Logos\\AXA.png',\n",
    "    'TotalEnergies': r'C:\\Users\\soula\\Desktop\\Projects\\Race_chart\\Logos\\TotalEnergies.png',\n",
    "    'BNP Paribas': r'C:\\Users\\soula\\Desktop\\Projects\\Race_chart\\Logos\\BNP_Paribas.png',\n",
    "    'Renault': r'C:\\Users\\soula\\Desktop\\Projects\\Race_chart\\Logos\\Renault.png',\n",
    "    'Electricite de France': r'C:\\Users\\soula\\Desktop\\Projects\\Race_chart\\Logos\\EDF.png',\n",
    "    'Peugeot': r'C:\\Users\\soula\\Desktop\\Projects\\Race_chart\\Logos\\Peugeot.png',\n",
    "    'Engie': r'C:\\Users\\soula\\Desktop\\Projects\\Race_chart\\Logos\\Engie.png',\n",
    "    'Credit Agricole': r'C:\\Users\\soula\\Desktop\\Projects\\Race_chart\\Logos\\Credit_Agricole.png',\n",
    "    'Societe Generale': r'C:\\Users\\soula\\Desktop\\Projects\\Race_chart\\Logos\\Societe_Generale.png',\n",
    "    'Compagnie de Saint-Gobain': r'C:\\Users\\soula\\Desktop\\Projects\\Race_chart\\Logos\\Compagnie_de_Saint_Gobain.png',\n",
    "    'Suez': r'C:\\Users\\soula\\Desktop\\Projects\\Race_chart\\Logos\\Suez.png',\n",
    "    'Groupe Auchan': r'C:\\Users\\soula\\Desktop\\Projects\\Race_chart\\Logos\\Groupe_Auchan.png',\n",
    "    'Groupe BPCE': r'C:\\Users\\soula\\Desktop\\Projects\\Race_chart\\Logos\\Groupe8BPCE.png',\n",
    "    'Elf Aquitaine': r'C:\\Users\\soula\\Desktop\\Projects\\Race_chart\\Logos\\Elf8Aquitaine.png',\n",
    "    'Credit Agricole Group': r'C:\\Users\\soula\\Desktop\\Projects\\Race_chart\\Logos\\Credit_Agricole.png',\n",
    "    'Credit Nationale de Credit Agricole': r'C:\\Users\\soula\\Desktop\\Projects\\Race_chart\\Logos\\Credit_Agricole.png',\n",
    "    'CNP Assurances': r'C:\\Users\\soula\\Desktop\\Projects\\Race_chart\\Logos\\CNP.png',\n",
    "    'France Telecom SA': r'C:\\Users\\soula\\Desktop\\Projects\\Race_chart\\Logos\\France_telecome.png',\n",
    "    'Christian Dior': r'C:\\Users\\soula\\Desktop\\Projects\\Race_chart\\Logos\\Christian_Dior.png',\n",
    "    'GDF Suez SA': r'C:\\Users\\soula\\Desktop\\Projects\\Race_chart\\Logos\\GDF_Suez_SA.png.png',\n",
    "    'Veolia Environnement': r'C:\\Users\\soula\\Desktop\\Projects\\Race_chart\\Logos\\Violia.png',\n",
    "    'Total Fina Elf S.A.': r'C:\\Users\\soula\\Desktop\\Projects\\Race_chart\\Logos\\TotalEnergies.png',\n",
    "    'Vivendi Universal S.A.': r'C:\\Users\\soula\\Desktop\\Projects\\Race_chart\\Logos\\Vivendi_uni.png',\n",
    "    'Union Des Assurances de Paris': r'C:\\Users\\soula\\Desktop\\Projects\\Race_chart\\Logos\\UAP.png',\n",
    "    'Suez Lyonnaise des Eaux': r'C:\\Users\\soula\\Desktop\\Projects\\Race_chart\\Logos\\Suez_eaux_Lyonaise.png',\n",
    "    'Compagnie Generale des Eaux': r'C:\\Users\\soula\\Desktop\\Projects\\Race_chart\\Logos\\Compagnie_Generale_des_Eaux.png',\n",
    "    'Vinci': r'C:\\Users\\soula\\Desktop\\Projects\\Race_chart\\Logos\\Vinci.png',\n",
    "    'Orange': r'C:\\Users\\soula\\Desktop\\Projects\\Race_chart\\Logos\\Orange.png',\n",
    "    'Alcatel Alsthom Group': r'C:\\Users\\soula\\Desktop\\Projects\\Race_chart\\Logos\\ALcatel_Alsthom.png',\n",
    "    'Gan': r'C:\\Users\\soula\\Desktop\\Projects\\Race_chart\\Logos\\Gan.png',\n",
    "    'ELO Group': r'C:\\Users\\soula\\Desktop\\Projects\\Race_chart\\Logos\\ELO.png',\n",
    "    'PSA Peugeot Citroen S.A.': r'C:\\Users\\soula\\Desktop\\Projects\\Race_chart\\Logos\\PSA.png',\n",
    "    'Les Caisses d\\'epargne et de Prevoyance': r'C:\\Users\\soula\\Desktop\\Projects\\Race_chart\\Logos\\Caisse_d_epatgne.png',\n",
    "    'Credit Lyonais': r'C:\\Users\\soula\\Desktop\\Projects\\Race_chart\\Logos\\Credit_Lyonais.png',\n",
    "}\n",
    "\n",
    "# Filter top 10 companies for each year\n",
    "df['Rank'] = df.groupby('Year')['Revenues ($M)'].rank(method='first', ascending=False)\n",
    "top10_df = df[df['Rank'] <= 10].sort_values(by=['Year', 'Rank'], ascending=[True, False])  # Sort in reverse order\n",
    "\n",
    "# Create custom tick labels for the y-axis containing logos and company names\n",
    "tick_labels = []\n",
    "for company in top10_df['Name']:\n",
    "    logo_path = logo_mapping.get(company, '')  # Get the logo path for the company\n",
    "    # Create an HTML image tag for the logo\n",
    "    img_tag = f'<img src=\"{logo_path}\" height=\"30\" style=\"margin-right: 5px;\">' if os.path.exists(logo_path) else ''\n",
    "    tick_labels.append(img_tag + company)  # Append the logo and company name to the tick labels\n",
    "\n",
    "# Create the race chart using Plotly\n",
    "fig = px.bar(top10_df, \n",
    "             x='Revenues ($M)', \n",
    "             y='Name', \n",
    "             animation_frame='Year', \n",
    "             animation_group='Name', \n",
    "             range_x=[0, top10_df['Revenues ($M)'].max() * 1.1],\n",
    "             orientation='h',\n",
    "             labels={'Revenues ($M)': 'Revenues in $M', 'Name': 'Company'},\n",
    "             title='Top 10 Companies by Revenue in France (1995-2023)',\n",
    "             template='plotly_white')\n",
    "\n",
    "fig.update_layout(xaxis={'categoryorder':'total ascending'},\n",
    "                  height=600,  # Adjust the height of the figure\n",
    "                  width=1800)   # Adjust the width of the figure\n",
    "\n",
    "# Update the y-axis tick labels with the custom tick labels\n",
    "fig.update_yaxes(tickvals=top10_df['Name'], ticktext=tick_labels)\n",
    "\n",
    "fig.show()"
   ]
  },
  {
   "cell_type": "code",
   "execution_count": 7,
   "metadata": {},
   "outputs": [
    {
     "data": {
      "application/vnd.plotly.v1+json": {
       "config": {
        "plotlyServerURL": "https://plot.ly"
       },
       "data": [
        {
         "alignmentgroup": "True",
         "hovertemplate": "Year=1995<br>Revenues in $M=%{x}<br>Company=%{y}<extra></extra>",
         "ids": [
          "TotalEnergies",
          "France Telecom SA",
          "Credit Lyonais",
          "Credit Agricole",
          "Compagnie Generale des Eaux",
          "Peugeot",
          "Alcatel Alsthom",
          "Renault",
          "Union Des Assurances de Paris",
          "Elf Aquitaine"
         ],
         "legendgroup": "",
         "marker": {
          "color": "#636efa",
          "pattern": {
           "shape": ""
          }
         },
         "name": "",
         "offsetgroup": "",
         "orientation": "h",
         "showlegend": false,
         "textposition": "auto",
         "type": "bar",
         "x": [
          24653,
          25706.3,
          26388.1,
          27753.1,
          28153.1,
          30112.3,
          30223.9,
          32188,
          34597,
          39459.1
         ],
         "xaxis": "x",
         "y": [
          "TotalEnergies",
          "France Telecom SA",
          "Credit Lyonais",
          "Credit Agricole",
          "Compagnie Generale des Eaux",
          "Peugeot",
          "Alcatel Alsthom",
          "Renault",
          "Union Des Assurances de Paris",
          "Elf Aquitaine"
         ],
         "yaxis": "y"
        }
       ],
       "frames": [
        {
         "data": [
          {
           "alignmentgroup": "True",
           "hovertemplate": "Year=1995<br>Revenues in $M=%{x}<br>Company=%{y}<extra></extra>",
           "ids": [
            "TotalEnergies",
            "France Telecom SA",
            "Credit Lyonais",
            "Credit Agricole",
            "Compagnie Generale des Eaux",
            "Peugeot",
            "Alcatel Alsthom",
            "Renault",
            "Union Des Assurances de Paris",
            "Elf Aquitaine"
           ],
           "legendgroup": "",
           "marker": {
            "color": "#636efa",
            "pattern": {
             "shape": ""
            }
           },
           "name": "",
           "offsetgroup": "",
           "orientation": "h",
           "showlegend": false,
           "textposition": "auto",
           "type": "bar",
           "x": [
            24653,
            25706.3,
            26388.1,
            27753.1,
            28153.1,
            30112.3,
            30223.9,
            32188,
            34597,
            39459.1
           ],
           "xaxis": "x",
           "y": [
            "TotalEnergies",
            "France Telecom SA",
            "Credit Lyonais",
            "Credit Agricole",
            "Compagnie Generale des Eaux",
            "Peugeot",
            "Alcatel Alsthom",
            "Renault",
            "Union Des Assurances de Paris",
            "Elf Aquitaine"
           ],
           "yaxis": "y"
          }
         ],
         "name": "1995"
        },
        {
         "data": [
          {
           "alignmentgroup": "True",
           "hovertemplate": "Year=1996<br>Revenues in $M=%{x}<br>Company=%{y}<extra></extra>",
           "ids": [
            "Carrefour",
            "France Telecom SA",
            "Gan",
            "Alcatel Alsthom",
            "Credit Agricole Group",
            "Compagnie Generale des Eaux",
            "Peugeot",
            "Renault",
            "Union Des Assurances de Paris",
            "Elf Aquitaine"
           ],
           "legendgroup": "",
           "marker": {
            "color": "#636efa",
            "pattern": {
             "shape": ""
            }
           },
           "name": "",
           "offsetgroup": "",
           "orientation": "h",
           "showlegend": false,
           "textposition": "auto",
           "type": "bar",
           "x": [
            28986.6,
            30060.2,
            31224.6,
            32154.4,
            32343.2,
            32664.6,
            33074.3,
            36894.7,
            42004.2,
            43618.4
           ],
           "xaxis": "x",
           "y": [
            "Carrefour",
            "France Telecom SA",
            "Gan",
            "Alcatel Alsthom",
            "Credit Agricole Group",
            "Compagnie Generale des Eaux",
            "Peugeot",
            "Renault",
            "Union Des Assurances de Paris",
            "Elf Aquitaine"
           ],
           "yaxis": "y"
          }
         ],
         "name": "1996"
        },
        {
         "data": [
          {
           "alignmentgroup": "True",
           "hovertemplate": "Year=1997<br>Revenues in $M=%{x}<br>Company=%{y}<extra></extra>",
           "ids": [
            "Alcatel Alsthom",
            "Gan",
            "Compagnie Generale des Eaux",
            "AXA",
            "Peugeot",
            "TotalEnergies",
            "Credit Agricole Group",
            "Renault",
            "Union Des Assurances de Paris",
            "Elf Aquitaine"
           ],
           "legendgroup": "",
           "marker": {
            "color": "#636efa",
            "pattern": {
             "shape": ""
            }
           },
           "name": "",
           "offsetgroup": "",
           "orientation": "h",
           "showlegend": false,
           "textposition": "auto",
           "type": "bar",
           "x": [
            31683.8,
            32259.5,
            32428.8,
            32681.4,
            33914.7,
            34513,
            34619.6,
            35979.1,
            40736.7,
            46818
           ],
           "xaxis": "x",
           "y": [
            "Alcatel Alsthom",
            "Gan",
            "Compagnie Generale des Eaux",
            "AXA",
            "Peugeot",
            "TotalEnergies",
            "Credit Agricole Group",
            "Renault",
            "Union Des Assurances de Paris",
            "Elf Aquitaine"
           ],
           "yaxis": "y"
          }
         ],
         "name": "1997"
        },
        {
         "data": [
          {
           "alignmentgroup": "True",
           "hovertemplate": "Year=1998<br>Revenues in $M=%{x}<br>Company=%{y}<extra></extra>",
           "ids": [
            "Carrefour",
            "Alcatel Alsthom",
            "Peugeot",
            "Suez Lyonnaise des Eaux",
            "TotalEnergies",
            "Credit Agricole Group",
            "Renault",
            "Electricite de France",
            "Elf Aquitaine",
            "AXA"
           ],
           "legendgroup": "",
           "marker": {
            "color": "#636efa",
            "pattern": {
             "shape": ""
            }
           },
           "name": "",
           "offsetgroup": "",
           "orientation": "h",
           "showlegend": false,
           "textposition": "auto",
           "type": "bar",
           "x": [
            29002.7,
            31846.8,
            32003.9,
            32626.7,
            32740.6,
            34014.9,
            35623.8,
            36672.9,
            43572,
            76874.4
           ],
           "xaxis": "x",
           "y": [
            "Carrefour",
            "Alcatel Alsthom",
            "Peugeot",
            "Suez Lyonnaise des Eaux",
            "TotalEnergies",
            "Credit Agricole Group",
            "Renault",
            "Electricite de France",
            "Elf Aquitaine",
            "AXA"
           ],
           "yaxis": "y"
          }
         ],
         "name": "1998"
        },
        {
         "data": [
          {
           "alignmentgroup": "True",
           "hovertemplate": "Year=1999<br>Revenues in $M=%{x}<br>Company=%{y}<extra></extra>",
           "ids": [
            "Societe Generale",
            "Carrefour",
            "Credit Agricole Group",
            "Suez Lyonnaise des Eaux",
            "Vivendi Universal S.A.",
            "Elf Aquitaine",
            "Electricite de France",
            "Peugeot",
            "Renault",
            "AXA"
           ],
           "legendgroup": "",
           "marker": {
            "color": "#636efa",
            "pattern": {
             "shape": ""
            }
           },
           "name": "",
           "offsetgroup": "",
           "orientation": "h",
           "showlegend": false,
           "textposition": "auto",
           "type": "bar",
           "x": [
            29762.1,
            30479,
            33022.4,
            34873.5,
            35292.3,
            35864,
            36672.9,
            37539.8,
            41353.3,
            78729.3
           ],
           "xaxis": "x",
           "y": [
            "Societe Generale",
            "Carrefour",
            "Credit Agricole Group",
            "Suez Lyonnaise des Eaux",
            "Vivendi Universal S.A.",
            "Elf Aquitaine",
            "Electricite de France",
            "Peugeot",
            "Renault",
            "AXA"
           ],
           "yaxis": "y"
          }
         ],
         "name": "1999"
        },
        {
         "data": [
          {
           "alignmentgroup": "True",
           "hovertemplate": "Year=2000<br>Revenues in $M=%{x}<br>Company=%{y}<extra></extra>",
           "ids": [
            "Suez Lyonnaise des Eaux",
            "Electricite de France",
            "Elf Aquitaine",
            "Carrefour",
            "BNP Paribas",
            "Renault",
            "Peugeot",
            "Vivendi Universal S.A.",
            "Total Fina Elf S.A.",
            "AXA"
           ],
           "legendgroup": "",
           "marker": {
            "color": "#636efa",
            "pattern": {
             "shape": ""
            }
           },
           "name": "",
           "offsetgroup": "",
           "orientation": "h",
           "showlegend": false,
           "textposition": "auto",
           "type": "bar",
           "x": [
            33559.7,
            34146.6,
            37918.3,
            39855.7,
            40098.6,
            40098.6,
            40327.9,
            44397.8,
            44990.3,
            87645.7
           ],
           "xaxis": "x",
           "y": [
            "Suez Lyonnaise des Eaux",
            "Electricite de France",
            "Elf Aquitaine",
            "Carrefour",
            "BNP Paribas",
            "Renault",
            "Peugeot",
            "Vivendi Universal S.A.",
            "Total Fina Elf S.A.",
            "AXA"
           ],
           "yaxis": "y"
          }
         ],
         "name": "2000"
        },
        {
         "data": [
          {
           "alignmentgroup": "True",
           "hovertemplate": "Year=2001<br>Revenues in $M=%{x}<br>Company=%{y}<extra></extra>",
           "ids": [
            "France Telecom SA",
            "Electricite de France",
            "Suez",
            "Credit Agricole Group",
            "Renault",
            "Vivendi Universal S.A.",
            "BNP Paribas",
            "Carrefour",
            "AXA",
            "Total Fina Elf S.A."
           ],
           "legendgroup": "",
           "marker": {
            "color": "#636efa",
            "pattern": {
             "shape": ""
            }
           },
           "name": "",
           "offsetgroup": "",
           "orientation": "h",
           "showlegend": false,
           "textposition": "auto",
           "type": "bar",
           "x": [
            31122.2,
            31791.3,
            31991.8,
            34684.7,
            37128.4,
            38628.3,
            57611.6,
            59887.8,
            92781.6,
            105869.6
           ],
           "xaxis": "x",
           "y": [
            "France Telecom SA",
            "Electricite de France",
            "Suez",
            "Credit Agricole Group",
            "Renault",
            "Vivendi Universal S.A.",
            "BNP Paribas",
            "Carrefour",
            "AXA",
            "Total Fina Elf S.A."
           ],
           "yaxis": "y"
          }
         ],
         "name": "2001"
        },
        {
         "data": [
          {
           "alignmentgroup": "True",
           "hovertemplate": "Year=2002<br>Revenues in $M=%{x}<br>Company=%{y}<extra></extra>",
           "ids": [
            "Renault",
            "Credit Nationale de Credit Agricole",
            "Electricite de France",
            "Suez",
            "France Telecom SA",
            "Vivendi Universal S.A.",
            "BNP Paribas",
            "Carrefour",
            "AXA",
            "Total Fina Elf S.A."
           ],
           "legendgroup": "",
           "marker": {
            "color": "#636efa",
            "pattern": {
             "shape": ""
            }
           },
           "name": "",
           "offsetgroup": "",
           "orientation": "h",
           "showlegend": false,
           "textposition": "auto",
           "type": "bar",
           "x": [
            32552.2,
            35668.5,
            36461,
            37932.5,
            38529.6,
            51365.7,
            55044.4,
            62224.6,
            65579.9,
            94311.9
           ],
           "xaxis": "x",
           "y": [
            "Renault",
            "Credit Nationale de Credit Agricole",
            "Electricite de France",
            "Suez",
            "France Telecom SA",
            "Vivendi Universal S.A.",
            "BNP Paribas",
            "Carrefour",
            "AXA",
            "Total Fina Elf S.A."
           ],
           "yaxis": "y"
          }
         ],
         "name": "2002"
        },
        {
         "data": [
          {
           "alignmentgroup": "True",
           "hovertemplate": "Year=2003<br>Revenues in $M=%{x}<br>Company=%{y}<extra></extra>",
           "ids": [
            "Renault",
            "Credit Nationale de Credit Agricole",
            "Suez",
            "France TeIecom SA",
            "Electricite de France",
            "BNP Paribas",
            "Vivendi Universal S.A.",
            "AXA",
            "Carrefour",
            "TotalEnergies"
           ],
           "legendgroup": "",
           "marker": {
            "color": "#636efa",
            "pattern": {
             "shape": ""
            }
           },
           "name": "",
           "offsetgroup": "",
           "orientation": "h",
           "showlegend": false,
           "textposition": "auto",
           "type": "bar",
           "x": [
            34353.3,
            36745.3,
            43574.9,
            44085.7,
            45720.3,
            51127.3,
            54977.1,
            62050.8,
            64978.6,
            96944.9
           ],
           "xaxis": "x",
           "y": [
            "Renault",
            "Credit Nationale de Credit Agricole",
            "Suez",
            "France TeIecom SA",
            "Electricite de France",
            "BNP Paribas",
            "Vivendi Universal S.A.",
            "AXA",
            "Carrefour",
            "TotalEnergies"
           ],
           "yaxis": "y"
          }
         ],
         "name": "2003"
        },
        {
         "data": [
          {
           "alignmentgroup": "True",
           "hovertemplate": "Year=2004<br>Revenues in $M=%{x}<br>Company=%{y}<extra></extra>",
           "ids": [
            "Compagnie de Saint-Gobain",
            "Renault",
            "Suez",
            "Credit Nationale de Credit Agricole",
            "Electricite de France",
            "France TeIecom SA",
            "BNP Paribas",
            "Carrefour",
            "AXA",
            "TotalEnergies"
           ],
           "legendgroup": "",
           "marker": {
            "color": "#636efa",
            "pattern": {
             "shape": ""
            }
           },
           "name": "",
           "offsetgroup": "",
           "orientation": "h",
           "showlegend": false,
           "textposition": "auto",
           "type": "bar",
           "x": [
            33488.9,
            42469.5,
            44842.5,
            45928.1,
            50837.7,
            52198.1,
            57271.8,
            79773.8,
            111912.2,
            118441.4
           ],
           "xaxis": "x",
           "y": [
            "Compagnie de Saint-Gobain",
            "Renault",
            "Suez",
            "Credit Nationale de Credit Agricole",
            "Electricite de France",
            "France TeIecom SA",
            "BNP Paribas",
            "Carrefour",
            "AXA",
            "TotalEnergies"
           ],
           "yaxis": "y"
          }
         ],
         "name": "2004"
        },
        {
         "data": [
          {
           "alignmentgroup": "True",
           "hovertemplate": "Year=2005<br>Revenues in $M=%{x}<br>Company=%{y}<extra></extra>",
           "ids": [
            "Compagnie de Saint-Gobain",
            "Renault",
            "Suez",
            "Electricite de France",
            "France TeIecom SA",
            "Credit Nationale de Credit Agricole",
            "BNP Paribas",
            "Carrefour",
            "AXA",
            "TotalEnergies"
           ],
           "legendgroup": "",
           "marker": {
            "color": "#636efa",
            "pattern": {
             "shape": ""
            }
           },
           "name": "",
           "offsetgroup": "",
           "orientation": "h",
           "showlegend": false,
           "textposition": "auto",
           "type": "bar",
           "x": [
            39831.5,
            50639.7,
            50670.1,
            58367.2,
            58652.1,
            59053.8,
            68654.4,
            90381.7,
            121606.3,
            152609.5
           ],
           "xaxis": "x",
           "y": [
            "Compagnie de Saint-Gobain",
            "Renault",
            "Suez",
            "Electricite de France",
            "France TeIecom SA",
            "Credit Nationale de Credit Agricole",
            "BNP Paribas",
            "Carrefour",
            "AXA",
            "TotalEnergies"
           ],
           "yaxis": "y"
          }
         ],
         "name": "2005"
        },
        {
         "data": [
          {
           "alignmentgroup": "True",
           "hovertemplate": "Year=2006<br>Revenues in $M=%{x}<br>Company=%{y}<extra></extra>",
           "ids": [
            "Groupe Auchan",
            "Compagnie de Saint-Gobain",
            "CNP Assurances",
            "Renault",
            "Suez",
            "Orange",
            "BNP Paribas",
            "Carrefour",
            "AXA",
            "TotalEnergies"
           ],
           "legendgroup": "",
           "marker": {
            "color": "#636efa",
            "pattern": {
             "shape": ""
            }
           },
           "name": "",
           "offsetgroup": "",
           "orientation": "h",
           "showlegend": false,
           "textposition": "auto",
           "type": "bar",
           "x": [
            42073.2,
            43626.4,
            48474.9,
            51365.1,
            52742.9,
            60932.9,
            85687.2,
            94454.5,
            129839.2,
            152360.7
           ],
           "xaxis": "x",
           "y": [
            "Groupe Auchan",
            "Compagnie de Saint-Gobain",
            "CNP Assurances",
            "Renault",
            "Suez",
            "Orange",
            "BNP Paribas",
            "Carrefour",
            "AXA",
            "TotalEnergies"
           ],
           "yaxis": "y"
          }
         ],
         "name": "2006"
        },
        {
         "data": [
          {
           "alignmentgroup": "True",
           "hovertemplate": "Year=2007<br>Revenues in $M=%{x}<br>Company=%{y}<extra></extra>",
           "ids": [
            "Veolia Environnement",
            "Groupe Auchan",
            "Renault",
            "CNP Assurances",
            "Compagnie de Saint-Gobain",
            "Suez",
            "Carrefour",
            "BNP Paribas",
            "AXA",
            "TotalEnergies"
           ],
           "legendgroup": "",
           "marker": {
            "color": "#636efa",
            "pattern": {
             "shape": ""
            }
           },
           "name": "",
           "offsetgroup": "",
           "orientation": "h",
           "showlegend": false,
           "textposition": "auto",
           "type": "bar",
           "x": [
            44749.9,
            50464.9,
            55684,
            59071.4,
            59433,
            64982.5,
            115584.7,
            140726.5,
            162762.3,
            187279.5
           ],
           "xaxis": "x",
           "y": [
            "Veolia Environnement",
            "Groupe Auchan",
            "Renault",
            "CNP Assurances",
            "Compagnie de Saint-Gobain",
            "Suez",
            "Carrefour",
            "BNP Paribas",
            "AXA",
            "TotalEnergies"
           ],
           "yaxis": "y"
          }
         ],
         "name": "2007"
        },
        {
         "data": [
          {
           "alignmentgroup": "True",
           "hovertemplate": "Year=2008<br>Revenues in $M=%{x}<br>Company=%{y}<extra></extra>",
           "ids": [
            "Les Caisses d'epargne et de Prevoyance",
            "Renault",
            "CNP Assurances",
            "Compagnie de Saint-Gobain",
            "Suez",
            "PSA Peugeot Citroen S.A.",
            "Carrefour",
            "BNP Paribas",
            "AXA",
            "TotalEnergies"
           ],
           "legendgroup": "",
           "marker": {
            "color": "#636efa",
            "pattern": {
             "shape": ""
            }
           },
           "name": "",
           "offsetgroup": "",
           "orientation": "h",
           "showlegend": false,
           "textposition": "auto",
           "type": "bar",
           "x": [
            53992.2,
            55684,
            59071.4,
            59433,
            64982.5,
            82964.8,
            115584.7,
            140726.5,
            162762.3,
            187279.5
           ],
           "xaxis": "x",
           "y": [
            "Les Caisses d'epargne et de Prevoyance",
            "Renault",
            "CNP Assurances",
            "Compagnie de Saint-Gobain",
            "Suez",
            "PSA Peugeot Citroen S.A.",
            "Carrefour",
            "BNP Paribas",
            "AXA",
            "TotalEnergies"
           ],
           "yaxis": "y"
          }
         ],
         "name": "2008"
        },
        {
         "data": [
          {
           "alignmentgroup": "True",
           "hovertemplate": "Year=2009<br>Revenues in $M=%{x}<br>Company=%{y}<extra></extra>",
           "ids": [
            "Veolia Environnement",
            "Renault",
            "Groupe Auchan",
            "Compagnie de Saint-Gobain",
            "Orange",
            "AXA",
            "Engie",
            "Carrefour",
            "BNP Paribas",
            "TotalEnergies"
           ],
           "legendgroup": "",
           "marker": {
            "color": "#636efa",
            "pattern": {
             "shape": ""
            }
           },
           "name": "",
           "offsetgroup": "",
           "orientation": "h",
           "showlegend": false,
           "textposition": "auto",
           "type": "bar",
           "x": [
            53901.1,
            55314.1,
            57792.1,
            64109.4,
            78289.6,
            80256.8,
            99419.1,
            129133.9,
            136096.4,
            234674.1
           ],
           "xaxis": "x",
           "y": [
            "Veolia Environnement",
            "Renault",
            "Groupe Auchan",
            "Compagnie de Saint-Gobain",
            "Orange",
            "AXA",
            "Engie",
            "Carrefour",
            "BNP Paribas",
            "TotalEnergies"
           ],
           "yaxis": "y"
          }
         ],
         "name": "2009"
        },
        {
         "data": [
          {
           "alignmentgroup": "True",
           "hovertemplate": "Year=2010<br>Revenues in $M=%{x}<br>Company=%{y}<extra></extra>",
           "ids": [
            "Veolia Environnement",
            "Compagnie de Saint-Gobain",
            "Groupe Auchan",
            "CNP Assurances",
            "Groupe BPCE",
            "Engie",
            "Carrefour",
            "BNP Paribas",
            "TotalEnergies",
            "AXA"
           ],
           "legendgroup": "",
           "marker": {
            "color": "#636efa",
            "pattern": {
             "shape": ""
            }
           },
           "name": "",
           "offsetgroup": "",
           "orientation": "h",
           "showlegend": false,
           "textposition": "auto",
           "type": "bar",
           "x": [
            49142,
            52520.7,
            55140.7,
            66555.7,
            76463.9,
            111068.6,
            121452.5,
            130708.1,
            155887.1,
            175257.4
           ],
           "xaxis": "x",
           "y": [
            "Veolia Environnement",
            "Compagnie de Saint-Gobain",
            "Groupe Auchan",
            "CNP Assurances",
            "Groupe BPCE",
            "Engie",
            "Carrefour",
            "BNP Paribas",
            "TotalEnergies",
            "AXA"
           ],
           "yaxis": "y"
          }
         ],
         "name": "2010"
        },
        {
         "data": [
          {
           "alignmentgroup": "True",
           "hovertemplate": "Year=2011<br>Revenues in $M=%{x}<br>Company=%{y}<extra></extra>",
           "ids": [
            "Renault",
            "Compagnie de Saint-Gobain",
            "Groupe Auchan",
            "CNP Assurances",
            "Groupe BPCE",
            "GDF Suez SA",
            "Carrefour",
            "BNP Paribas",
            "AXA",
            "TotalEnergies"
           ],
           "legendgroup": "",
           "marker": {
            "color": "#636efa",
            "pattern": {
             "shape": ""
            }
           },
           "name": "",
           "offsetgroup": "",
           "orientation": "h",
           "showlegend": false,
           "textposition": "auto",
           "type": "bar",
           "x": [
            51615.6,
            53136,
            56279,
            59319.7,
            69297.1,
            111887.8,
            120296.8,
            128725.7,
            162235.9,
            186055
           ],
           "xaxis": "x",
           "y": [
            "Renault",
            "Compagnie de Saint-Gobain",
            "Groupe Auchan",
            "CNP Assurances",
            "Groupe BPCE",
            "GDF Suez SA",
            "Carrefour",
            "BNP Paribas",
            "AXA",
            "TotalEnergies"
           ],
           "yaxis": "y"
          }
         ],
         "name": "2011"
        },
        {
         "data": [
          {
           "alignmentgroup": "True",
           "hovertemplate": "Year=2012<br>Revenues in $M=%{x}<br>Company=%{y}<extra></extra>",
           "ids": [
            "Compagnie de Saint-Gobain",
            "Renault",
            "Groupe Auchan",
            "Groupe BPCE",
            "Societe Generale",
            "Carrefour",
            "GDF Suez SA",
            "BNP Paribas",
            "AXA",
            "TotalEnergies"
           ],
           "legendgroup": "",
           "marker": {
            "color": "#636efa",
            "pattern": {
             "shape": ""
            }
           },
           "name": "",
           "offsetgroup": "",
           "orientation": "h",
           "showlegend": false,
           "textposition": "auto",
           "type": "bar",
           "x": [
            58560.3,
            59272.2,
            61698.5,
            75081.6,
            98463.5,
            121734.1,
            126076.5,
            127460,
            142711.8,
            231579.8
           ],
           "xaxis": "x",
           "y": [
            "Compagnie de Saint-Gobain",
            "Renault",
            "Groupe Auchan",
            "Groupe BPCE",
            "Societe Generale",
            "Carrefour",
            "GDF Suez SA",
            "BNP Paribas",
            "AXA",
            "TotalEnergies"
           ],
           "yaxis": "y"
          }
         ],
         "name": "2012"
        },
        {
         "data": [
          {
           "alignmentgroup": "True",
           "hovertemplate": "Year=2013<br>Revenues in $M=%{x}<br>Company=%{y}<extra></extra>",
           "ids": [
            "Groupe BPCE",
            "Peugeot",
            "Electricite de France",
            "Credit Nationale de Credit Agricole",
            "Societe Generale",
            "Carrefour",
            "BNP Paribas",
            "GDF Suez SA",
            "AXA",
            "TotalEnergies"
           ],
           "legendgroup": "",
           "marker": {
            "color": "#636efa",
            "pattern": {
             "shape": ""
            }
           },
           "name": "",
           "offsetgroup": "",
           "orientation": "h",
           "showlegend": false,
           "textposition": "auto",
           "type": "bar",
           "x": [
            66973.2,
            71255.2,
            93466.1,
            95181.7,
            105064.4,
            105996.1,
            123029.2,
            124706.2,
            154571.3,
            234277.5
           ],
           "xaxis": "x",
           "y": [
            "Groupe BPCE",
            "Peugeot",
            "Electricite de France",
            "Credit Nationale de Credit Agricole",
            "Societe Generale",
            "Carrefour",
            "BNP Paribas",
            "GDF Suez SA",
            "AXA",
            "TotalEnergies"
           ],
           "yaxis": "y"
          }
         ],
         "name": "2013"
        },
        {
         "data": [
          {
           "alignmentgroup": "True",
           "hovertemplate": "Year=2014<br>Revenues in $M=%{x}<br>Company=%{y}<extra></extra>",
           "ids": [
            "Groupe BPCE",
            "Peugeot",
            "Credit Agricole",
            "Electricite de France",
            "Carrefour",
            "Engie",
            "BNP Paribas",
            "Societe Generale",
            "AXA",
            "TotalEnergies"
           ],
           "legendgroup": "",
           "marker": {
            "color": "#636efa",
            "pattern": {
             "shape": ""
            }
           },
           "name": "",
           "offsetgroup": "",
           "orientation": "h",
           "showlegend": false,
           "textposition": "auto",
           "type": "bar",
           "x": [
            66428,
            71807,
            93618,
            100355,
            101790,
            118551,
            121939,
            132711,
            165893,
            227882
           ],
           "xaxis": "x",
           "y": [
            "Groupe BPCE",
            "Peugeot",
            "Credit Agricole",
            "Electricite de France",
            "Carrefour",
            "Engie",
            "BNP Paribas",
            "Societe Generale",
            "AXA",
            "TotalEnergies"
           ],
           "yaxis": "y"
          }
         ],
         "name": "2014"
        },
        {
         "data": [
          {
           "alignmentgroup": "True",
           "hovertemplate": "Year=2015<br>Revenues in $M=%{x}<br>Company=%{y}<extra></extra>",
           "ids": [
            "Groupe Auchan",
            "Peugeot",
            "Electricite de France",
            "Engie",
            "Carrefour",
            "Credit Agricole",
            "Societe Generale",
            "BNP Paribas",
            "AXA",
            "TotalEnergies"
           ],
           "legendgroup": "",
           "marker": {
            "color": "#636efa",
            "pattern": {
             "shape": ""
            }
           },
           "name": "",
           "offsetgroup": "",
           "orientation": "h",
           "showlegend": false,
           "textposition": "auto",
           "type": "bar",
           "x": [
            70908.3,
            71111.3,
            96669.5,
            99073.2,
            101238.1,
            106198,
            118232.3,
            124333,
            161173.4,
            212018
           ],
           "xaxis": "x",
           "y": [
            "Groupe Auchan",
            "Peugeot",
            "Electricite de France",
            "Engie",
            "Carrefour",
            "Credit Agricole",
            "Societe Generale",
            "BNP Paribas",
            "AXA",
            "TotalEnergies"
           ],
           "yaxis": "y"
          }
         ],
         "name": "2015"
        },
        {
         "data": [
          {
           "alignmentgroup": "True",
           "hovertemplate": "Year=2016<br>Revenues in $M=%{x}<br>Company=%{y}<extra></extra>",
           "ids": [
            "ELO Group",
            "Peugeot",
            "Engie",
            "Electricite de France",
            "Credit Agricole",
            "Carrefour",
            "Societe Generale",
            "BNP Paribas",
            "AXA",
            "TotalEnergies"
           ],
           "legendgroup": "",
           "marker": {
            "color": "#636efa",
            "pattern": {
             "shape": ""
            }
           },
           "name": "",
           "offsetgroup": "",
           "orientation": "h",
           "showlegend": false,
           "textposition": "auto",
           "type": "bar",
           "x": [
            60158,
            60651,
            77520,
            83202,
            84099,
            87474,
            107736,
            111531,
            129250,
            143421
           ],
           "xaxis": "x",
           "y": [
            "ELO Group",
            "Peugeot",
            "Engie",
            "Electricite de France",
            "Credit Agricole",
            "Carrefour",
            "Societe Generale",
            "BNP Paribas",
            "AXA",
            "TotalEnergies"
           ],
           "yaxis": "y"
          }
         ],
         "name": "2016"
        },
        {
         "data": [
          {
           "alignmentgroup": "True",
           "hovertemplate": "Year=2017<br>Revenues in $M=%{x}<br>Company=%{y}<extra></extra>",
           "ids": [
            "Peugeot",
            "Societe Generale",
            "Groupe BPCE",
            "Engie",
            "Electricite de France",
            "Credit Agricole",
            "Carrefour",
            "BNP Paribas",
            "TotalEnergies",
            "AXA"
           ],
           "legendgroup": "",
           "marker": {
            "color": "#636efa",
            "pattern": {
             "shape": ""
            }
           },
           "name": "",
           "offsetgroup": "",
           "orientation": "h",
           "showlegend": false,
           "textposition": "auto",
           "type": "bar",
           "x": [
            59749,
            69335,
            70517,
            73692,
            78740,
            80258,
            87112,
            109026,
            127925,
            143722
           ],
           "xaxis": "x",
           "y": [
            "Peugeot",
            "Societe Generale",
            "Groupe BPCE",
            "Engie",
            "Electricite de France",
            "Credit Agricole",
            "Carrefour",
            "BNP Paribas",
            "TotalEnergies",
            "AXA"
           ],
           "yaxis": "y"
          }
         ],
         "name": "2017"
        },
        {
         "data": [
          {
           "alignmentgroup": "True",
           "hovertemplate": "Year=2018<br>Revenues in $M=%{x}<br>Company=%{y}<extra></extra>",
           "ids": [
            "Renault",
            "Societe Generale",
            "Peugeot",
            "Engie",
            "Electricite de France",
            "Credit Agricole",
            "Carrefour",
            "BNP Paribas",
            "TotalEnergies",
            "AXA"
           ],
           "legendgroup": "",
           "marker": {
            "color": "#636efa",
            "pattern": {
             "shape": ""
            }
           },
           "name": "",
           "offsetgroup": "",
           "orientation": "h",
           "showlegend": false,
           "textposition": "auto",
           "type": "bar",
           "x": [
            66247,
            69948,
            73506,
            75279,
            78490,
            84222,
            91276,
            117375,
            149099,
            149461
           ],
           "xaxis": "x",
           "y": [
            "Renault",
            "Societe Generale",
            "Peugeot",
            "Engie",
            "Electricite de France",
            "Credit Agricole",
            "Carrefour",
            "BNP Paribas",
            "TotalEnergies",
            "AXA"
           ],
           "yaxis": "y"
          }
         ],
         "name": "2018"
        },
        {
         "data": [
          {
           "alignmentgroup": "True",
           "hovertemplate": "Year=2019<br>Revenues in $M=%{x}<br>Company=%{y}<extra></extra>",
           "ids": [
            "ELO Group",
            "Renault",
            "Engie",
            "Electricite de France",
            "BNP Paribas",
            "Peugeot",
            "Credit Agricole",
            "Carrefour",
            "AXA",
            "TotalEnergies"
           ],
           "legendgroup": "",
           "marker": {
            "color": "#636efa",
            "pattern": {
             "shape": ""
            }
           },
           "name": "",
           "offsetgroup": "",
           "orientation": "h",
           "showlegend": false,
           "textposition": "auto",
           "type": "bar",
           "x": [
            60749.2,
            67764.1,
            74144.1,
            81403.3,
            83973.7,
            87364.3,
            88325,
            91955.2,
            125578.2,
            184106
           ],
           "xaxis": "x",
           "y": [
            "ELO Group",
            "Renault",
            "Engie",
            "Electricite de France",
            "BNP Paribas",
            "Peugeot",
            "Credit Agricole",
            "Carrefour",
            "AXA",
            "TotalEnergies"
           ],
           "yaxis": "y"
          }
         ],
         "name": "2019"
        },
        {
         "data": [
          {
           "alignmentgroup": "True",
           "hovertemplate": "Year=2020<br>Revenues in $M=%{x}<br>Company=%{y}<extra></extra>",
           "ids": [
            "Christian Dior",
            "Renault",
            "Engie",
            "Electricite de France",
            "Peugeot",
            "BNP Paribas",
            "Carrefour",
            "Credit Agricole",
            "AXA",
            "TotalEnergies"
           ],
           "legendgroup": "",
           "marker": {
            "color": "#636efa",
            "pattern": {
             "shape": ""
            }
           },
           "name": "",
           "offsetgroup": "",
           "orientation": "h",
           "showlegend": false,
           "textposition": "auto",
           "type": "bar",
           "x": [
            60071,
            62160,
            67220,
            80278,
            83643,
            85058,
            85905,
            104972,
            148984,
            176249
           ],
           "xaxis": "x",
           "y": [
            "Christian Dior",
            "Renault",
            "Engie",
            "Electricite de France",
            "Peugeot",
            "BNP Paribas",
            "Carrefour",
            "Credit Agricole",
            "AXA",
            "TotalEnergies"
           ],
           "yaxis": "y"
          }
         ],
         "name": "2020"
        },
        {
         "data": [
          {
           "alignmentgroup": "True",
           "hovertemplate": "Year=2021<br>Revenues in $M=%{x}<br>Company=%{y}<extra></extra>",
           "ids": [
            "Vinci",
            "Christian Dior",
            "Societe Generale",
            "Engie",
            "Electricite de France",
            "BNP Paribas",
            "Carrefour",
            "Credit Agricole",
            "TotalEnergies",
            "AXA"
           ],
           "legendgroup": "",
           "marker": {
            "color": "#636efa",
            "pattern": {
             "shape": ""
            }
           },
           "name": "",
           "offsetgroup": "",
           "orientation": "h",
           "showlegend": false,
           "textposition": "auto",
           "type": "bar",
           "x": [
            50270.2,
            50877.6,
            52068.3,
            63525.4,
            78903.5,
            81632.4,
            82211.3,
            82958.8,
            119704,
            128011.4
           ],
           "xaxis": "x",
           "y": [
            "Vinci",
            "Christian Dior",
            "Societe Generale",
            "Engie",
            "Electricite de France",
            "BNP Paribas",
            "Carrefour",
            "Credit Agricole",
            "TotalEnergies",
            "AXA"
           ],
           "yaxis": "y"
          }
         ],
         "name": "2021"
        },
        {
         "data": [
          {
           "alignmentgroup": "True",
           "hovertemplate": "Year=2022<br>Revenues in $M=%{x}<br>Company=%{y}<extra></extra>",
           "ids": [
            "Societe Generale",
            "Vinci",
            "Christian Dior",
            "Engie",
            "BNP Paribas",
            "Carrefour",
            "Electricite de France",
            "Credit Agricole",
            "AXA",
            "TotalEnergies"
           ],
           "legendgroup": "",
           "marker": {
            "color": "#636efa",
            "pattern": {
             "shape": ""
            }
           },
           "name": "",
           "offsetgroup": "",
           "orientation": "h",
           "showlegend": false,
           "textposition": "auto",
           "type": "bar",
           "x": [
            59057.5,
            59388.6,
            75923.5,
            83621.7,
            85300.6,
            87830.8,
            99861,
            107695.2,
            144446.8,
            184634
           ],
           "xaxis": "x",
           "y": [
            "Societe Generale",
            "Vinci",
            "Christian Dior",
            "Engie",
            "BNP Paribas",
            "Carrefour",
            "Electricite de France",
            "Credit Agricole",
            "AXA",
            "TotalEnergies"
           ],
           "yaxis": "y"
          }
         ],
         "name": "2022"
        },
        {
         "data": [
          {
           "alignmentgroup": "True",
           "hovertemplate": "Year=2023<br>Revenues in $M=%{x}<br>Company=%{y}<extra></extra>",
           "ids": [
            "Societe Generale",
            "Vinci",
            "Christian Dior",
            "Credit Agricole",
            "BNP Paribas",
            "Carrefour",
            "AXA",
            "Engie",
            "Electricite de France",
            "TotalEnergies"
           ],
           "legendgroup": "",
           "marker": {
            "color": "#636efa",
            "pattern": {
             "shape": ""
            }
           },
           "name": "",
           "offsetgroup": "",
           "orientation": "h",
           "showlegend": false,
           "textposition": "auto",
           "type": "bar",
           "x": [
            63416.8,
            65749.6,
            83282.5,
            86471.4,
            89563.6,
            90062.1,
            109067.4,
            109174.7,
            150902.1,
            263310
           ],
           "xaxis": "x",
           "y": [
            "Societe Generale",
            "Vinci",
            "Christian Dior",
            "Credit Agricole",
            "BNP Paribas",
            "Carrefour",
            "AXA",
            "Engie",
            "Electricite de France",
            "TotalEnergies"
           ],
           "yaxis": "y"
          }
         ],
         "name": "2023"
        }
       ],
       "layout": {
        "barmode": "relative",
        "height": 600,
        "images": [
         {
          "layer": "below",
          "opacity": 1,
          "sizex": 0.1,
          "sizey": 0.1,
          "source": "C:\\Users\\soula\\Desktop\\Projects\\Race_chart\\Logos\\Carrefour.png",
          "x": 0,
          "xanchor": "left",
          "xref": "x",
          "y": 19,
          "yanchor": "middle",
          "yref": "y"
         },
         {
          "layer": "below",
          "opacity": 1,
          "sizex": 0.1,
          "sizey": 0.1,
          "source": "C:\\Users\\soula\\Desktop\\Projects\\Race_chart\\Logos\\AXA.png",
          "x": 0,
          "xanchor": "left",
          "xref": "x",
          "y": 26,
          "yanchor": "middle",
          "yref": "y"
         },
         {
          "layer": "below",
          "opacity": 1,
          "sizex": 0.1,
          "sizey": 0.1,
          "source": "C:\\Users\\soula\\Desktop\\Projects\\Race_chart\\Logos\\TotalEnergies.png",
          "x": 0,
          "xanchor": "left",
          "xref": "x",
          "y": 9,
          "yanchor": "middle",
          "yref": "y"
         },
         {
          "layer": "below",
          "opacity": 1,
          "sizex": 0.1,
          "sizey": 0.1,
          "source": "C:\\Users\\soula\\Desktop\\Projects\\Race_chart\\Logos\\BNP_Paribas.png",
          "x": 0,
          "xanchor": "left",
          "xref": "x",
          "y": 55,
          "yanchor": "middle",
          "yref": "y"
         },
         {
          "layer": "below",
          "opacity": 1,
          "sizex": 0.1,
          "sizey": 0.1,
          "source": "C:\\Users\\soula\\Desktop\\Projects\\Race_chart\\Logos\\Renault.png",
          "x": 0,
          "xanchor": "left",
          "xref": "x",
          "y": 2,
          "yanchor": "middle",
          "yref": "y"
         },
         {
          "layer": "below",
          "opacity": 1,
          "sizex": 0.1,
          "sizey": 0.1,
          "source": "C:\\Users\\soula\\Desktop\\Projects\\Race_chart\\Logos\\EDF.png",
          "x": 0,
          "xanchor": "left",
          "xref": "x",
          "y": 32,
          "yanchor": "middle",
          "yref": "y"
         },
         {
          "layer": "below",
          "opacity": 1,
          "sizex": 0.1,
          "sizey": 0.1,
          "source": "C:\\Users\\soula\\Desktop\\Projects\\Race_chart\\Logos\\Peugeot.png",
          "x": 0,
          "xanchor": "left",
          "xref": "x",
          "y": 4,
          "yanchor": "middle",
          "yref": "y"
         },
         {
          "layer": "below",
          "opacity": 1,
          "sizex": 0.1,
          "sizey": 0.1,
          "source": "C:\\Users\\soula\\Desktop\\Projects\\Race_chart\\Logos\\Engie.png",
          "x": 0,
          "xanchor": "left",
          "xref": "x",
          "y": 143,
          "yanchor": "middle",
          "yref": "y"
         },
         {
          "layer": "below",
          "opacity": 1,
          "sizex": 0.1,
          "sizey": 0.1,
          "source": "C:\\Users\\soula\\Desktop\\Projects\\Race_chart\\Logos\\Credit_Agricole.png",
          "x": 0,
          "xanchor": "left",
          "xref": "x",
          "y": 6,
          "yanchor": "middle",
          "yref": "y"
         },
         {
          "layer": "below",
          "opacity": 1,
          "sizex": 0.1,
          "sizey": 0.1,
          "source": "C:\\Users\\soula\\Desktop\\Projects\\Race_chart\\Logos\\Societe_Generale.png",
          "x": 0,
          "xanchor": "left",
          "xref": "x",
          "y": 49,
          "yanchor": "middle",
          "yref": "y"
         },
         {
          "layer": "below",
          "opacity": 1,
          "sizex": 0.1,
          "sizey": 0.1,
          "source": "C:\\Users\\soula\\Desktop\\Projects\\Race_chart\\Logos\\Compagnie_de_Saint_Gobain.png",
          "x": 0,
          "xanchor": "left",
          "xref": "x",
          "y": 99,
          "yanchor": "middle",
          "yref": "y"
         },
         {
          "layer": "below",
          "opacity": 1,
          "sizex": 0.1,
          "sizey": 0.1,
          "source": "C:\\Users\\soula\\Desktop\\Projects\\Race_chart\\Logos\\Suez.png",
          "x": 0,
          "xanchor": "left",
          "xref": "x",
          "y": 67,
          "yanchor": "middle",
          "yref": "y"
         },
         {
          "layer": "below",
          "opacity": 1,
          "sizex": 0.1,
          "sizey": 0.1,
          "source": "C:\\Users\\soula\\Desktop\\Projects\\Race_chart\\Logos\\Groupe_Auchan.png",
          "x": 0,
          "xanchor": "left",
          "xref": "x",
          "y": 119,
          "yanchor": "middle",
          "yref": "y"
         },
         {
          "layer": "below",
          "opacity": 1,
          "sizex": 0.1,
          "sizey": 0.1,
          "source": "C:\\Users\\soula\\Desktop\\Projects\\Race_chart\\Logos\\Credit_Agricole.png",
          "x": 0,
          "xanchor": "left",
          "xref": "x",
          "y": 15,
          "yanchor": "middle",
          "yref": "y"
         },
         {
          "layer": "below",
          "opacity": 1,
          "sizex": 0.1,
          "sizey": 0.1,
          "source": "C:\\Users\\soula\\Desktop\\Projects\\Race_chart\\Logos\\Credit_Agricole.png",
          "x": 0,
          "xanchor": "left",
          "xref": "x",
          "y": 78,
          "yanchor": "middle",
          "yref": "y"
         },
         {
          "layer": "below",
          "opacity": 1,
          "sizex": 0.1,
          "sizey": 0.1,
          "source": "C:\\Users\\soula\\Desktop\\Projects\\Race_chart\\Logos\\CNP.png",
          "x": 0,
          "xanchor": "left",
          "xref": "x",
          "y": 117,
          "yanchor": "middle",
          "yref": "y"
         },
         {
          "layer": "below",
          "opacity": 1,
          "sizex": 0.1,
          "sizey": 0.1,
          "source": "C:\\Users\\soula\\Desktop\\Projects\\Race_chart\\Logos\\France_telecome.png",
          "x": 0,
          "xanchor": "left",
          "xref": "x",
          "y": 8,
          "yanchor": "middle",
          "yref": "y"
         },
         {
          "layer": "below",
          "opacity": 1,
          "sizex": 0.1,
          "sizey": 0.1,
          "source": "C:\\Users\\soula\\Desktop\\Projects\\Race_chart\\Logos\\Christian_Dior.png",
          "x": 0,
          "xanchor": "left",
          "xref": "x",
          "y": 259,
          "yanchor": "middle",
          "yref": "y"
         },
         {
          "layer": "below",
          "opacity": 1,
          "sizex": 0.1,
          "sizey": 0.1,
          "source": "C:\\Users\\soula\\Desktop\\Projects\\Race_chart\\Logos\\Violia.png",
          "x": 0,
          "xanchor": "left",
          "xref": "x",
          "y": 129,
          "yanchor": "middle",
          "yref": "y"
         },
         {
          "layer": "below",
          "opacity": 1,
          "sizex": 0.1,
          "sizey": 0.1,
          "source": "C:\\Users\\soula\\Desktop\\Projects\\Race_chart\\Logos\\TotalEnergies.png",
          "x": 0,
          "xanchor": "left",
          "xref": "x",
          "y": 51,
          "yanchor": "middle",
          "yref": "y"
         },
         {
          "layer": "below",
          "opacity": 1,
          "sizex": 0.1,
          "sizey": 0.1,
          "source": "C:\\Users\\soula\\Desktop\\Projects\\Race_chart\\Logos\\Vivendi_uni.png",
          "x": 0,
          "xanchor": "left",
          "xref": "x",
          "y": 45,
          "yanchor": "middle",
          "yref": "y"
         },
         {
          "layer": "below",
          "opacity": 1,
          "sizex": 0.1,
          "sizey": 0.1,
          "source": "C:\\Users\\soula\\Desktop\\Projects\\Race_chart\\Logos\\UAP.png",
          "x": 0,
          "xanchor": "left",
          "xref": "x",
          "y": 1,
          "yanchor": "middle",
          "yref": "y"
         },
         {
          "layer": "below",
          "opacity": 1,
          "sizex": 0.1,
          "sizey": 0.1,
          "source": "C:\\Users\\soula\\Desktop\\Projects\\Race_chart\\Logos\\Suez_eaux_Lyonaise.png",
          "x": 0,
          "xanchor": "left",
          "xref": "x",
          "y": 36,
          "yanchor": "middle",
          "yref": "y"
         },
         {
          "layer": "below",
          "opacity": 1,
          "sizex": 0.1,
          "sizey": 0.1,
          "source": "C:\\Users\\soula\\Desktop\\Projects\\Race_chart\\Logos\\Compagnie_Generale_des_Eaux.png",
          "x": 0,
          "xanchor": "left",
          "xref": "x",
          "y": 5,
          "yanchor": "middle",
          "yref": "y"
         },
         {
          "layer": "below",
          "opacity": 1,
          "sizex": 0.1,
          "sizey": 0.1,
          "source": "C:\\Users\\soula\\Desktop\\Projects\\Race_chart\\Logos\\Vinci.png",
          "x": 0,
          "xanchor": "left",
          "xref": "x",
          "y": 269,
          "yanchor": "middle",
          "yref": "y"
         },
         {
          "layer": "below",
          "opacity": 1,
          "sizex": 0.1,
          "sizey": 0.1,
          "source": "C:\\Users\\soula\\Desktop\\Projects\\Race_chart\\Logos\\Orange.png",
          "x": 0,
          "xanchor": "left",
          "xref": "x",
          "y": 114,
          "yanchor": "middle",
          "yref": "y"
         },
         {
          "layer": "below",
          "opacity": 1,
          "sizex": 0.1,
          "sizey": 0.1,
          "source": "C:\\Users\\soula\\Desktop\\Projects\\Race_chart\\Logos\\Gan.png",
          "x": 0,
          "xanchor": "left",
          "xref": "x",
          "y": 17,
          "yanchor": "middle",
          "yref": "y"
         },
         {
          "layer": "below",
          "opacity": 1,
          "sizex": 0.1,
          "sizey": 0.1,
          "source": "C:\\Users\\soula\\Desktop\\Projects\\Race_chart\\Logos\\ELO.png",
          "x": 0,
          "xanchor": "left",
          "xref": "x",
          "y": 219,
          "yanchor": "middle",
          "yref": "y"
         },
         {
          "layer": "below",
          "opacity": 1,
          "sizex": 0.1,
          "sizey": 0.1,
          "source": "C:\\Users\\soula\\Desktop\\Projects\\Race_chart\\Logos\\PSA.png",
          "x": 0,
          "xanchor": "left",
          "xref": "x",
          "y": 134,
          "yanchor": "middle",
          "yref": "y"
         },
         {
          "layer": "below",
          "opacity": 1,
          "sizex": 0.1,
          "sizey": 0.1,
          "source": "C:\\Users\\soula\\Desktop\\Projects\\Race_chart\\Logos\\Caisse_d_epatgne.png",
          "x": 0,
          "xanchor": "left",
          "xref": "x",
          "y": 139,
          "yanchor": "middle",
          "yref": "y"
         },
         {
          "layer": "below",
          "opacity": 1,
          "sizex": 0.1,
          "sizey": 0.1,
          "source": "C:\\Users\\soula\\Desktop\\Projects\\Race_chart\\Logos\\Credit_Lyonais.png",
          "x": 0,
          "xanchor": "left",
          "xref": "x",
          "y": 7,
          "yanchor": "middle",
          "yref": "y"
         }
        ],
        "legend": {
         "tracegroupgap": 0
        },
        "sliders": [
         {
          "active": 0,
          "currentvalue": {
           "prefix": "Year="
          },
          "len": 0.9,
          "pad": {
           "b": 10,
           "t": 60
          },
          "steps": [
           {
            "args": [
             [
              "1995"
             ],
             {
              "frame": {
               "duration": 0,
               "redraw": true
              },
              "fromcurrent": true,
              "mode": "immediate",
              "transition": {
               "duration": 0,
               "easing": "linear"
              }
             }
            ],
            "label": "1995",
            "method": "animate"
           },
           {
            "args": [
             [
              "1996"
             ],
             {
              "frame": {
               "duration": 0,
               "redraw": true
              },
              "fromcurrent": true,
              "mode": "immediate",
              "transition": {
               "duration": 0,
               "easing": "linear"
              }
             }
            ],
            "label": "1996",
            "method": "animate"
           },
           {
            "args": [
             [
              "1997"
             ],
             {
              "frame": {
               "duration": 0,
               "redraw": true
              },
              "fromcurrent": true,
              "mode": "immediate",
              "transition": {
               "duration": 0,
               "easing": "linear"
              }
             }
            ],
            "label": "1997",
            "method": "animate"
           },
           {
            "args": [
             [
              "1998"
             ],
             {
              "frame": {
               "duration": 0,
               "redraw": true
              },
              "fromcurrent": true,
              "mode": "immediate",
              "transition": {
               "duration": 0,
               "easing": "linear"
              }
             }
            ],
            "label": "1998",
            "method": "animate"
           },
           {
            "args": [
             [
              "1999"
             ],
             {
              "frame": {
               "duration": 0,
               "redraw": true
              },
              "fromcurrent": true,
              "mode": "immediate",
              "transition": {
               "duration": 0,
               "easing": "linear"
              }
             }
            ],
            "label": "1999",
            "method": "animate"
           },
           {
            "args": [
             [
              "2000"
             ],
             {
              "frame": {
               "duration": 0,
               "redraw": true
              },
              "fromcurrent": true,
              "mode": "immediate",
              "transition": {
               "duration": 0,
               "easing": "linear"
              }
             }
            ],
            "label": "2000",
            "method": "animate"
           },
           {
            "args": [
             [
              "2001"
             ],
             {
              "frame": {
               "duration": 0,
               "redraw": true
              },
              "fromcurrent": true,
              "mode": "immediate",
              "transition": {
               "duration": 0,
               "easing": "linear"
              }
             }
            ],
            "label": "2001",
            "method": "animate"
           },
           {
            "args": [
             [
              "2002"
             ],
             {
              "frame": {
               "duration": 0,
               "redraw": true
              },
              "fromcurrent": true,
              "mode": "immediate",
              "transition": {
               "duration": 0,
               "easing": "linear"
              }
             }
            ],
            "label": "2002",
            "method": "animate"
           },
           {
            "args": [
             [
              "2003"
             ],
             {
              "frame": {
               "duration": 0,
               "redraw": true
              },
              "fromcurrent": true,
              "mode": "immediate",
              "transition": {
               "duration": 0,
               "easing": "linear"
              }
             }
            ],
            "label": "2003",
            "method": "animate"
           },
           {
            "args": [
             [
              "2004"
             ],
             {
              "frame": {
               "duration": 0,
               "redraw": true
              },
              "fromcurrent": true,
              "mode": "immediate",
              "transition": {
               "duration": 0,
               "easing": "linear"
              }
             }
            ],
            "label": "2004",
            "method": "animate"
           },
           {
            "args": [
             [
              "2005"
             ],
             {
              "frame": {
               "duration": 0,
               "redraw": true
              },
              "fromcurrent": true,
              "mode": "immediate",
              "transition": {
               "duration": 0,
               "easing": "linear"
              }
             }
            ],
            "label": "2005",
            "method": "animate"
           },
           {
            "args": [
             [
              "2006"
             ],
             {
              "frame": {
               "duration": 0,
               "redraw": true
              },
              "fromcurrent": true,
              "mode": "immediate",
              "transition": {
               "duration": 0,
               "easing": "linear"
              }
             }
            ],
            "label": "2006",
            "method": "animate"
           },
           {
            "args": [
             [
              "2007"
             ],
             {
              "frame": {
               "duration": 0,
               "redraw": true
              },
              "fromcurrent": true,
              "mode": "immediate",
              "transition": {
               "duration": 0,
               "easing": "linear"
              }
             }
            ],
            "label": "2007",
            "method": "animate"
           },
           {
            "args": [
             [
              "2008"
             ],
             {
              "frame": {
               "duration": 0,
               "redraw": true
              },
              "fromcurrent": true,
              "mode": "immediate",
              "transition": {
               "duration": 0,
               "easing": "linear"
              }
             }
            ],
            "label": "2008",
            "method": "animate"
           },
           {
            "args": [
             [
              "2009"
             ],
             {
              "frame": {
               "duration": 0,
               "redraw": true
              },
              "fromcurrent": true,
              "mode": "immediate",
              "transition": {
               "duration": 0,
               "easing": "linear"
              }
             }
            ],
            "label": "2009",
            "method": "animate"
           },
           {
            "args": [
             [
              "2010"
             ],
             {
              "frame": {
               "duration": 0,
               "redraw": true
              },
              "fromcurrent": true,
              "mode": "immediate",
              "transition": {
               "duration": 0,
               "easing": "linear"
              }
             }
            ],
            "label": "2010",
            "method": "animate"
           },
           {
            "args": [
             [
              "2011"
             ],
             {
              "frame": {
               "duration": 0,
               "redraw": true
              },
              "fromcurrent": true,
              "mode": "immediate",
              "transition": {
               "duration": 0,
               "easing": "linear"
              }
             }
            ],
            "label": "2011",
            "method": "animate"
           },
           {
            "args": [
             [
              "2012"
             ],
             {
              "frame": {
               "duration": 0,
               "redraw": true
              },
              "fromcurrent": true,
              "mode": "immediate",
              "transition": {
               "duration": 0,
               "easing": "linear"
              }
             }
            ],
            "label": "2012",
            "method": "animate"
           },
           {
            "args": [
             [
              "2013"
             ],
             {
              "frame": {
               "duration": 0,
               "redraw": true
              },
              "fromcurrent": true,
              "mode": "immediate",
              "transition": {
               "duration": 0,
               "easing": "linear"
              }
             }
            ],
            "label": "2013",
            "method": "animate"
           },
           {
            "args": [
             [
              "2014"
             ],
             {
              "frame": {
               "duration": 0,
               "redraw": true
              },
              "fromcurrent": true,
              "mode": "immediate",
              "transition": {
               "duration": 0,
               "easing": "linear"
              }
             }
            ],
            "label": "2014",
            "method": "animate"
           },
           {
            "args": [
             [
              "2015"
             ],
             {
              "frame": {
               "duration": 0,
               "redraw": true
              },
              "fromcurrent": true,
              "mode": "immediate",
              "transition": {
               "duration": 0,
               "easing": "linear"
              }
             }
            ],
            "label": "2015",
            "method": "animate"
           },
           {
            "args": [
             [
              "2016"
             ],
             {
              "frame": {
               "duration": 0,
               "redraw": true
              },
              "fromcurrent": true,
              "mode": "immediate",
              "transition": {
               "duration": 0,
               "easing": "linear"
              }
             }
            ],
            "label": "2016",
            "method": "animate"
           },
           {
            "args": [
             [
              "2017"
             ],
             {
              "frame": {
               "duration": 0,
               "redraw": true
              },
              "fromcurrent": true,
              "mode": "immediate",
              "transition": {
               "duration": 0,
               "easing": "linear"
              }
             }
            ],
            "label": "2017",
            "method": "animate"
           },
           {
            "args": [
             [
              "2018"
             ],
             {
              "frame": {
               "duration": 0,
               "redraw": true
              },
              "fromcurrent": true,
              "mode": "immediate",
              "transition": {
               "duration": 0,
               "easing": "linear"
              }
             }
            ],
            "label": "2018",
            "method": "animate"
           },
           {
            "args": [
             [
              "2019"
             ],
             {
              "frame": {
               "duration": 0,
               "redraw": true
              },
              "fromcurrent": true,
              "mode": "immediate",
              "transition": {
               "duration": 0,
               "easing": "linear"
              }
             }
            ],
            "label": "2019",
            "method": "animate"
           },
           {
            "args": [
             [
              "2020"
             ],
             {
              "frame": {
               "duration": 0,
               "redraw": true
              },
              "fromcurrent": true,
              "mode": "immediate",
              "transition": {
               "duration": 0,
               "easing": "linear"
              }
             }
            ],
            "label": "2020",
            "method": "animate"
           },
           {
            "args": [
             [
              "2021"
             ],
             {
              "frame": {
               "duration": 0,
               "redraw": true
              },
              "fromcurrent": true,
              "mode": "immediate",
              "transition": {
               "duration": 0,
               "easing": "linear"
              }
             }
            ],
            "label": "2021",
            "method": "animate"
           },
           {
            "args": [
             [
              "2022"
             ],
             {
              "frame": {
               "duration": 0,
               "redraw": true
              },
              "fromcurrent": true,
              "mode": "immediate",
              "transition": {
               "duration": 0,
               "easing": "linear"
              }
             }
            ],
            "label": "2022",
            "method": "animate"
           },
           {
            "args": [
             [
              "2023"
             ],
             {
              "frame": {
               "duration": 0,
               "redraw": true
              },
              "fromcurrent": true,
              "mode": "immediate",
              "transition": {
               "duration": 0,
               "easing": "linear"
              }
             }
            ],
            "label": "2023",
            "method": "animate"
           }
          ],
          "x": 0.1,
          "xanchor": "left",
          "y": 0,
          "yanchor": "top"
         }
        ],
        "template": {
         "data": {
          "bar": [
           {
            "error_x": {
             "color": "#2a3f5f"
            },
            "error_y": {
             "color": "#2a3f5f"
            },
            "marker": {
             "line": {
              "color": "white",
              "width": 0.5
             },
             "pattern": {
              "fillmode": "overlay",
              "size": 10,
              "solidity": 0.2
             }
            },
            "type": "bar"
           }
          ],
          "barpolar": [
           {
            "marker": {
             "line": {
              "color": "white",
              "width": 0.5
             },
             "pattern": {
              "fillmode": "overlay",
              "size": 10,
              "solidity": 0.2
             }
            },
            "type": "barpolar"
           }
          ],
          "carpet": [
           {
            "aaxis": {
             "endlinecolor": "#2a3f5f",
             "gridcolor": "#C8D4E3",
             "linecolor": "#C8D4E3",
             "minorgridcolor": "#C8D4E3",
             "startlinecolor": "#2a3f5f"
            },
            "baxis": {
             "endlinecolor": "#2a3f5f",
             "gridcolor": "#C8D4E3",
             "linecolor": "#C8D4E3",
             "minorgridcolor": "#C8D4E3",
             "startlinecolor": "#2a3f5f"
            },
            "type": "carpet"
           }
          ],
          "choropleth": [
           {
            "colorbar": {
             "outlinewidth": 0,
             "ticks": ""
            },
            "type": "choropleth"
           }
          ],
          "contour": [
           {
            "colorbar": {
             "outlinewidth": 0,
             "ticks": ""
            },
            "colorscale": [
             [
              0,
              "#0d0887"
             ],
             [
              0.1111111111111111,
              "#46039f"
             ],
             [
              0.2222222222222222,
              "#7201a8"
             ],
             [
              0.3333333333333333,
              "#9c179e"
             ],
             [
              0.4444444444444444,
              "#bd3786"
             ],
             [
              0.5555555555555556,
              "#d8576b"
             ],
             [
              0.6666666666666666,
              "#ed7953"
             ],
             [
              0.7777777777777778,
              "#fb9f3a"
             ],
             [
              0.8888888888888888,
              "#fdca26"
             ],
             [
              1,
              "#f0f921"
             ]
            ],
            "type": "contour"
           }
          ],
          "contourcarpet": [
           {
            "colorbar": {
             "outlinewidth": 0,
             "ticks": ""
            },
            "type": "contourcarpet"
           }
          ],
          "heatmap": [
           {
            "colorbar": {
             "outlinewidth": 0,
             "ticks": ""
            },
            "colorscale": [
             [
              0,
              "#0d0887"
             ],
             [
              0.1111111111111111,
              "#46039f"
             ],
             [
              0.2222222222222222,
              "#7201a8"
             ],
             [
              0.3333333333333333,
              "#9c179e"
             ],
             [
              0.4444444444444444,
              "#bd3786"
             ],
             [
              0.5555555555555556,
              "#d8576b"
             ],
             [
              0.6666666666666666,
              "#ed7953"
             ],
             [
              0.7777777777777778,
              "#fb9f3a"
             ],
             [
              0.8888888888888888,
              "#fdca26"
             ],
             [
              1,
              "#f0f921"
             ]
            ],
            "type": "heatmap"
           }
          ],
          "heatmapgl": [
           {
            "colorbar": {
             "outlinewidth": 0,
             "ticks": ""
            },
            "colorscale": [
             [
              0,
              "#0d0887"
             ],
             [
              0.1111111111111111,
              "#46039f"
             ],
             [
              0.2222222222222222,
              "#7201a8"
             ],
             [
              0.3333333333333333,
              "#9c179e"
             ],
             [
              0.4444444444444444,
              "#bd3786"
             ],
             [
              0.5555555555555556,
              "#d8576b"
             ],
             [
              0.6666666666666666,
              "#ed7953"
             ],
             [
              0.7777777777777778,
              "#fb9f3a"
             ],
             [
              0.8888888888888888,
              "#fdca26"
             ],
             [
              1,
              "#f0f921"
             ]
            ],
            "type": "heatmapgl"
           }
          ],
          "histogram": [
           {
            "marker": {
             "pattern": {
              "fillmode": "overlay",
              "size": 10,
              "solidity": 0.2
             }
            },
            "type": "histogram"
           }
          ],
          "histogram2d": [
           {
            "colorbar": {
             "outlinewidth": 0,
             "ticks": ""
            },
            "colorscale": [
             [
              0,
              "#0d0887"
             ],
             [
              0.1111111111111111,
              "#46039f"
             ],
             [
              0.2222222222222222,
              "#7201a8"
             ],
             [
              0.3333333333333333,
              "#9c179e"
             ],
             [
              0.4444444444444444,
              "#bd3786"
             ],
             [
              0.5555555555555556,
              "#d8576b"
             ],
             [
              0.6666666666666666,
              "#ed7953"
             ],
             [
              0.7777777777777778,
              "#fb9f3a"
             ],
             [
              0.8888888888888888,
              "#fdca26"
             ],
             [
              1,
              "#f0f921"
             ]
            ],
            "type": "histogram2d"
           }
          ],
          "histogram2dcontour": [
           {
            "colorbar": {
             "outlinewidth": 0,
             "ticks": ""
            },
            "colorscale": [
             [
              0,
              "#0d0887"
             ],
             [
              0.1111111111111111,
              "#46039f"
             ],
             [
              0.2222222222222222,
              "#7201a8"
             ],
             [
              0.3333333333333333,
              "#9c179e"
             ],
             [
              0.4444444444444444,
              "#bd3786"
             ],
             [
              0.5555555555555556,
              "#d8576b"
             ],
             [
              0.6666666666666666,
              "#ed7953"
             ],
             [
              0.7777777777777778,
              "#fb9f3a"
             ],
             [
              0.8888888888888888,
              "#fdca26"
             ],
             [
              1,
              "#f0f921"
             ]
            ],
            "type": "histogram2dcontour"
           }
          ],
          "mesh3d": [
           {
            "colorbar": {
             "outlinewidth": 0,
             "ticks": ""
            },
            "type": "mesh3d"
           }
          ],
          "parcoords": [
           {
            "line": {
             "colorbar": {
              "outlinewidth": 0,
              "ticks": ""
             }
            },
            "type": "parcoords"
           }
          ],
          "pie": [
           {
            "automargin": true,
            "type": "pie"
           }
          ],
          "scatter": [
           {
            "fillpattern": {
             "fillmode": "overlay",
             "size": 10,
             "solidity": 0.2
            },
            "type": "scatter"
           }
          ],
          "scatter3d": [
           {
            "line": {
             "colorbar": {
              "outlinewidth": 0,
              "ticks": ""
             }
            },
            "marker": {
             "colorbar": {
              "outlinewidth": 0,
              "ticks": ""
             }
            },
            "type": "scatter3d"
           }
          ],
          "scattercarpet": [
           {
            "marker": {
             "colorbar": {
              "outlinewidth": 0,
              "ticks": ""
             }
            },
            "type": "scattercarpet"
           }
          ],
          "scattergeo": [
           {
            "marker": {
             "colorbar": {
              "outlinewidth": 0,
              "ticks": ""
             }
            },
            "type": "scattergeo"
           }
          ],
          "scattergl": [
           {
            "marker": {
             "colorbar": {
              "outlinewidth": 0,
              "ticks": ""
             }
            },
            "type": "scattergl"
           }
          ],
          "scattermapbox": [
           {
            "marker": {
             "colorbar": {
              "outlinewidth": 0,
              "ticks": ""
             }
            },
            "type": "scattermapbox"
           }
          ],
          "scatterpolar": [
           {
            "marker": {
             "colorbar": {
              "outlinewidth": 0,
              "ticks": ""
             }
            },
            "type": "scatterpolar"
           }
          ],
          "scatterpolargl": [
           {
            "marker": {
             "colorbar": {
              "outlinewidth": 0,
              "ticks": ""
             }
            },
            "type": "scatterpolargl"
           }
          ],
          "scatterternary": [
           {
            "marker": {
             "colorbar": {
              "outlinewidth": 0,
              "ticks": ""
             }
            },
            "type": "scatterternary"
           }
          ],
          "surface": [
           {
            "colorbar": {
             "outlinewidth": 0,
             "ticks": ""
            },
            "colorscale": [
             [
              0,
              "#0d0887"
             ],
             [
              0.1111111111111111,
              "#46039f"
             ],
             [
              0.2222222222222222,
              "#7201a8"
             ],
             [
              0.3333333333333333,
              "#9c179e"
             ],
             [
              0.4444444444444444,
              "#bd3786"
             ],
             [
              0.5555555555555556,
              "#d8576b"
             ],
             [
              0.6666666666666666,
              "#ed7953"
             ],
             [
              0.7777777777777778,
              "#fb9f3a"
             ],
             [
              0.8888888888888888,
              "#fdca26"
             ],
             [
              1,
              "#f0f921"
             ]
            ],
            "type": "surface"
           }
          ],
          "table": [
           {
            "cells": {
             "fill": {
              "color": "#EBF0F8"
             },
             "line": {
              "color": "white"
             }
            },
            "header": {
             "fill": {
              "color": "#C8D4E3"
             },
             "line": {
              "color": "white"
             }
            },
            "type": "table"
           }
          ]
         },
         "layout": {
          "annotationdefaults": {
           "arrowcolor": "#2a3f5f",
           "arrowhead": 0,
           "arrowwidth": 1
          },
          "autotypenumbers": "strict",
          "coloraxis": {
           "colorbar": {
            "outlinewidth": 0,
            "ticks": ""
           }
          },
          "colorscale": {
           "diverging": [
            [
             0,
             "#8e0152"
            ],
            [
             0.1,
             "#c51b7d"
            ],
            [
             0.2,
             "#de77ae"
            ],
            [
             0.3,
             "#f1b6da"
            ],
            [
             0.4,
             "#fde0ef"
            ],
            [
             0.5,
             "#f7f7f7"
            ],
            [
             0.6,
             "#e6f5d0"
            ],
            [
             0.7,
             "#b8e186"
            ],
            [
             0.8,
             "#7fbc41"
            ],
            [
             0.9,
             "#4d9221"
            ],
            [
             1,
             "#276419"
            ]
           ],
           "sequential": [
            [
             0,
             "#0d0887"
            ],
            [
             0.1111111111111111,
             "#46039f"
            ],
            [
             0.2222222222222222,
             "#7201a8"
            ],
            [
             0.3333333333333333,
             "#9c179e"
            ],
            [
             0.4444444444444444,
             "#bd3786"
            ],
            [
             0.5555555555555556,
             "#d8576b"
            ],
            [
             0.6666666666666666,
             "#ed7953"
            ],
            [
             0.7777777777777778,
             "#fb9f3a"
            ],
            [
             0.8888888888888888,
             "#fdca26"
            ],
            [
             1,
             "#f0f921"
            ]
           ],
           "sequentialminus": [
            [
             0,
             "#0d0887"
            ],
            [
             0.1111111111111111,
             "#46039f"
            ],
            [
             0.2222222222222222,
             "#7201a8"
            ],
            [
             0.3333333333333333,
             "#9c179e"
            ],
            [
             0.4444444444444444,
             "#bd3786"
            ],
            [
             0.5555555555555556,
             "#d8576b"
            ],
            [
             0.6666666666666666,
             "#ed7953"
            ],
            [
             0.7777777777777778,
             "#fb9f3a"
            ],
            [
             0.8888888888888888,
             "#fdca26"
            ],
            [
             1,
             "#f0f921"
            ]
           ]
          },
          "colorway": [
           "#636efa",
           "#EF553B",
           "#00cc96",
           "#ab63fa",
           "#FFA15A",
           "#19d3f3",
           "#FF6692",
           "#B6E880",
           "#FF97FF",
           "#FECB52"
          ],
          "font": {
           "color": "#2a3f5f"
          },
          "geo": {
           "bgcolor": "white",
           "lakecolor": "white",
           "landcolor": "white",
           "showlakes": true,
           "showland": true,
           "subunitcolor": "#C8D4E3"
          },
          "hoverlabel": {
           "align": "left"
          },
          "hovermode": "closest",
          "mapbox": {
           "style": "light"
          },
          "paper_bgcolor": "white",
          "plot_bgcolor": "white",
          "polar": {
           "angularaxis": {
            "gridcolor": "#EBF0F8",
            "linecolor": "#EBF0F8",
            "ticks": ""
           },
           "bgcolor": "white",
           "radialaxis": {
            "gridcolor": "#EBF0F8",
            "linecolor": "#EBF0F8",
            "ticks": ""
           }
          },
          "scene": {
           "xaxis": {
            "backgroundcolor": "white",
            "gridcolor": "#DFE8F3",
            "gridwidth": 2,
            "linecolor": "#EBF0F8",
            "showbackground": true,
            "ticks": "",
            "zerolinecolor": "#EBF0F8"
           },
           "yaxis": {
            "backgroundcolor": "white",
            "gridcolor": "#DFE8F3",
            "gridwidth": 2,
            "linecolor": "#EBF0F8",
            "showbackground": true,
            "ticks": "",
            "zerolinecolor": "#EBF0F8"
           },
           "zaxis": {
            "backgroundcolor": "white",
            "gridcolor": "#DFE8F3",
            "gridwidth": 2,
            "linecolor": "#EBF0F8",
            "showbackground": true,
            "ticks": "",
            "zerolinecolor": "#EBF0F8"
           }
          },
          "shapedefaults": {
           "line": {
            "color": "#2a3f5f"
           }
          },
          "ternary": {
           "aaxis": {
            "gridcolor": "#DFE8F3",
            "linecolor": "#A2B1C6",
            "ticks": ""
           },
           "baxis": {
            "gridcolor": "#DFE8F3",
            "linecolor": "#A2B1C6",
            "ticks": ""
           },
           "bgcolor": "white",
           "caxis": {
            "gridcolor": "#DFE8F3",
            "linecolor": "#A2B1C6",
            "ticks": ""
           }
          },
          "title": {
           "x": 0.05
          },
          "xaxis": {
           "automargin": true,
           "gridcolor": "#EBF0F8",
           "linecolor": "#EBF0F8",
           "ticks": "",
           "title": {
            "standoff": 15
           },
           "zerolinecolor": "#EBF0F8",
           "zerolinewidth": 2
          },
          "yaxis": {
           "automargin": true,
           "gridcolor": "#EBF0F8",
           "linecolor": "#EBF0F8",
           "ticks": "",
           "title": {
            "standoff": 15
           },
           "zerolinecolor": "#EBF0F8",
           "zerolinewidth": 2
          }
         }
        },
        "title": {
         "text": "Top 10 Companies by Revenue in France (1995-2023)"
        },
        "updatemenus": [
         {
          "buttons": [
           {
            "args": [
             null,
             {
              "frame": {
               "duration": 500,
               "redraw": true
              },
              "fromcurrent": true,
              "mode": "immediate",
              "transition": {
               "duration": 500,
               "easing": "linear"
              }
             }
            ],
            "label": "&#9654;",
            "method": "animate"
           },
           {
            "args": [
             [
              null
             ],
             {
              "frame": {
               "duration": 0,
               "redraw": true
              },
              "fromcurrent": true,
              "mode": "immediate",
              "transition": {
               "duration": 0,
               "easing": "linear"
              }
             }
            ],
            "label": "&#9724;",
            "method": "animate"
           }
          ],
          "direction": "left",
          "pad": {
           "r": 10,
           "t": 70
          },
          "showactive": false,
          "type": "buttons",
          "x": 0.1,
          "xanchor": "right",
          "y": 0,
          "yanchor": "top"
         }
        ],
        "width": 1800,
        "xaxis": {
         "anchor": "y",
         "categoryorder": "total ascending",
         "domain": [
          0,
          1
         ],
         "range": [
          0,
          289641
         ],
         "title": {
          "text": "Revenues in $M"
         }
        },
        "yaxis": {
         "anchor": "x",
         "domain": [
          0,
          1
         ],
         "title": {
          "text": "Company"
         }
        }
       }
      }
     },
     "metadata": {},
     "output_type": "display_data"
    }
   ],
   "source": [
    "import os\n",
    "import plotly.express as px\n",
    "\n",
    "# Define the logo mapping\n",
    "logo_mapping = {\n",
    "    'Carrefour': r'C:\\Users\\soula\\Desktop\\Projects\\Race_chart\\Logos\\Carrefour.png',\n",
    "    'AXA': r'C:\\Users\\soula\\Desktop\\Projects\\Race_chart\\Logos\\AXA.png',\n",
    "    'TotalEnergies': r'C:\\Users\\soula\\Desktop\\Projects\\Race_chart\\Logos\\TotalEnergies.png',\n",
    "    'BNP Paribas': r'C:\\Users\\soula\\Desktop\\Projects\\Race_chart\\Logos\\BNP_Paribas.png',\n",
    "    'Renault': r'C:\\Users\\soula\\Desktop\\Projects\\Race_chart\\Logos\\Renault.png',\n",
    "    'Electricite de France': r'C:\\Users\\soula\\Desktop\\Projects\\Race_chart\\Logos\\EDF.png',\n",
    "    'Peugeot': r'C:\\Users\\soula\\Desktop\\Projects\\Race_chart\\Logos\\Peugeot.png',\n",
    "    'Engie': r'C:\\Users\\soula\\Desktop\\Projects\\Race_chart\\Logos\\Engie.png',\n",
    "    'Credit Agricole': r'C:\\Users\\soula\\Desktop\\Projects\\Race_chart\\Logos\\Credit_Agricole.png',\n",
    "    'Societe Generale': r'C:\\Users\\soula\\Desktop\\Projects\\Race_chart\\Logos\\Societe_Generale.png',\n",
    "    'Compagnie de Saint-Gobain': r'C:\\Users\\soula\\Desktop\\Projects\\Race_chart\\Logos\\Compagnie_de_Saint_Gobain.png',\n",
    "    'Suez': r'C:\\Users\\soula\\Desktop\\Projects\\Race_chart\\Logos\\Suez.png',\n",
    "    'Groupe Auchan': r'C:\\Users\\soula\\Desktop\\Projects\\Race_chart\\Logos\\Groupe_Auchan.png',\n",
    "    'Groupe BPCE': r'C:\\Users\\soula\\Desktop\\Projects\\Race_chart\\Logos\\Groupe8BPCE.png',\n",
    "    'Elf Aquitaine': r'C:\\Users\\soula\\Desktop\\Projects\\Race_chart\\Logos\\Elf8Aquitaine.png',\n",
    "    'Credit Agricole Group': r'C:\\Users\\soula\\Desktop\\Projects\\Race_chart\\Logos\\Credit_Agricole.png',\n",
    "    'Credit Nationale de Credit Agricole': r'C:\\Users\\soula\\Desktop\\Projects\\Race_chart\\Logos\\Credit_Agricole.png',\n",
    "    'CNP Assurances': r'C:\\Users\\soula\\Desktop\\Projects\\Race_chart\\Logos\\CNP.png',\n",
    "    'France Telecom SA': r'C:\\Users\\soula\\Desktop\\Projects\\Race_chart\\Logos\\France_telecome.png',\n",
    "    'Christian Dior': r'C:\\Users\\soula\\Desktop\\Projects\\Race_chart\\Logos\\Christian_Dior.png',\n",
    "    'GDF Suez SA': r'C:\\Users\\soula\\Desktop\\Projects\\Race_chart\\Logos\\GDF_Suez_SA.png.png',\n",
    "    'Veolia Environnement': r'C:\\Users\\soula\\Desktop\\Projects\\Race_chart\\Logos\\Violia.png',\n",
    "    'Total Fina Elf S.A.': r'C:\\Users\\soula\\Desktop\\Projects\\Race_chart\\Logos\\TotalEnergies.png',\n",
    "    'Vivendi Universal S.A.': r'C:\\Users\\soula\\Desktop\\Projects\\Race_chart\\Logos\\Vivendi_uni.png',\n",
    "    'Union Des Assurances de Paris': r'C:\\Users\\soula\\Desktop\\Projects\\Race_chart\\Logos\\UAP.png',\n",
    "    'Suez Lyonnaise des Eaux': r'C:\\Users\\soula\\Desktop\\Projects\\Race_chart\\Logos\\Suez_eaux_Lyonaise.png',\n",
    "    'Compagnie Generale des Eaux': r'C:\\Users\\soula\\Desktop\\Projects\\Race_chart\\Logos\\Compagnie_Generale_des_Eaux.png',\n",
    "    'Vinci': r'C:\\Users\\soula\\Desktop\\Projects\\Race_chart\\Logos\\Vinci.png',\n",
    "    'Orange': r'C:\\Users\\soula\\Desktop\\Projects\\Race_chart\\Logos\\Orange.png',\n",
    "    'Alcatel Alsthom Group': r'C:\\Users\\soula\\Desktop\\Projects\\Race_chart\\Logos\\ALcatel_Alsthom.png',\n",
    "    'Gan': r'C:\\Users\\soula\\Desktop\\Projects\\Race_chart\\Logos\\Gan.png',\n",
    "    'ELO Group': r'C:\\Users\\soula\\Desktop\\Projects\\Race_chart\\Logos\\ELO.png',\n",
    "    'PSA Peugeot Citroen S.A.': r'C:\\Users\\soula\\Desktop\\Projects\\Race_chart\\Logos\\PSA.png',\n",
    "    'Les Caisses d\\'epargne et de Prevoyance': r'C:\\Users\\soula\\Desktop\\Projects\\Race_chart\\Logos\\Caisse_d_epatgne.png',\n",
    "    'Credit Lyonais': r'C:\\Users\\soula\\Desktop\\Projects\\Race_chart\\Logos\\Credit_Lyonais.png',\n",
    "}\n",
    "\n",
    "# Filter top 10 companies for each year\n",
    "df['Rank'] = df.groupby('Year')['Revenues ($M)'].rank(method='first', ascending=False)\n",
    "top10_df = df[df['Rank'] <= 10].sort_values(by=['Year', 'Rank'], ascending=[True, False])  # Sort in reverse order\n",
    "\n",
    "# Create the race chart using Plotly\n",
    "fig = px.bar(top10_df, \n",
    "             x='Revenues ($M)', \n",
    "             y='Name', \n",
    "             animation_frame='Year', \n",
    "             animation_group='Name', \n",
    "             range_x=[0, top10_df['Revenues ($M)'].max() * 1.1],\n",
    "             orientation='h',\n",
    "             labels={'Revenues ($M)': 'Revenues in $M', 'Name': 'Company'},\n",
    "             title='Top 10 Companies by Revenue in France (1995-2023)',\n",
    "             template='plotly_white')\n",
    "\n",
    "fig.update_layout(xaxis={'categoryorder':'total ascending'},\n",
    "                  height=600,  # Adjust the height of the figure\n",
    "                  width=1800)   # Adjust the width of the figure\n",
    "\n",
    "# Add annotations for logos next to company names\n",
    "for company, logo_path in logo_mapping.items():\n",
    "    if company in top10_df['Name'].unique() and os.path.exists(logo_path):\n",
    "        # Find the position of the company in the y-axis\n",
    "        y_position = top10_df[top10_df['Name'] == company].index[0]\n",
    "        # Add annotation with the logo\n",
    "        fig.add_layout_image(\n",
    "            source=logo_path,\n",
    "            x=0,\n",
    "            y=y_position,\n",
    "            xref=\"x\",\n",
    "            yref=\"y\",\n",
    "            sizex=0.1,\n",
    "            sizey=0.1,\n",
    "            xanchor=\"left\",\n",
    "            yanchor=\"middle\",\n",
    "            opacity=1,\n",
    "            layer=\"below\"\n",
    "        )\n",
    "\n",
    "fig.show()"
   ]
  }
 ],
 "metadata": {
  "kernelspec": {
   "display_name": "Python 3",
   "language": "python",
   "name": "python3"
  },
  "language_info": {
   "codemirror_mode": {
    "name": "ipython",
    "version": 3
   },
   "file_extension": ".py",
   "mimetype": "text/x-python",
   "name": "python",
   "nbconvert_exporter": "python",
   "pygments_lexer": "ipython3",
   "version": "3.12.2"
  }
 },
 "nbformat": 4,
 "nbformat_minor": 2
}
